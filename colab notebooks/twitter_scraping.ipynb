{
  "nbformat": 4,
  "nbformat_minor": 0,
  "metadata": {
    "colab": {
      "name": "twitter_scraping.ipynb",
      "provenance": [],
      "collapsed_sections": []
    },
    "kernelspec": {
      "name": "python3",
      "display_name": "Python 3"
    },
    "language_info": {
      "name": "python"
    }
  },
  "cells": [
    {
      "cell_type": "markdown",
      "metadata": {
        "id": "Mev3n1zEveXS"
      },
      "source": [
        "# Twitter scraping and preprocessing of the data for Waseem\n",
        "In this notebook Twitter scraping based on having only tweet ids is done. Some of the preprocessing of the data is done as well, such as dropping the id column, dropping the rows of the tweets that API could not retrieve (deleted tweets, suspended / deleted accounts). \n",
        "\n",
        "This is a separate file because extracting tweets from Twitter takes a really long time."
      ]
    },
    {
      "cell_type": "markdown",
      "metadata": {
        "id": "2xU7RCLxwRe2"
      },
      "source": [
        "The first step in our process includes simply retrieiving the data set in question. In this case, Waseem. "
      ]
    },
    {
      "cell_type": "code",
      "metadata": {
        "colab": {
          "base_uri": "https://localhost:8080/",
          "height": 419
        },
        "id": "kcQWmXxDvI0v",
        "outputId": "a54e3d81-cbe9-4356-a1ec-8609534ff308"
      },
      "source": [
        "import pandas as pd\n",
        "import csv\n",
        "url_waseem_data = \"https://raw.githubusercontent.com/zeeraktalat/hatespeech/master/NAACL_SRW_2016.csv\"\n",
        "df_waseem = pd.read_csv(url_waseem_data)\n",
        "df_waseem.columns = [\"tweet\", \"class_label\"]\n",
        "df_waseem"
      ],
      "execution_count": 2,
      "outputs": [
        {
          "output_type": "execute_result",
          "data": {
            "text/html": [
              "<div>\n",
              "<style scoped>\n",
              "    .dataframe tbody tr th:only-of-type {\n",
              "        vertical-align: middle;\n",
              "    }\n",
              "\n",
              "    .dataframe tbody tr th {\n",
              "        vertical-align: top;\n",
              "    }\n",
              "\n",
              "    .dataframe thead th {\n",
              "        text-align: right;\n",
              "    }\n",
              "</style>\n",
              "<table border=\"1\" class=\"dataframe\">\n",
              "  <thead>\n",
              "    <tr style=\"text-align: right;\">\n",
              "      <th></th>\n",
              "      <th>tweet</th>\n",
              "      <th>class_label</th>\n",
              "    </tr>\n",
              "  </thead>\n",
              "  <tbody>\n",
              "    <tr>\n",
              "      <th>0</th>\n",
              "      <td>572341498827522049</td>\n",
              "      <td>racism</td>\n",
              "    </tr>\n",
              "    <tr>\n",
              "      <th>1</th>\n",
              "      <td>572340476503724032</td>\n",
              "      <td>racism</td>\n",
              "    </tr>\n",
              "    <tr>\n",
              "      <th>2</th>\n",
              "      <td>572334712804384768</td>\n",
              "      <td>racism</td>\n",
              "    </tr>\n",
              "    <tr>\n",
              "      <th>3</th>\n",
              "      <td>572332655397629952</td>\n",
              "      <td>racism</td>\n",
              "    </tr>\n",
              "    <tr>\n",
              "      <th>4</th>\n",
              "      <td>575949086055997440</td>\n",
              "      <td>racism</td>\n",
              "    </tr>\n",
              "    <tr>\n",
              "      <th>...</th>\n",
              "      <td>...</td>\n",
              "      <td>...</td>\n",
              "    </tr>\n",
              "    <tr>\n",
              "      <th>16901</th>\n",
              "      <td>576359685843861505</td>\n",
              "      <td>none</td>\n",
              "    </tr>\n",
              "    <tr>\n",
              "      <th>16902</th>\n",
              "      <td>576612926838046720</td>\n",
              "      <td>none</td>\n",
              "    </tr>\n",
              "    <tr>\n",
              "      <th>16903</th>\n",
              "      <td>576771329975664640</td>\n",
              "      <td>none</td>\n",
              "    </tr>\n",
              "    <tr>\n",
              "      <th>16904</th>\n",
              "      <td>560595245814267905</td>\n",
              "      <td>none</td>\n",
              "    </tr>\n",
              "    <tr>\n",
              "      <th>16905</th>\n",
              "      <td>569363477095174145</td>\n",
              "      <td>none</td>\n",
              "    </tr>\n",
              "  </tbody>\n",
              "</table>\n",
              "<p>16906 rows × 2 columns</p>\n",
              "</div>"
            ],
            "text/plain": [
              "                    tweet class_label\n",
              "0      572341498827522049      racism\n",
              "1      572340476503724032      racism\n",
              "2      572334712804384768      racism\n",
              "3      572332655397629952      racism\n",
              "4      575949086055997440      racism\n",
              "...                   ...         ...\n",
              "16901  576359685843861505        none\n",
              "16902  576612926838046720        none\n",
              "16903  576771329975664640        none\n",
              "16904  560595245814267905        none\n",
              "16905  569363477095174145        none\n",
              "\n",
              "[16906 rows x 2 columns]"
            ]
          },
          "metadata": {},
          "execution_count": 2
        }
      ]
    },
    {
      "cell_type": "markdown",
      "metadata": {
        "id": "vGIRMNJ5wg9Q"
      },
      "source": [
        "# Twitter scraping\n",
        "In this section, we will get the tweets having only tweet ids from Twitter using tweepy. This was a very challenging task because Twitter is very protective about authentication process. We tried multiple methods on how this can be done:\n",
        "\n",
        "\n",
        "1.   Using tweepy and get_status\n",
        "2.   Using TwitterAPI\n",
        "3.   Using tweepy's Client.\n",
        "4.   Using web scraping techniques (using Beautiful Soup or lxml).\n",
        "\n",
        "At first options 1 and 2 did not work because we did not have access to Twitter Elevated Account (we only had basic one which is called Essential) which is required to retieve tweet content from the id. We applied for the account and it got rejected. We had to reappeal in order to gain access and it took multiple days. In the meantime, we hopelessly searched for other alternatives. Option 3 did not work because it required v4 of tweepy that is still in the development (more to read about this issue [here](https://stackoverflow.com/questions/67978717/tweepy-3-10-0-attributeerror-module-tweepy-has-no-attribute-client) ). The last technique also did not work because of how protective Twitter is of the data. \n",
        "\n"
      ]
    },
    {
      "cell_type": "code",
      "metadata": {
        "colab": {
          "base_uri": "https://localhost:8080/"
        },
        "id": "iOnRcfzLx6ad",
        "outputId": "c3dfc283-5585-449f-886f-d15a917369e0"
      },
      "source": [
        "!pip3 install tweepy"
      ],
      "execution_count": 3,
      "outputs": [
        {
          "output_type": "stream",
          "name": "stdout",
          "text": [
            "Requirement already satisfied: tweepy in /usr/local/lib/python3.7/dist-packages (3.10.0)\n",
            "Requirement already satisfied: requests[socks]>=2.11.1 in /usr/local/lib/python3.7/dist-packages (from tweepy) (2.23.0)\n",
            "Requirement already satisfied: requests-oauthlib>=0.7.0 in /usr/local/lib/python3.7/dist-packages (from tweepy) (1.3.0)\n",
            "Requirement already satisfied: six>=1.10.0 in /usr/local/lib/python3.7/dist-packages (from tweepy) (1.15.0)\n",
            "Requirement already satisfied: oauthlib>=3.0.0 in /usr/local/lib/python3.7/dist-packages (from requests-oauthlib>=0.7.0->tweepy) (3.1.1)\n",
            "Requirement already satisfied: idna<3,>=2.5 in /usr/local/lib/python3.7/dist-packages (from requests[socks]>=2.11.1->tweepy) (2.10)\n",
            "Requirement already satisfied: urllib3!=1.25.0,!=1.25.1,<1.26,>=1.21.1 in /usr/local/lib/python3.7/dist-packages (from requests[socks]>=2.11.1->tweepy) (1.24.3)\n",
            "Requirement already satisfied: chardet<4,>=3.0.2 in /usr/local/lib/python3.7/dist-packages (from requests[socks]>=2.11.1->tweepy) (3.0.4)\n",
            "Requirement already satisfied: certifi>=2017.4.17 in /usr/local/lib/python3.7/dist-packages (from requests[socks]>=2.11.1->tweepy) (2021.10.8)\n",
            "Requirement already satisfied: PySocks!=1.5.7,>=1.5.6 in /usr/local/lib/python3.7/dist-packages (from requests[socks]>=2.11.1->tweepy) (1.7.1)\n"
          ]
        }
      ]
    },
    {
      "cell_type": "code",
      "metadata": {
        "id": "kM1_-Mg4yWzA"
      },
      "source": [
        "import tweepy\n",
        "# The keys were replaced with empty strings for the protection of privacy on Github\n",
        "consumer_key = \"\"\n",
        "consumer_secret = \"\"\n",
        "access_token = \"\"\n",
        "access_token_secret = \"\"\n",
        "  \n",
        "# authorization of consumer key and consumer secret\n",
        "auth = tweepy.OAuthHandler(consumer_key, consumer_secret)\n",
        "  \n",
        "# set access to user's access key and access secret \n",
        "auth.set_access_token(access_token, access_token_secret)\n",
        "  \n",
        "# calling the api \n",
        "api = tweepy.API(auth)"
      ],
      "execution_count": 4,
      "outputs": []
    },
    {
      "cell_type": "code",
      "metadata": {
        "id": "gWMIe4KPy7ZZ"
      },
      "source": [
        "def get_tweet_text(id):\n",
        "  try:\n",
        "    status = api.get_status(id)\n",
        "    return status.text\n",
        "  except Exception:\n",
        "    return \"ERROR\""
      ],
      "execution_count": 5,
      "outputs": []
    },
    {
      "cell_type": "markdown",
      "metadata": {
        "id": "cUtuhGDhzPK-"
      },
      "source": [
        "Here we show how the function get_tweet_text works on one tweet:"
      ]
    },
    {
      "cell_type": "code",
      "metadata": {
        "colab": {
          "base_uri": "https://localhost:8080/"
        },
        "id": "D9fTcG8rzZ7h",
        "outputId": "313be4cd-123a-48e9-f4fd-14d75cdc515e"
      },
      "source": [
        "print(get_tweet_text(572341498827522049))"
      ],
      "execution_count": 6,
      "outputs": [
        {
          "output_type": "stream",
          "name": "stdout",
          "text": [
            "Drasko they didn't cook half a bird you idiot #mkr\n"
          ]
        }
      ]
    },
    {
      "cell_type": "markdown",
      "metadata": {
        "id": "IbhLCU3AzvTH"
      },
      "source": [
        "# Waseem data \n",
        "In this section we will transform Waseem dataset to contain the tweet text as well using the function defined above."
      ]
    },
    {
      "cell_type": "code",
      "metadata": {
        "id": "xkgqG2OKzuea"
      },
      "source": [
        "df_waseem[\"text\"] = df_waseem.tweet.apply(lambda x: get_tweet_text(x))"
      ],
      "execution_count": null,
      "outputs": []
    },
    {
      "cell_type": "markdown",
      "metadata": {
        "id": "6FUb_aiN0jI-"
      },
      "source": [
        "In this step we do some of the preprocessing of the data. We drop the error rows, make sure text column is before class_label column, and drop id column. "
      ]
    },
    {
      "cell_type": "code",
      "metadata": {
        "id": "jDEYiP1I08qO"
      },
      "source": [
        "df_waseem = df_waseem[df_waseem.text != 'ERROR'] # drop error rows\n",
        "columns_titles = [\"text\",\"class_label\"] # swap the columns order and drop id column \n",
        "df_waseem=df_waseem.reindex(columns=columns_titles)"
      ],
      "execution_count": null,
      "outputs": []
    },
    {
      "cell_type": "markdown",
      "metadata": {
        "id": "Zv3R6U_j1rfC"
      },
      "source": [
        "In the last step we save csv file. "
      ]
    },
    {
      "cell_type": "code",
      "metadata": {
        "id": "zdD5_sf_1qew"
      },
      "source": [
        "df_waseem.to_csv(\"df_waseem_preprocessed.csv\", sep=' ')"
      ],
      "execution_count": null,
      "outputs": []
    },
    {
      "cell_type": "markdown",
      "metadata": {
        "id": "WxN7v6gr_vj1"
      },
      "source": [
        "# Founta Dataset\n",
        "In this section we will transform **Founta** dataset to contain the tweet text as well using the function defined above."
      ]
    },
    {
      "cell_type": "code",
      "metadata": {
        "id": "Uu7mpNdcCC2y"
      },
      "source": [
        "import pandas as pd\n",
        "import csv\n",
        "url_founta_data = \"https://raw.githubusercontent.com/ENCASEH2020/hatespeech-twitter/master/hatespeech_labels.csv\"\n",
        "df_founta = pd.read_csv(url_founta_data)\n",
        "df_founta.columns = [\"tweet\", \"class_label\"]"
      ],
      "execution_count": 7,
      "outputs": []
    },
    {
      "cell_type": "code",
      "metadata": {
        "id": "dyA2a1dAC2a6"
      },
      "source": [
        "df_founta[\"text\"] = df_founta.tweet.apply(lambda x: get_tweet_text(x))"
      ],
      "execution_count": 8,
      "outputs": []
    },
    {
      "cell_type": "code",
      "metadata": {
        "colab": {
          "base_uri": "https://localhost:8080/",
          "height": 419
        },
        "id": "1Ef-CD4nC_Br",
        "outputId": "0ae903fd-f6af-443a-b0a3-af93f280c1da"
      },
      "source": [
        "df_founta"
      ],
      "execution_count": 9,
      "outputs": [
        {
          "output_type": "execute_result",
          "data": {
            "text/html": [
              "<div>\n",
              "<style scoped>\n",
              "    .dataframe tbody tr th:only-of-type {\n",
              "        vertical-align: middle;\n",
              "    }\n",
              "\n",
              "    .dataframe tbody tr th {\n",
              "        vertical-align: top;\n",
              "    }\n",
              "\n",
              "    .dataframe thead th {\n",
              "        text-align: right;\n",
              "    }\n",
              "</style>\n",
              "<table border=\"1\" class=\"dataframe\">\n",
              "  <thead>\n",
              "    <tr style=\"text-align: right;\">\n",
              "      <th></th>\n",
              "      <th>tweet</th>\n",
              "      <th>class_label</th>\n",
              "      <th>text</th>\n",
              "    </tr>\n",
              "  </thead>\n",
              "  <tbody>\n",
              "    <tr>\n",
              "      <th>0</th>\n",
              "      <td>849667487180259329</td>\n",
              "      <td>abusive</td>\n",
              "      <td>ERROR</td>\n",
              "    </tr>\n",
              "    <tr>\n",
              "      <th>1</th>\n",
              "      <td>850490912954351616</td>\n",
              "      <td>abusive</td>\n",
              "      <td>Alex Brosas another idiot #ALDUBKSGoesToUS  ht...</td>\n",
              "    </tr>\n",
              "    <tr>\n",
              "      <th>2</th>\n",
              "      <td>848791766853668864</td>\n",
              "      <td>abusive</td>\n",
              "      <td>RT @ItIzBiz: as Nancy Reagan would say, 'just ...</td>\n",
              "    </tr>\n",
              "    <tr>\n",
              "      <th>3</th>\n",
              "      <td>848306464892604416</td>\n",
              "      <td>abusive</td>\n",
              "      <td>ERROR</td>\n",
              "    </tr>\n",
              "    <tr>\n",
              "      <th>4</th>\n",
              "      <td>850010509969465344</td>\n",
              "      <td>normal</td>\n",
              "      <td>RT @MailOnline: The Nazi death gas so horrific...</td>\n",
              "    </tr>\n",
              "    <tr>\n",
              "      <th>...</th>\n",
              "      <td>...</td>\n",
              "      <td>...</td>\n",
              "      <td>...</td>\n",
              "    </tr>\n",
              "    <tr>\n",
              "      <th>99794</th>\n",
              "      <td>848922176128376832</td>\n",
              "      <td>hateful</td>\n",
              "      <td>ERROR</td>\n",
              "    </tr>\n",
              "    <tr>\n",
              "      <th>99795</th>\n",
              "      <td>849405078956109829</td>\n",
              "      <td>abusive</td>\n",
              "      <td>ERROR</td>\n",
              "    </tr>\n",
              "    <tr>\n",
              "      <th>99796</th>\n",
              "      <td>847981251143254016</td>\n",
              "      <td>normal</td>\n",
              "      <td>ERROR</td>\n",
              "    </tr>\n",
              "    <tr>\n",
              "      <th>99797</th>\n",
              "      <td>850180983253073920</td>\n",
              "      <td>abusive</td>\n",
              "      <td>ERROR</td>\n",
              "    </tr>\n",
              "    <tr>\n",
              "      <th>99798</th>\n",
              "      <td>849515175254405120</td>\n",
              "      <td>abusive</td>\n",
              "      <td>ERROR</td>\n",
              "    </tr>\n",
              "  </tbody>\n",
              "</table>\n",
              "<p>99799 rows × 3 columns</p>\n",
              "</div>"
            ],
            "text/plain": [
              "                    tweet  ...                                               text\n",
              "0      849667487180259329  ...                                              ERROR\n",
              "1      850490912954351616  ...  Alex Brosas another idiot #ALDUBKSGoesToUS  ht...\n",
              "2      848791766853668864  ...  RT @ItIzBiz: as Nancy Reagan would say, 'just ...\n",
              "3      848306464892604416  ...                                              ERROR\n",
              "4      850010509969465344  ...  RT @MailOnline: The Nazi death gas so horrific...\n",
              "...                   ...  ...                                                ...\n",
              "99794  848922176128376832  ...                                              ERROR\n",
              "99795  849405078956109829  ...                                              ERROR\n",
              "99796  847981251143254016  ...                                              ERROR\n",
              "99797  850180983253073920  ...                                              ERROR\n",
              "99798  849515175254405120  ...                                              ERROR\n",
              "\n",
              "[99799 rows x 3 columns]"
            ]
          },
          "metadata": {},
          "execution_count": 9
        }
      ]
    },
    {
      "cell_type": "code",
      "metadata": {
        "id": "N4ZslKbeDBNA",
        "colab": {
          "base_uri": "https://localhost:8080/",
          "height": 419
        },
        "outputId": "ddfd9940-31a3-47cb-d42c-0b0e163b4fe9"
      },
      "source": [
        "df_founta = df_founta[df_founta.text != 'ERROR'] # drop error rows\n",
        "columns_titles = [\"text\",\"class_label\"] # swap the columns order and drop id column \n",
        "df_founta = df_founta.reindex(columns=columns_titles)\n",
        "df_founta"
      ],
      "execution_count": 12,
      "outputs": [
        {
          "output_type": "execute_result",
          "data": {
            "text/html": [
              "<div>\n",
              "<style scoped>\n",
              "    .dataframe tbody tr th:only-of-type {\n",
              "        vertical-align: middle;\n",
              "    }\n",
              "\n",
              "    .dataframe tbody tr th {\n",
              "        vertical-align: top;\n",
              "    }\n",
              "\n",
              "    .dataframe thead th {\n",
              "        text-align: right;\n",
              "    }\n",
              "</style>\n",
              "<table border=\"1\" class=\"dataframe\">\n",
              "  <thead>\n",
              "    <tr style=\"text-align: right;\">\n",
              "      <th></th>\n",
              "      <th>text</th>\n",
              "      <th>class_label</th>\n",
              "    </tr>\n",
              "  </thead>\n",
              "  <tbody>\n",
              "    <tr>\n",
              "      <th>1</th>\n",
              "      <td>Alex Brosas another idiot #ALDUBKSGoesToUS  ht...</td>\n",
              "      <td>abusive</td>\n",
              "    </tr>\n",
              "    <tr>\n",
              "      <th>2</th>\n",
              "      <td>RT @ItIzBiz: as Nancy Reagan would say, 'just ...</td>\n",
              "      <td>abusive</td>\n",
              "    </tr>\n",
              "    <tr>\n",
              "      <th>4</th>\n",
              "      <td>RT @MailOnline: The Nazi death gas so horrific...</td>\n",
              "      <td>normal</td>\n",
              "    </tr>\n",
              "    <tr>\n",
              "      <th>5</th>\n",
              "      <td>I hate er chase because if the Bitch that work...</td>\n",
              "      <td>hateful</td>\n",
              "    </tr>\n",
              "    <tr>\n",
              "      <th>16</th>\n",
              "      <td>But he still with the shits so he started smok...</td>\n",
              "      <td>abusive</td>\n",
              "    </tr>\n",
              "    <tr>\n",
              "      <th>...</th>\n",
              "      <td>...</td>\n",
              "      <td>...</td>\n",
              "    </tr>\n",
              "    <tr>\n",
              "      <th>88138</th>\n",
              "      <td>I reeaallyy fucking don't but if you think I'm...</td>\n",
              "      <td>abusive</td>\n",
              "    </tr>\n",
              "    <tr>\n",
              "      <th>88139</th>\n",
              "      <td>RT @DavidFurstNYT: Today's Pano-8 spread in th...</td>\n",
              "      <td>normal</td>\n",
              "    </tr>\n",
              "    <tr>\n",
              "      <th>88145</th>\n",
              "      <td>Me: GIVE ME MY FUCKING SANDWHICH https://t.co/...</td>\n",
              "      <td>abusive</td>\n",
              "    </tr>\n",
              "    <tr>\n",
              "      <th>88156</th>\n",
              "      <td>I CANT GET OVER THESE FUCKING PHOTOS EVERY TIM...</td>\n",
              "      <td>abusive</td>\n",
              "    </tr>\n",
              "    <tr>\n",
              "      <th>92300</th>\n",
              "      <td>RT @prozdkp: when you're mad at video games bu...</td>\n",
              "      <td>normal</td>\n",
              "    </tr>\n",
              "  </tbody>\n",
              "</table>\n",
              "<p>4086 rows × 2 columns</p>\n",
              "</div>"
            ],
            "text/plain": [
              "                                                    text class_label\n",
              "1      Alex Brosas another idiot #ALDUBKSGoesToUS  ht...     abusive\n",
              "2      RT @ItIzBiz: as Nancy Reagan would say, 'just ...     abusive\n",
              "4      RT @MailOnline: The Nazi death gas so horrific...      normal\n",
              "5      I hate er chase because if the Bitch that work...     hateful\n",
              "16     But he still with the shits so he started smok...     abusive\n",
              "...                                                  ...         ...\n",
              "88138  I reeaallyy fucking don't but if you think I'm...     abusive\n",
              "88139  RT @DavidFurstNYT: Today's Pano-8 spread in th...      normal\n",
              "88145  Me: GIVE ME MY FUCKING SANDWHICH https://t.co/...     abusive\n",
              "88156  I CANT GET OVER THESE FUCKING PHOTOS EVERY TIM...     abusive\n",
              "92300  RT @prozdkp: when you're mad at video games bu...      normal\n",
              "\n",
              "[4086 rows x 2 columns]"
            ]
          },
          "metadata": {},
          "execution_count": 12
        }
      ]
    },
    {
      "cell_type": "code",
      "metadata": {
        "id": "-vExbuj2DVSV"
      },
      "source": [
        "df_founta.to_csv(\"df_founta_preprocessed.csv\", sep=' ')"
      ],
      "execution_count": 13,
      "outputs": []
    }
  ]
}