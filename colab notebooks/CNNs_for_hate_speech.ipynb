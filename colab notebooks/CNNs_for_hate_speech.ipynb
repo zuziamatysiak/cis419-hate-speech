{
  "nbformat": 4,
  "nbformat_minor": 0,
  "metadata": {
    "colab": {
      "name": "CNNs for hate speech.ipynb",
      "provenance": []
    },
    "kernelspec": {
      "name": "python3",
      "display_name": "Python 3"
    },
    "language_info": {
      "name": "python"
    }
  },
  "cells": [
    {
      "cell_type": "code",
      "metadata": {
        "colab": {
          "base_uri": "https://localhost:8080/",
          "height": 419
        },
        "id": "w4GMTCxhOwO4",
        "outputId": "810d155d-6ec6-422c-fa63-050c6c387198"
      },
      "source": [
        "import pandas as pd\n",
        "import csv\n",
        "df_dav = pd.read_csv('/content/df_davs.csv', sep=' ')\n",
        "df_dav = df_dav.drop([\"hate_speech\", \"count\", \"offensive_language\", \"neither\"], axis = 1)\n",
        "df_dav=df_dav.reindex(columns=['tweet', 'class'])\n",
        "df_dav"
      ],
      "execution_count": 169,
      "outputs": [
        {
          "output_type": "execute_result",
          "data": {
            "text/html": [
              "<div>\n",
              "<style scoped>\n",
              "    .dataframe tbody tr th:only-of-type {\n",
              "        vertical-align: middle;\n",
              "    }\n",
              "\n",
              "    .dataframe tbody tr th {\n",
              "        vertical-align: top;\n",
              "    }\n",
              "\n",
              "    .dataframe thead th {\n",
              "        text-align: right;\n",
              "    }\n",
              "</style>\n",
              "<table border=\"1\" class=\"dataframe\">\n",
              "  <thead>\n",
              "    <tr style=\"text-align: right;\">\n",
              "      <th></th>\n",
              "      <th>tweet</th>\n",
              "      <th>class</th>\n",
              "    </tr>\n",
              "  </thead>\n",
              "  <tbody>\n",
              "    <tr>\n",
              "      <th>0</th>\n",
              "      <td>As a woman you shouldnt complain about cleani...</td>\n",
              "      <td>2</td>\n",
              "    </tr>\n",
              "    <tr>\n",
              "      <th>1</th>\n",
              "      <td>boy dats coldtyga dwn bad for cuffin dat hoe ...</td>\n",
              "      <td>1</td>\n",
              "    </tr>\n",
              "    <tr>\n",
              "      <th>2</th>\n",
              "      <td>Dawg RT You ever fuck a bitch and she start t...</td>\n",
              "      <td>1</td>\n",
              "    </tr>\n",
              "    <tr>\n",
              "      <th>3</th>\n",
              "      <td>she look like a tranny</td>\n",
              "      <td>1</td>\n",
              "    </tr>\n",
              "    <tr>\n",
              "      <th>4</th>\n",
              "      <td>The shit you hear about me might be true or i...</td>\n",
              "      <td>1</td>\n",
              "    </tr>\n",
              "    <tr>\n",
              "      <th>...</th>\n",
              "      <td>...</td>\n",
              "      <td>...</td>\n",
              "    </tr>\n",
              "    <tr>\n",
              "      <th>24778</th>\n",
              "      <td>yous a muthafin lie right His TL is trash Now ...</td>\n",
              "      <td>1</td>\n",
              "    </tr>\n",
              "    <tr>\n",
              "      <th>24779</th>\n",
              "      <td>youve gone and broke the wrong heart baby and ...</td>\n",
              "      <td>2</td>\n",
              "    </tr>\n",
              "    <tr>\n",
              "      <th>24780</th>\n",
              "      <td>young buck wanna eat dat nigguh like I aint fu...</td>\n",
              "      <td>1</td>\n",
              "    </tr>\n",
              "    <tr>\n",
              "      <th>24781</th>\n",
              "      <td>youu got wild bitches tellin you lies</td>\n",
              "      <td>1</td>\n",
              "    </tr>\n",
              "    <tr>\n",
              "      <th>24782</th>\n",
              "      <td>Ruffled Ntac Eileen Dahlia Beautiful color com...</td>\n",
              "      <td>2</td>\n",
              "    </tr>\n",
              "  </tbody>\n",
              "</table>\n",
              "<p>24783 rows × 2 columns</p>\n",
              "</div>"
            ],
            "text/plain": [
              "                                                   tweet  class\n",
              "0       As a woman you shouldnt complain about cleani...      2\n",
              "1       boy dats coldtyga dwn bad for cuffin dat hoe ...      1\n",
              "2       Dawg RT You ever fuck a bitch and she start t...      1\n",
              "3                                 she look like a tranny      1\n",
              "4       The shit you hear about me might be true or i...      1\n",
              "...                                                  ...    ...\n",
              "24778  yous a muthafin lie right His TL is trash Now ...      1\n",
              "24779  youve gone and broke the wrong heart baby and ...      2\n",
              "24780  young buck wanna eat dat nigguh like I aint fu...      1\n",
              "24781              youu got wild bitches tellin you lies      1\n",
              "24782  Ruffled Ntac Eileen Dahlia Beautiful color com...      2\n",
              "\n",
              "[24783 rows x 2 columns]"
            ]
          },
          "metadata": {},
          "execution_count": 169
        }
      ]
    },
    {
      "cell_type": "code",
      "metadata": {
        "id": "Y21A6SzvP7wk"
      },
      "source": [
        "import sklearn\n",
        "from sklearn.model_selection import train_test_split\n",
        "from torchtext.data.utils import get_tokenizer\n",
        "from torchtext.vocab import build_vocab_from_iterator"
      ],
      "execution_count": 170,
      "outputs": []
    },
    {
      "cell_type": "code",
      "metadata": {
        "id": "Ad4T8-VQQJpD"
      },
      "source": [
        "X_train, X_valid, Y_train, Y_valid= train_test_split(df_dav['tweet'].tolist(),\n",
        "                                                      df_dav['class'].tolist(),\n",
        "                                                      test_size=0.3)\n",
        "train_data =list(zip(Y_train,X_train))\n",
        "valid_data =list(zip(Y_valid,X_valid))"
      ],
      "execution_count": 171,
      "outputs": []
    },
    {
      "cell_type": "code",
      "metadata": {
        "id": "5HJW26w9Qbjg"
      },
      "source": [
        "tzr = get_tokenizer('basic_english')\n",
        "def torch_tokenizer(iterator):\n",
        "  for _, text in iterator:\n",
        "        yield tzr(text)"
      ],
      "execution_count": 172,
      "outputs": []
    },
    {
      "cell_type": "code",
      "metadata": {
        "id": "xA06mVvQRST-"
      },
      "source": [
        "dataset_copy = train_data\n",
        "transformed = build_vocab_from_iterator(torch_tokenizer(dataset_copy), specials=[\"<unk>\"])\n",
        "transformed.set_default_index(transformed[\"<unk>\"])"
      ],
      "execution_count": 173,
      "outputs": []
    },
    {
      "cell_type": "code",
      "metadata": {
        "id": "xFRtxRY4R91H"
      },
      "source": [
        "text_to_index = lambda x: transformed(tzr(x))\n",
        "label_trans = lambda x: int(x) "
      ],
      "execution_count": 174,
      "outputs": []
    },
    {
      "cell_type": "code",
      "metadata": {
        "colab": {
          "base_uri": "https://localhost:8080/"
        },
        "id": "uEVlYFvXS-ih",
        "outputId": "f163ff38-5529-4db4-c6b1-4c7cf8df89f8"
      },
      "source": [
        "text_to_index('hello world')"
      ],
      "execution_count": 175,
      "outputs": [
        {
          "output_type": "execute_result",
          "data": {
            "text/plain": [
              "[1500, 414]"
            ]
          },
          "metadata": {},
          "execution_count": 175
        }
      ]
    },
    {
      "cell_type": "code",
      "metadata": {
        "id": "IrtpcJFATKhl"
      },
      "source": [
        "from torch import nn\n",
        "\n",
        "class CNNModel1(nn.Module):\n",
        "\n",
        "    def __init__(self, transformer_size, dim_in, dim_out):\n",
        "        super(CNNModel1, self).__init__()\n",
        "        self.embedding = nn.EmbeddingBag(transformer_size, dim_in, sparse=True)\n",
        "        self.fc1 = nn.Linear(dim_in, 64)\n",
        "        self.fc2 = nn.Linear(64,16)\n",
        "        self.fc3 = nn.Linear(16, dim_out)\n",
        "        self.relu = torch.nn.ReLU()\n",
        "        self.init_weights()\n",
        "\n",
        "    def init_weights(self):\n",
        "        r = 0.5\n",
        "        self.embedding.weight.data.uniform_(r, r)\n",
        "        nn.init.xavier_uniform_(self.fc1.weight)\n",
        "        nn.init.zeros_(self.fc1.bias)\n",
        "        nn.init.kaiming_normal_(self.fc2.weight)\n",
        "        nn.init.zeros_(self.fc2.bias)\n",
        "        self.fc3.weight.data.uniform_(-r, r)\n",
        "        nn.init.zeros_(self.fc3.bias)\n",
        "\n",
        "    def forward(self, text, offsets):\n",
        "        embedded = self.embedding(text, offsets)\n",
        "        x = self.relu(self.fc1(embedded))\n",
        "        x = self.relu(self.fc2(x))\n",
        "        x = self.fc3(x)\n",
        "        return x"
      ],
      "execution_count": 176,
      "outputs": []
    },
    {
      "cell_type": "code",
      "metadata": {
        "id": "NdaKhY7YUwgR"
      },
      "source": [
        "import torch\n",
        "from torch.utils.data import DataLoader\n",
        "device = torch.device(\"cuda\" if torch.cuda.is_available() else \"cpu\")"
      ],
      "execution_count": 177,
      "outputs": []
    },
    {
      "cell_type": "code",
      "metadata": {
        "id": "GgB1VsnYUoTV"
      },
      "source": [
        "train_iter1 = train_dat\n",
        "dim_out = len(set([label for (label, text) in train_iter1]))\n",
        "transformer_size = len(transformed)\n",
        "dim_in = 128\n",
        "model = CNNModel1(transformer_size, dim_in, dim_out).to(device)"
      ],
      "execution_count": 178,
      "outputs": []
    },
    {
      "cell_type": "code",
      "metadata": {
        "id": "2TuSgVtbUz7N"
      },
      "source": [
        " import time\n",
        "\n",
        "def train(dataloader):\n",
        "    model.train()\n",
        "    total_acc, total_count = 0, 0\n",
        "    log_interval = 500\n",
        "    start_time = time.time()\n",
        "\n",
        "    for idx, (label, text, offsets) in enumerate(dataloader):\n",
        "        optimizer.zero_grad()\n",
        "        predited_label = model(text, offsets)\n",
        "        loss = criterion(predited_label, label)\n",
        "        loss.backward()\n",
        "        torch.nn.utils.clip_grad_norm_(model.parameters(), 0.1)\n",
        "        optimizer.step()\n",
        "        total_acc += (predited_label.argmax(1) == label).sum().item()\n",
        "        total_count += label.size(0)\n",
        "        if idx % log_interval == 0 and idx > 0:\n",
        "            elapsed = time.time() - start_time\n",
        "            print('| epoch {:3d} | {:5d}/{:5d} batches '\n",
        "                  '| accuracy {:8.3f}'.format(epoch, idx, len(dataloader),\n",
        "                                              total_acc/total_count))\n",
        "            total_acc, total_count = 0, 0\n",
        "            start_time = time.time()\n",
        "\n",
        "def evaluate(dataloader):\n",
        "    model.eval()\n",
        "    total_acc, total_count = 0, 0\n",
        "\n",
        "    with torch.no_grad():\n",
        "        for idx, (label, text, offsets) in enumerate(dataloader):\n",
        "            predited_label = model(text, offsets)\n",
        "            loss = criterion(predited_label, label)\n",
        "            total_acc += (predited_label.argmax(1) == label).sum().item()\n",
        "            total_count += label.size(0)\n",
        "    return total_acc/total_count"
      ],
      "execution_count": 179,
      "outputs": []
    },
    {
      "cell_type": "code",
      "metadata": {
        "id": "a25do0LpVcUk"
      },
      "source": [
        "def collate_batch(batch):\n",
        "    label_list, text_list, offsets = [], [], [0]\n",
        "    for (_label, _text) in batch:\n",
        "         label_list.append(label_trans(_label))\n",
        "         processed_text = torch.tensor(text_to_index(_text), dtype=torch.int64)\n",
        "         text_list.append(processed_text)\n",
        "         offsets.append(processed_text.size(0))\n",
        "    label_list = torch.tensor(label_list, dtype=torch.int64)\n",
        "    offsets = torch.tensor(offsets[:-1]).cumsum(dim=0)\n",
        "    text_list = torch.cat(text_list)\n",
        "    return label_list.to(device), text_list.to(device), offsets.to(device)\n"
      ],
      "execution_count": 180,
      "outputs": []
    },
    {
      "cell_type": "code",
      "metadata": {
        "colab": {
          "base_uri": "https://localhost:8080/"
        },
        "id": "0ez_CWcUU_QF",
        "outputId": "2ca08815-f747-4c22-c7e0-3597d7a9db13"
      },
      "source": [
        "from torch.utils.data.dataset import random_split\n",
        "from torchtext.data.functional import to_map_style_dataset\n",
        "# Hyperparameters\n",
        "EPOCHS = 10 # epoch\n",
        "LR =10  # learning rate\n",
        "BATCH_SIZE = 16 # batch size for training\n",
        "\n",
        "criterion = torch.nn.CrossEntropyLoss()\n",
        "optimizer = torch.optim.SGD(model.parameters(), lr=LR)\n",
        "scheduler = torch.optim.lr_scheduler.StepLR(optimizer, 1.0, gamma=0.1)\n",
        "total_accu = None\n",
        "\n",
        "train_iter2 = train_dat\n",
        "valid_iter2= valid_dat\n",
        "\n",
        "\n",
        "\n",
        "\n",
        "train_dataloader = DataLoader(train_iter2, batch_size=BATCH_SIZE, collate_fn=collate_batch)\n",
        "valid_dataloader = DataLoader(valid_iter2, batch_size=BATCH_SIZE, shuffle=True, collate_fn=collate_batch)\n",
        "\n",
        "for epoch in range(1, EPOCHS + 1):\n",
        "    epoch_start_time = time.time()\n",
        "    train(train_dataloader)\n",
        "    accu_val = evaluate(valid_dataloader)\n",
        "    if total_accu is not None and total_accu > accu_val:\n",
        "      scheduler.step()\n",
        "    else:\n",
        "       total_accu = accu_val\n",
        "    print('-' * 59)\n",
        "    print('| end of epoch {:3d} | time: {:5.2f}s | '\n",
        "          'valid accuracy {:8.3f} '.format(epoch,\n",
        "                                           time.time() - epoch_start_time,\n",
        "                                           accu_val))\n",
        "    print('-' * 59)"
      ],
      "execution_count": 190,
      "outputs": [
        {
          "output_type": "stream",
          "name": "stdout",
          "text": [
            "| epoch   1 |   500/ 1085 batches | accuracy    0.758\n",
            "| epoch   1 |  1000/ 1085 batches | accuracy    0.768\n",
            "-----------------------------------------------------------\n",
            "| end of epoch   1 | time:  2.76s | valid accuracy    0.776 \n",
            "-----------------------------------------------------------\n",
            "| epoch   2 |   500/ 1085 batches | accuracy    0.762\n",
            "| epoch   2 |  1000/ 1085 batches | accuracy    0.768\n",
            "-----------------------------------------------------------\n",
            "| end of epoch   2 | time:  2.66s | valid accuracy    0.776 \n",
            "-----------------------------------------------------------\n",
            "| epoch   3 |   500/ 1085 batches | accuracy    0.762\n",
            "| epoch   3 |  1000/ 1085 batches | accuracy    0.768\n",
            "-----------------------------------------------------------\n",
            "| end of epoch   3 | time:  2.67s | valid accuracy    0.776 \n",
            "-----------------------------------------------------------\n",
            "| epoch   4 |   500/ 1085 batches | accuracy    0.762\n",
            "| epoch   4 |  1000/ 1085 batches | accuracy    0.768\n",
            "-----------------------------------------------------------\n",
            "| end of epoch   4 | time:  2.67s | valid accuracy    0.776 \n",
            "-----------------------------------------------------------\n",
            "| epoch   5 |   500/ 1085 batches | accuracy    0.762\n",
            "| epoch   5 |  1000/ 1085 batches | accuracy    0.768\n",
            "-----------------------------------------------------------\n",
            "| end of epoch   5 | time:  2.64s | valid accuracy    0.776 \n",
            "-----------------------------------------------------------\n",
            "| epoch   6 |   500/ 1085 batches | accuracy    0.762\n",
            "| epoch   6 |  1000/ 1085 batches | accuracy    0.768\n",
            "-----------------------------------------------------------\n",
            "| end of epoch   6 | time:  2.69s | valid accuracy    0.776 \n",
            "-----------------------------------------------------------\n",
            "| epoch   7 |   500/ 1085 batches | accuracy    0.762\n",
            "| epoch   7 |  1000/ 1085 batches | accuracy    0.768\n",
            "-----------------------------------------------------------\n",
            "| end of epoch   7 | time:  2.68s | valid accuracy    0.776 \n",
            "-----------------------------------------------------------\n",
            "| epoch   8 |   500/ 1085 batches | accuracy    0.762\n",
            "| epoch   8 |  1000/ 1085 batches | accuracy    0.768\n",
            "-----------------------------------------------------------\n",
            "| end of epoch   8 | time:  2.70s | valid accuracy    0.776 \n",
            "-----------------------------------------------------------\n",
            "| epoch   9 |   500/ 1085 batches | accuracy    0.762\n",
            "| epoch   9 |  1000/ 1085 batches | accuracy    0.768\n",
            "-----------------------------------------------------------\n",
            "| end of epoch   9 | time:  2.67s | valid accuracy    0.776 \n",
            "-----------------------------------------------------------\n",
            "| epoch  10 |   500/ 1085 batches | accuracy    0.762\n",
            "| epoch  10 |  1000/ 1085 batches | accuracy    0.768\n",
            "-----------------------------------------------------------\n",
            "| end of epoch  10 | time:  2.69s | valid accuracy    0.776 \n",
            "-----------------------------------------------------------\n"
          ]
        }
      ]
    },
    {
      "cell_type": "code",
      "metadata": {
        "id": "8VKVhmP2ek_e"
      },
      "source": [
        "# from torch.utils.data.dataset import random_split\n",
        "# from torchtext.data.functional import to_map_style_dataset\n",
        "# EPOCHS = 10 # epoch\n",
        "# LR = 10  # learning rate\n",
        "# BATCH_SIZE = 16 # batch size for training\n",
        "\n",
        "# def train_1(train_dat, valid_dat):\n",
        "#   criterion = torch.nn.CrossEntropyLoss()\n",
        "#   optimizer = torch.optim.SGD(model.parameters(), lr=LR)\n",
        "#   scheduler = torch.optim.lr_scheduler.StepLR(optimizer, 1.0, gamma=0.1)\n",
        "#   total_accu = None\n",
        "#   train_iter2 = train_dat\n",
        "#   valid_iter2= valid_dat\n",
        "#   train_dataloader = DataLoader(train_iter2, batch_size=BATCH_SIZE, collate_fn=collate_batch)\n",
        "#   valid_dataloader = DataLoader(valid_iter2, batch_size=BATCH_SIZE, shuffle=True, collate_fn=collate_batch)\n",
        "\n",
        "#   for epoch in range(EPOCHS):\n",
        "#       train(train_dataloader)\n",
        "#       accu_val = evaluate(valid_dataloader)\n",
        "#       if total_accu is not None and total_accu > accu_val:\n",
        "#         scheduler.step()\n",
        "#       else:\n",
        "#         total_accu = accu_val\n",
        "#       print('Epoch {:3d}'\n",
        "#             'valid accuracy {:8.3f} '.format(epoch, accu_val))"
      ],
      "execution_count": 188,
      "outputs": []
    },
    {
      "cell_type": "code",
      "metadata": {
        "colab": {
          "base_uri": "https://localhost:8080/",
          "height": 324
        },
        "id": "s8GtgZoIfqqT",
        "outputId": "dad64764-a8fb-4c83-d325-a069c4c3a5fb"
      },
      "source": [
        "train_1(train_dat, valid_dat)"
      ],
      "execution_count": 189,
      "outputs": [
        {
          "output_type": "error",
          "ename": "KeyboardInterrupt",
          "evalue": "ignored",
          "traceback": [
            "\u001b[0;31m---------------------------------------------------------------------------\u001b[0m",
            "\u001b[0;31mKeyboardInterrupt\u001b[0m                         Traceback (most recent call last)",
            "\u001b[0;32m<ipython-input-189-9c6ea52ba620>\u001b[0m in \u001b[0;36m<module>\u001b[0;34m()\u001b[0m\n\u001b[0;32m----> 1\u001b[0;31m \u001b[0mtrain_1\u001b[0m\u001b[0;34m(\u001b[0m\u001b[0mtrain_dat\u001b[0m\u001b[0;34m,\u001b[0m \u001b[0mvalid_dat\u001b[0m\u001b[0;34m)\u001b[0m\u001b[0;34m\u001b[0m\u001b[0;34m\u001b[0m\u001b[0m\n\u001b[0m",
            "\u001b[0;32m<ipython-input-188-939fc6432d40>\u001b[0m in \u001b[0;36mtrain_1\u001b[0;34m(train_dat, valid_dat)\u001b[0m\n\u001b[1;32m     16\u001b[0m \u001b[0;34m\u001b[0m\u001b[0m\n\u001b[1;32m     17\u001b[0m   \u001b[0;32mfor\u001b[0m \u001b[0mepoch\u001b[0m \u001b[0;32min\u001b[0m \u001b[0mrange\u001b[0m\u001b[0;34m(\u001b[0m\u001b[0mEPOCHS\u001b[0m\u001b[0;34m)\u001b[0m\u001b[0;34m:\u001b[0m\u001b[0;34m\u001b[0m\u001b[0;34m\u001b[0m\u001b[0m\n\u001b[0;32m---> 18\u001b[0;31m       \u001b[0mtrain\u001b[0m\u001b[0;34m(\u001b[0m\u001b[0mtrain_dataloader\u001b[0m\u001b[0;34m)\u001b[0m\u001b[0;34m\u001b[0m\u001b[0;34m\u001b[0m\u001b[0m\n\u001b[0m\u001b[1;32m     19\u001b[0m       \u001b[0maccu_val\u001b[0m \u001b[0;34m=\u001b[0m \u001b[0mevaluate\u001b[0m\u001b[0;34m(\u001b[0m\u001b[0mvalid_dataloader\u001b[0m\u001b[0;34m)\u001b[0m\u001b[0;34m\u001b[0m\u001b[0;34m\u001b[0m\u001b[0m\n\u001b[1;32m     20\u001b[0m       \u001b[0;32mif\u001b[0m \u001b[0mtotal_accu\u001b[0m \u001b[0;32mis\u001b[0m \u001b[0;32mnot\u001b[0m \u001b[0;32mNone\u001b[0m \u001b[0;32mand\u001b[0m \u001b[0mtotal_accu\u001b[0m \u001b[0;34m>\u001b[0m \u001b[0maccu_val\u001b[0m\u001b[0;34m:\u001b[0m\u001b[0;34m\u001b[0m\u001b[0;34m\u001b[0m\u001b[0m\n",
            "\u001b[0;32m<ipython-input-179-62d534b64aa2>\u001b[0m in \u001b[0;36mtrain\u001b[0;34m(dataloader)\u001b[0m\n\u001b[1;32m     11\u001b[0m        \u001b[0mpredited_label\u001b[0m \u001b[0;34m=\u001b[0m \u001b[0mmodel\u001b[0m\u001b[0;34m(\u001b[0m\u001b[0mtext\u001b[0m\u001b[0;34m,\u001b[0m \u001b[0moffsets\u001b[0m\u001b[0;34m)\u001b[0m\u001b[0;34m\u001b[0m\u001b[0;34m\u001b[0m\u001b[0m\n\u001b[1;32m     12\u001b[0m        \u001b[0mloss\u001b[0m \u001b[0;34m=\u001b[0m \u001b[0mcriterion\u001b[0m\u001b[0;34m(\u001b[0m\u001b[0mpredited_label\u001b[0m\u001b[0;34m,\u001b[0m \u001b[0mlabel\u001b[0m\u001b[0;34m)\u001b[0m\u001b[0;34m\u001b[0m\u001b[0;34m\u001b[0m\u001b[0m\n\u001b[0;32m---> 13\u001b[0;31m        \u001b[0mloss\u001b[0m\u001b[0;34m.\u001b[0m\u001b[0mbackward\u001b[0m\u001b[0;34m(\u001b[0m\u001b[0;34m)\u001b[0m\u001b[0;34m\u001b[0m\u001b[0;34m\u001b[0m\u001b[0m\n\u001b[0m\u001b[1;32m     14\u001b[0m        \u001b[0mtorch\u001b[0m\u001b[0;34m.\u001b[0m\u001b[0mnn\u001b[0m\u001b[0;34m.\u001b[0m\u001b[0mutils\u001b[0m\u001b[0;34m.\u001b[0m\u001b[0mclip_grad_norm_\u001b[0m\u001b[0;34m(\u001b[0m\u001b[0mmodel\u001b[0m\u001b[0;34m.\u001b[0m\u001b[0mparameters\u001b[0m\u001b[0;34m(\u001b[0m\u001b[0;34m)\u001b[0m\u001b[0;34m,\u001b[0m \u001b[0;36m0.1\u001b[0m\u001b[0;34m)\u001b[0m\u001b[0;34m\u001b[0m\u001b[0;34m\u001b[0m\u001b[0m\n\u001b[1;32m     15\u001b[0m        \u001b[0moptimizer\u001b[0m\u001b[0;34m.\u001b[0m\u001b[0mstep\u001b[0m\u001b[0;34m(\u001b[0m\u001b[0;34m)\u001b[0m\u001b[0;34m\u001b[0m\u001b[0;34m\u001b[0m\u001b[0m\n",
            "\u001b[0;32m/usr/local/lib/python3.7/dist-packages/torch/_tensor.py\u001b[0m in \u001b[0;36mbackward\u001b[0;34m(self, gradient, retain_graph, create_graph, inputs)\u001b[0m\n\u001b[1;32m    305\u001b[0m                 \u001b[0mcreate_graph\u001b[0m\u001b[0;34m=\u001b[0m\u001b[0mcreate_graph\u001b[0m\u001b[0;34m,\u001b[0m\u001b[0;34m\u001b[0m\u001b[0;34m\u001b[0m\u001b[0m\n\u001b[1;32m    306\u001b[0m                 inputs=inputs)\n\u001b[0;32m--> 307\u001b[0;31m         \u001b[0mtorch\u001b[0m\u001b[0;34m.\u001b[0m\u001b[0mautograd\u001b[0m\u001b[0;34m.\u001b[0m\u001b[0mbackward\u001b[0m\u001b[0;34m(\u001b[0m\u001b[0mself\u001b[0m\u001b[0;34m,\u001b[0m \u001b[0mgradient\u001b[0m\u001b[0;34m,\u001b[0m \u001b[0mretain_graph\u001b[0m\u001b[0;34m,\u001b[0m \u001b[0mcreate_graph\u001b[0m\u001b[0;34m,\u001b[0m \u001b[0minputs\u001b[0m\u001b[0;34m=\u001b[0m\u001b[0minputs\u001b[0m\u001b[0;34m)\u001b[0m\u001b[0;34m\u001b[0m\u001b[0;34m\u001b[0m\u001b[0m\n\u001b[0m\u001b[1;32m    308\u001b[0m \u001b[0;34m\u001b[0m\u001b[0m\n\u001b[1;32m    309\u001b[0m     \u001b[0;32mdef\u001b[0m \u001b[0mregister_hook\u001b[0m\u001b[0;34m(\u001b[0m\u001b[0mself\u001b[0m\u001b[0;34m,\u001b[0m \u001b[0mhook\u001b[0m\u001b[0;34m)\u001b[0m\u001b[0;34m:\u001b[0m\u001b[0;34m\u001b[0m\u001b[0;34m\u001b[0m\u001b[0m\n",
            "\u001b[0;32m/usr/local/lib/python3.7/dist-packages/torch/autograd/__init__.py\u001b[0m in \u001b[0;36mbackward\u001b[0;34m(tensors, grad_tensors, retain_graph, create_graph, grad_variables, inputs)\u001b[0m\n\u001b[1;32m    154\u001b[0m     Variable._execution_engine.run_backward(\n\u001b[1;32m    155\u001b[0m         \u001b[0mtensors\u001b[0m\u001b[0;34m,\u001b[0m \u001b[0mgrad_tensors_\u001b[0m\u001b[0;34m,\u001b[0m \u001b[0mretain_graph\u001b[0m\u001b[0;34m,\u001b[0m \u001b[0mcreate_graph\u001b[0m\u001b[0;34m,\u001b[0m \u001b[0minputs\u001b[0m\u001b[0;34m,\u001b[0m\u001b[0;34m\u001b[0m\u001b[0;34m\u001b[0m\u001b[0m\n\u001b[0;32m--> 156\u001b[0;31m         allow_unreachable=True, accumulate_grad=True)  # allow_unreachable flag\n\u001b[0m\u001b[1;32m    157\u001b[0m \u001b[0;34m\u001b[0m\u001b[0m\n\u001b[1;32m    158\u001b[0m \u001b[0;34m\u001b[0m\u001b[0m\n",
            "\u001b[0;31mKeyboardInterrupt\u001b[0m: "
          ]
        }
      ]
    }
  ]
}