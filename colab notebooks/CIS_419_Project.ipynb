{
  "nbformat": 4,
  "nbformat_minor": 0,
  "metadata": {
    "colab": {
      "name": "CIS 419 Project.ipynb",
      "provenance": [],
      "collapsed_sections": []
    },
    "kernelspec": {
      "name": "python3",
      "display_name": "Python 3"
    },
    "language_info": {
      "name": "python"
    }
  },
  "cells": [
    {
      "cell_type": "markdown",
      "metadata": {
        "id": "h3R9NMSYPViq"
      },
      "source": [
        "#Detecting Hate Speech in Tweets"
      ]
    },
    {
      "cell_type": "markdown",
      "metadata": {
        "id": "Xp3QJmpOPeZm"
      },
      "source": [
        "**Team:** Zuzanna Matysiak, Zachary Cahoone, Amy Zhou \n",
        "\n",
        "**Project Mentor TA:** Haoyu Wang"
      ]
    },
    {
      "cell_type": "markdown",
      "metadata": {
        "id": "VO30HSs6ReWV"
      },
      "source": [
        "<font color='red'>TODO(all): Update the description of the project</font>\n",
        "\n",
        "For our project, we will be investigating hate speech in tweets. We want to compare different machine learning models and see which one of them performs best in doing so and what features are based to extract to learn based on. We plan to use Natural Language Toolkit to tokenize Twitter data and extract features. The data we will be using will be similar to the data used in the paper that was the impetus for our project. Unfortunately, we do not have access to all 4 datasets that they used, hence we will use the available ones only: data from Davidson, data from Waseem, and we will send an email to Founta to ask for his data. Then, we will use select words that we believe could be indicators for hate speech to use as features. Initially, we will use the same bag of words they used. We will also do an investigation to see if there are other potentially predictive features we can include. We plan to use various machine learning models and compare their performance to the paper which only used logistic regression. We will evaluate our results by comparing to the f-1 score, precision and recall they got in our paper. If we can find models that can predict hate speech better, it is a good sign and we should discuss why that happened. If some models and feature extraction do not perform so well, we should perform case studies, try other features, and possibly discuss what are some reasons it went wrong. \n",
        "\n",
        "#### Possible add-ons to our project depending on the progress we have: using Twitter AAE model (similarly to what they did in the second part of the paper) to see if there is racial bias in classification of our models. This model takes in tweets and tells the probability they were written by black vs. white people based on the language used. We are a little skeptical about using this, as it adds more data inferred by models, but it is used in the cited paper. "
      ]
    },
    {
      "cell_type": "markdown",
      "metadata": {
        "id": "03D5-G_qP3lc"
      },
      "source": [
        "# Import libraries and datasets"
      ]
    },
    {
      "cell_type": "markdown",
      "metadata": {
        "id": "ZmwYFdRvQwPs"
      },
      "source": [
        "#### In this section, we imported Davidson dataset and also bag of words of bad words. We tokonized tweets using TweetTokenizer from nltk. We also performed initial preprocessing of the data to add a column for each bad word from the bag."
      ]
    },
    {
      "cell_type": "code",
      "metadata": {
        "id": "pRA6gveIpTP1"
      },
      "source": [
        "import pandas as pd\n",
        "from nltk.tokenize import TweetTokenizer\n",
        "import csv\n",
        "import urllib\n",
        "import regex as re"
      ],
      "execution_count": 164,
      "outputs": []
    },
    {
      "cell_type": "code",
      "metadata": {
        "colab": {
          "base_uri": "https://localhost:8080/"
        },
        "id": "uKdQ_MB7dKGp",
        "outputId": "1125f10c-6247-4b46-d1e1-d492eef6fcdc"
      },
      "source": [
        "!pip install sklearn"
      ],
      "execution_count": 165,
      "outputs": [
        {
          "output_type": "stream",
          "name": "stdout",
          "text": [
            "Requirement already satisfied: sklearn in /usr/local/lib/python3.7/dist-packages (0.0)\n",
            "Requirement already satisfied: scikit-learn in /usr/local/lib/python3.7/dist-packages (from sklearn) (1.0.1)\n",
            "Requirement already satisfied: scipy>=1.1.0 in /usr/local/lib/python3.7/dist-packages (from scikit-learn->sklearn) (1.4.1)\n",
            "Requirement already satisfied: joblib>=0.11 in /usr/local/lib/python3.7/dist-packages (from scikit-learn->sklearn) (1.1.0)\n",
            "Requirement already satisfied: threadpoolctl>=2.0.0 in /usr/local/lib/python3.7/dist-packages (from scikit-learn->sklearn) (3.0.0)\n",
            "Requirement already satisfied: numpy>=1.14.6 in /usr/local/lib/python3.7/dist-packages (from scikit-learn->sklearn) (1.19.5)\n"
          ]
        }
      ]
    },
    {
      "cell_type": "code",
      "metadata": {
        "id": "mhvaOh1dGn2O"
      },
      "source": [
        "from sklearn.model_selection import train_test_split\n",
        "from sklearn.metrics import precision_recall_fscore_support\n",
        "from sklearn.metrics import mean_squared_error\n",
        "from sklearn.metrics import r2_score"
      ],
      "execution_count": 166,
      "outputs": []
    },
    {
      "cell_type": "markdown",
      "metadata": {
        "id": "0_gDl4gVLgDr"
      },
      "source": [
        "In this part of the code, we will get our datasets. "
      ]
    },
    {
      "cell_type": "code",
      "metadata": {
        "colab": {
          "base_uri": "https://localhost:8080/",
          "height": 419
        },
        "id": "ZIWFRkJlLmPL",
        "outputId": "3c41d128-ca0c-491a-d12f-1fc86e0f5c15"
      },
      "source": [
        "# Import Davidson dataset\n",
        "url_hate_speech_data = \"https://raw.githubusercontent.com/t-davidson/hate-speech-and-offensive-language/master/data/labeled_data.csv\"\n",
        "df_davidson = pd.read_csv(url_hate_speech_data)\n",
        "df_davidson"
      ],
      "execution_count": 167,
      "outputs": [
        {
          "output_type": "execute_result",
          "data": {
            "text/html": [
              "<div>\n",
              "<style scoped>\n",
              "    .dataframe tbody tr th:only-of-type {\n",
              "        vertical-align: middle;\n",
              "    }\n",
              "\n",
              "    .dataframe tbody tr th {\n",
              "        vertical-align: top;\n",
              "    }\n",
              "\n",
              "    .dataframe thead th {\n",
              "        text-align: right;\n",
              "    }\n",
              "</style>\n",
              "<table border=\"1\" class=\"dataframe\">\n",
              "  <thead>\n",
              "    <tr style=\"text-align: right;\">\n",
              "      <th></th>\n",
              "      <th>Unnamed: 0</th>\n",
              "      <th>count</th>\n",
              "      <th>hate_speech</th>\n",
              "      <th>offensive_language</th>\n",
              "      <th>neither</th>\n",
              "      <th>class</th>\n",
              "      <th>tweet</th>\n",
              "    </tr>\n",
              "  </thead>\n",
              "  <tbody>\n",
              "    <tr>\n",
              "      <th>0</th>\n",
              "      <td>0</td>\n",
              "      <td>3</td>\n",
              "      <td>0</td>\n",
              "      <td>0</td>\n",
              "      <td>3</td>\n",
              "      <td>2</td>\n",
              "      <td>!!! RT @mayasolovely: As a woman you shouldn't...</td>\n",
              "    </tr>\n",
              "    <tr>\n",
              "      <th>1</th>\n",
              "      <td>1</td>\n",
              "      <td>3</td>\n",
              "      <td>0</td>\n",
              "      <td>3</td>\n",
              "      <td>0</td>\n",
              "      <td>1</td>\n",
              "      <td>!!!!! RT @mleew17: boy dats cold...tyga dwn ba...</td>\n",
              "    </tr>\n",
              "    <tr>\n",
              "      <th>2</th>\n",
              "      <td>2</td>\n",
              "      <td>3</td>\n",
              "      <td>0</td>\n",
              "      <td>3</td>\n",
              "      <td>0</td>\n",
              "      <td>1</td>\n",
              "      <td>!!!!!!! RT @UrKindOfBrand Dawg!!!! RT @80sbaby...</td>\n",
              "    </tr>\n",
              "    <tr>\n",
              "      <th>3</th>\n",
              "      <td>3</td>\n",
              "      <td>3</td>\n",
              "      <td>0</td>\n",
              "      <td>2</td>\n",
              "      <td>1</td>\n",
              "      <td>1</td>\n",
              "      <td>!!!!!!!!! RT @C_G_Anderson: @viva_based she lo...</td>\n",
              "    </tr>\n",
              "    <tr>\n",
              "      <th>4</th>\n",
              "      <td>4</td>\n",
              "      <td>6</td>\n",
              "      <td>0</td>\n",
              "      <td>6</td>\n",
              "      <td>0</td>\n",
              "      <td>1</td>\n",
              "      <td>!!!!!!!!!!!!! RT @ShenikaRoberts: The shit you...</td>\n",
              "    </tr>\n",
              "    <tr>\n",
              "      <th>...</th>\n",
              "      <td>...</td>\n",
              "      <td>...</td>\n",
              "      <td>...</td>\n",
              "      <td>...</td>\n",
              "      <td>...</td>\n",
              "      <td>...</td>\n",
              "      <td>...</td>\n",
              "    </tr>\n",
              "    <tr>\n",
              "      <th>24778</th>\n",
              "      <td>25291</td>\n",
              "      <td>3</td>\n",
              "      <td>0</td>\n",
              "      <td>2</td>\n",
              "      <td>1</td>\n",
              "      <td>1</td>\n",
              "      <td>you's a muthaf***in lie &amp;#8220;@LifeAsKing: @2...</td>\n",
              "    </tr>\n",
              "    <tr>\n",
              "      <th>24779</th>\n",
              "      <td>25292</td>\n",
              "      <td>3</td>\n",
              "      <td>0</td>\n",
              "      <td>1</td>\n",
              "      <td>2</td>\n",
              "      <td>2</td>\n",
              "      <td>you've gone and broke the wrong heart baby, an...</td>\n",
              "    </tr>\n",
              "    <tr>\n",
              "      <th>24780</th>\n",
              "      <td>25294</td>\n",
              "      <td>3</td>\n",
              "      <td>0</td>\n",
              "      <td>3</td>\n",
              "      <td>0</td>\n",
              "      <td>1</td>\n",
              "      <td>young buck wanna eat!!.. dat nigguh like I ain...</td>\n",
              "    </tr>\n",
              "    <tr>\n",
              "      <th>24781</th>\n",
              "      <td>25295</td>\n",
              "      <td>6</td>\n",
              "      <td>0</td>\n",
              "      <td>6</td>\n",
              "      <td>0</td>\n",
              "      <td>1</td>\n",
              "      <td>youu got wild bitches tellin you lies</td>\n",
              "    </tr>\n",
              "    <tr>\n",
              "      <th>24782</th>\n",
              "      <td>25296</td>\n",
              "      <td>3</td>\n",
              "      <td>0</td>\n",
              "      <td>0</td>\n",
              "      <td>3</td>\n",
              "      <td>2</td>\n",
              "      <td>~~Ruffled | Ntac Eileen Dahlia - Beautiful col...</td>\n",
              "    </tr>\n",
              "  </tbody>\n",
              "</table>\n",
              "<p>24783 rows × 7 columns</p>\n",
              "</div>"
            ],
            "text/plain": [
              "       Unnamed: 0  ...                                              tweet\n",
              "0               0  ...  !!! RT @mayasolovely: As a woman you shouldn't...\n",
              "1               1  ...  !!!!! RT @mleew17: boy dats cold...tyga dwn ba...\n",
              "2               2  ...  !!!!!!! RT @UrKindOfBrand Dawg!!!! RT @80sbaby...\n",
              "3               3  ...  !!!!!!!!! RT @C_G_Anderson: @viva_based she lo...\n",
              "4               4  ...  !!!!!!!!!!!!! RT @ShenikaRoberts: The shit you...\n",
              "...           ...  ...                                                ...\n",
              "24778       25291  ...  you's a muthaf***in lie &#8220;@LifeAsKing: @2...\n",
              "24779       25292  ...  you've gone and broke the wrong heart baby, an...\n",
              "24780       25294  ...  young buck wanna eat!!.. dat nigguh like I ain...\n",
              "24781       25295  ...              youu got wild bitches tellin you lies\n",
              "24782       25296  ...  ~~Ruffled | Ntac Eileen Dahlia - Beautiful col...\n",
              "\n",
              "[24783 rows x 7 columns]"
            ]
          },
          "metadata": {},
          "execution_count": 167
        }
      ]
    },
    {
      "cell_type": "code",
      "metadata": {
        "colab": {
          "base_uri": "https://localhost:8080/",
          "height": 419
        },
        "id": "xVktlAGkLydG",
        "outputId": "cafb883c-f972-4e08-d512-4339158ecbec"
      },
      "source": [
        "# Import Waseem\n",
        "df_waseem = pd.read_csv('/content/df_waseem_preprocessed.csv', sep=' ')\n",
        "df_waseem"
      ],
      "execution_count": 168,
      "outputs": [
        {
          "output_type": "execute_result",
          "data": {
            "text/html": [
              "<div>\n",
              "<style scoped>\n",
              "    .dataframe tbody tr th:only-of-type {\n",
              "        vertical-align: middle;\n",
              "    }\n",
              "\n",
              "    .dataframe tbody tr th {\n",
              "        vertical-align: top;\n",
              "    }\n",
              "\n",
              "    .dataframe thead th {\n",
              "        text-align: right;\n",
              "    }\n",
              "</style>\n",
              "<table border=\"1\" class=\"dataframe\">\n",
              "  <thead>\n",
              "    <tr style=\"text-align: right;\">\n",
              "      <th></th>\n",
              "      <th>Unnamed: 0</th>\n",
              "      <th>text</th>\n",
              "      <th>class_label</th>\n",
              "    </tr>\n",
              "  </thead>\n",
              "  <tbody>\n",
              "    <tr>\n",
              "      <th>0</th>\n",
              "      <td>0</td>\n",
              "      <td>Drasko they didn't cook half a bird you idiot ...</td>\n",
              "      <td>racism</td>\n",
              "    </tr>\n",
              "    <tr>\n",
              "      <th>1</th>\n",
              "      <td>1</td>\n",
              "      <td>Hopefully someone cooks Drasko in the next ep ...</td>\n",
              "      <td>racism</td>\n",
              "    </tr>\n",
              "    <tr>\n",
              "      <th>2</th>\n",
              "      <td>3</td>\n",
              "      <td>of course you were born in serbia...you're as ...</td>\n",
              "      <td>racism</td>\n",
              "    </tr>\n",
              "    <tr>\n",
              "      <th>3</th>\n",
              "      <td>4</td>\n",
              "      <td>These girls are the equivalent of the irritati...</td>\n",
              "      <td>racism</td>\n",
              "    </tr>\n",
              "    <tr>\n",
              "      <th>4</th>\n",
              "      <td>5</td>\n",
              "      <td>RT @YesYoureRacist: At least you're only a tin...</td>\n",
              "      <td>racism</td>\n",
              "    </tr>\n",
              "    <tr>\n",
              "      <th>...</th>\n",
              "      <td>...</td>\n",
              "      <td>...</td>\n",
              "      <td>...</td>\n",
              "    </tr>\n",
              "    <tr>\n",
              "      <th>2738</th>\n",
              "      <td>2768</td>\n",
              "      <td>RT @Superjutah: @MT8_9 £34,000 is £9000 above ...</td>\n",
              "      <td>sexism</td>\n",
              "    </tr>\n",
              "    <tr>\n",
              "      <th>2739</th>\n",
              "      <td>2769</td>\n",
              "      <td>RT @DufresneFrank: “@gabystama: @DufresneFrank...</td>\n",
              "      <td>sexism</td>\n",
              "    </tr>\n",
              "    <tr>\n",
              "      <th>2740</th>\n",
              "      <td>2770</td>\n",
              "      <td>RT @BoycottBrandy: @ActionFlickDoc this person...</td>\n",
              "      <td>sexism</td>\n",
              "    </tr>\n",
              "    <tr>\n",
              "      <th>2741</th>\n",
              "      <td>2771</td>\n",
              "      <td>RT @Lyall: Patriarchy™ will expel me if I divu...</td>\n",
              "      <td>sexism</td>\n",
              "    </tr>\n",
              "    <tr>\n",
              "      <th>2742</th>\n",
              "      <td>2772</td>\n",
              "      <td>RT @AsheSchow: Women’s Studies: Learn how to t...</td>\n",
              "      <td>sexism</td>\n",
              "    </tr>\n",
              "  </tbody>\n",
              "</table>\n",
              "<p>2743 rows × 3 columns</p>\n",
              "</div>"
            ],
            "text/plain": [
              "      Unnamed: 0                                               text class_label\n",
              "0              0  Drasko they didn't cook half a bird you idiot ...      racism\n",
              "1              1  Hopefully someone cooks Drasko in the next ep ...      racism\n",
              "2              3  of course you were born in serbia...you're as ...      racism\n",
              "3              4  These girls are the equivalent of the irritati...      racism\n",
              "4              5  RT @YesYoureRacist: At least you're only a tin...      racism\n",
              "...          ...                                                ...         ...\n",
              "2738        2768  RT @Superjutah: @MT8_9 £34,000 is £9000 above ...      sexism\n",
              "2739        2769  RT @DufresneFrank: “@gabystama: @DufresneFrank...      sexism\n",
              "2740        2770  RT @BoycottBrandy: @ActionFlickDoc this person...      sexism\n",
              "2741        2771  RT @Lyall: Patriarchy™ will expel me if I divu...      sexism\n",
              "2742        2772  RT @AsheSchow: Women’s Studies: Learn how to t...      sexism\n",
              "\n",
              "[2743 rows x 3 columns]"
            ]
          },
          "metadata": {},
          "execution_count": 168
        }
      ]
    },
    {
      "cell_type": "code",
      "metadata": {
        "id": "gJJGDJq2j3G6"
      },
      "source": [
        "# TODO: import Founta dataset (Amy)"
      ],
      "execution_count": 169,
      "outputs": []
    },
    {
      "cell_type": "markdown",
      "metadata": {
        "id": "7p2Cd72aME96"
      },
      "source": [
        "# Preprocessing of the data.\n",
        "In this section we will explore various preprocessing methods of the data. "
      ]
    },
    {
      "cell_type": "markdown",
      "metadata": {
        "id": "riIwSmwKczuV"
      },
      "source": [
        "This is a function that preprocesses the data in the following way: it drops the Unnamed:0 column, get rids of RT and mentiones in the data. "
      ]
    },
    {
      "cell_type": "code",
      "metadata": {
        "id": "BtjJyqLWcyT8"
      },
      "source": [
        "def preprocessing_method1(df, col_name):\n",
        "  df = df.drop([\"Unnamed: 0\"], axis = 1)\n",
        "  df[col_name] = df[col_name].apply(lambda x: re.sub(r'(RT\\s@[A-Za-z]+[A-Za-z0-9-_]+)', '', str(x))) # removes retweets\n",
        "  df[col_name] = df[col_name].apply(lambda x: re.sub(r'(@[A-Za-z0-9-_]+)', '', str(x))) # removes mentions\n",
        "  df[col_name] = df[col_name].apply(lambda x: re.sub(r'[^\\w\\s]','', str(x))) # remove punctuation\n",
        "  df[col_name] = df[col_name].apply(lambda x: re.sub(r'^\\d+\\s|\\s\\d+\\s|\\s\\d+$', ' ', str(x))) # remove digits\n",
        "  df[col_name] = df[col_name].apply(lambda x: re.sub(r'\\s\\s+', ' ', str(x))) # remove unncessary spaces\n",
        "  return df"
      ],
      "execution_count": 170,
      "outputs": []
    },
    {
      "cell_type": "code",
      "metadata": {
        "id": "bNT24Lw2gvgh"
      },
      "source": [
        "# TODO (Amy) for whoever is doing preprocessing other methods, maybe separting hashtags into another column\n",
        "# might help with better results :)"
      ],
      "execution_count": 171,
      "outputs": []
    },
    {
      "cell_type": "code",
      "metadata": {
        "id": "dsB3LM2RgfOs"
      },
      "source": [
        "# TODO: (Amy) also one type of preprocessing where data is barely preprocessed (so for \n",
        "# example we dont delete RTs, punctuation, etc), just an idea but might be cool to have a control set :) "
      ],
      "execution_count": 172,
      "outputs": []
    },
    {
      "cell_type": "markdown",
      "metadata": {
        "id": "kS08DXxghwi5"
      },
      "source": [
        "# Tokenizing  \n",
        "\n",
        "We will define functions that will help us with tokenizng the data using TweetTokenizer(). "
      ]
    },
    {
      "cell_type": "code",
      "metadata": {
        "id": "Liu5iBkBiAqJ"
      },
      "source": [
        "def tokenize_method1(df, col_name):\n",
        "   tweet_tokenizer = TweetTokenizer()\n",
        "   df[col_name] = df[col_name].map(lambda x: tweet_tokenizer.tokenize(x))\n",
        "   return df"
      ],
      "execution_count": 173,
      "outputs": []
    },
    {
      "cell_type": "code",
      "metadata": {
        "id": "JHozCDGQMjdY"
      },
      "source": [
        "def custom_tokenize(text): # For Waseem as it required special treatment for not string instances\n",
        "  tweet_tokenizer = TweetTokenizer()\n",
        "  if not(isinstance(text, str)):\n",
        "    text = ''\n",
        "  return tweet_tokenizer.tokenize(text)"
      ],
      "execution_count": 174,
      "outputs": []
    },
    {
      "cell_type": "code",
      "metadata": {
        "id": "H997XtpkM3RN"
      },
      "source": [
        "# TODO (Amy): add other tokenization methods"
      ],
      "execution_count": 175,
      "outputs": []
    },
    {
      "cell_type": "markdown",
      "metadata": {
        "id": "VCHbzJkwNJJc"
      },
      "source": [
        "# Bag of words\n",
        "In this section we will explore various bags of words. \n",
        "\n",
        "The first one we will use is the same one used in te original paper."
      ]
    },
    {
      "cell_type": "code",
      "metadata": {
        "id": "PZlMDqVeNZ67"
      },
      "source": [
        "words = []\n",
        "url_hate_words = \"https://raw.githubusercontent.com/t-davidson/hate-speech-and-offensive-language/master/lexicons/refined_ngram_dict.csv\"\n",
        "bag_of_words = pd.read_csv(url_hate_words)\n",
        "for i, row in bag_of_words.iterrows():\n",
        "  words.append(row[0])"
      ],
      "execution_count": 176,
      "outputs": []
    },
    {
      "cell_type": "markdown",
      "metadata": {
        "id": "HE82ymCPNio7"
      },
      "source": [
        "A function to modify dataframe to account for the bag of words."
      ]
    },
    {
      "cell_type": "code",
      "metadata": {
        "id": "yK3MYwt9No3k"
      },
      "source": [
        "def add_bad_words(df, label):\n",
        "  for word in words:\n",
        "    df[word] = df[label].map(lambda x: 1 if word in x else 0)"
      ],
      "execution_count": 177,
      "outputs": []
    },
    {
      "cell_type": "code",
      "metadata": {
        "id": "i0v75sKaONFK"
      },
      "source": [
        "# TODO (Amy): add other bags of words "
      ],
      "execution_count": 178,
      "outputs": []
    },
    {
      "cell_type": "code",
      "metadata": {
        "id": "nxZ9pSpgnHGM"
      },
      "source": [
        "# TODO (Zach): use hatebase as bag of words"
      ],
      "execution_count": 179,
      "outputs": []
    },
    {
      "cell_type": "markdown",
      "metadata": {
        "id": "qOFHspu3ORF5"
      },
      "source": [
        "# Getting the datasets ready for training using first method of preprocessing\n",
        "We will start with preprocessing the Davidson dataset. "
      ]
    },
    {
      "cell_type": "code",
      "metadata": {
        "colab": {
          "base_uri": "https://localhost:8080/",
          "height": 419
        },
        "id": "luwHbHxdhh04",
        "outputId": "fe145bbc-ffd8-4143-d50a-57a79ce8d9e7"
      },
      "source": [
        "df_davidson = preprocessing_method1(df_davidson, \"tweet\")\n",
        "df_davidson"
      ],
      "execution_count": 180,
      "outputs": [
        {
          "output_type": "execute_result",
          "data": {
            "text/html": [
              "<div>\n",
              "<style scoped>\n",
              "    .dataframe tbody tr th:only-of-type {\n",
              "        vertical-align: middle;\n",
              "    }\n",
              "\n",
              "    .dataframe tbody tr th {\n",
              "        vertical-align: top;\n",
              "    }\n",
              "\n",
              "    .dataframe thead th {\n",
              "        text-align: right;\n",
              "    }\n",
              "</style>\n",
              "<table border=\"1\" class=\"dataframe\">\n",
              "  <thead>\n",
              "    <tr style=\"text-align: right;\">\n",
              "      <th></th>\n",
              "      <th>count</th>\n",
              "      <th>hate_speech</th>\n",
              "      <th>offensive_language</th>\n",
              "      <th>neither</th>\n",
              "      <th>class</th>\n",
              "      <th>tweet</th>\n",
              "    </tr>\n",
              "  </thead>\n",
              "  <tbody>\n",
              "    <tr>\n",
              "      <th>0</th>\n",
              "      <td>3</td>\n",
              "      <td>0</td>\n",
              "      <td>0</td>\n",
              "      <td>3</td>\n",
              "      <td>2</td>\n",
              "      <td>As a woman you shouldnt complain about cleani...</td>\n",
              "    </tr>\n",
              "    <tr>\n",
              "      <th>1</th>\n",
              "      <td>3</td>\n",
              "      <td>0</td>\n",
              "      <td>3</td>\n",
              "      <td>0</td>\n",
              "      <td>1</td>\n",
              "      <td>boy dats coldtyga dwn bad for cuffin dat hoe ...</td>\n",
              "    </tr>\n",
              "    <tr>\n",
              "      <th>2</th>\n",
              "      <td>3</td>\n",
              "      <td>0</td>\n",
              "      <td>3</td>\n",
              "      <td>0</td>\n",
              "      <td>1</td>\n",
              "      <td>Dawg RT You ever fuck a bitch and she start t...</td>\n",
              "    </tr>\n",
              "    <tr>\n",
              "      <th>3</th>\n",
              "      <td>3</td>\n",
              "      <td>0</td>\n",
              "      <td>2</td>\n",
              "      <td>1</td>\n",
              "      <td>1</td>\n",
              "      <td>she look like a tranny</td>\n",
              "    </tr>\n",
              "    <tr>\n",
              "      <th>4</th>\n",
              "      <td>6</td>\n",
              "      <td>0</td>\n",
              "      <td>6</td>\n",
              "      <td>0</td>\n",
              "      <td>1</td>\n",
              "      <td>The shit you hear about me might be true or i...</td>\n",
              "    </tr>\n",
              "    <tr>\n",
              "      <th>...</th>\n",
              "      <td>...</td>\n",
              "      <td>...</td>\n",
              "      <td>...</td>\n",
              "      <td>...</td>\n",
              "      <td>...</td>\n",
              "      <td>...</td>\n",
              "    </tr>\n",
              "    <tr>\n",
              "      <th>24778</th>\n",
              "      <td>3</td>\n",
              "      <td>0</td>\n",
              "      <td>2</td>\n",
              "      <td>1</td>\n",
              "      <td>1</td>\n",
              "      <td>yous a muthafin lie right His TL is trash Now ...</td>\n",
              "    </tr>\n",
              "    <tr>\n",
              "      <th>24779</th>\n",
              "      <td>3</td>\n",
              "      <td>0</td>\n",
              "      <td>1</td>\n",
              "      <td>2</td>\n",
              "      <td>2</td>\n",
              "      <td>youve gone and broke the wrong heart baby and ...</td>\n",
              "    </tr>\n",
              "    <tr>\n",
              "      <th>24780</th>\n",
              "      <td>3</td>\n",
              "      <td>0</td>\n",
              "      <td>3</td>\n",
              "      <td>0</td>\n",
              "      <td>1</td>\n",
              "      <td>young buck wanna eat dat nigguh like I aint fu...</td>\n",
              "    </tr>\n",
              "    <tr>\n",
              "      <th>24781</th>\n",
              "      <td>6</td>\n",
              "      <td>0</td>\n",
              "      <td>6</td>\n",
              "      <td>0</td>\n",
              "      <td>1</td>\n",
              "      <td>youu got wild bitches tellin you lies</td>\n",
              "    </tr>\n",
              "    <tr>\n",
              "      <th>24782</th>\n",
              "      <td>3</td>\n",
              "      <td>0</td>\n",
              "      <td>0</td>\n",
              "      <td>3</td>\n",
              "      <td>2</td>\n",
              "      <td>Ruffled Ntac Eileen Dahlia Beautiful color com...</td>\n",
              "    </tr>\n",
              "  </tbody>\n",
              "</table>\n",
              "<p>24783 rows × 6 columns</p>\n",
              "</div>"
            ],
            "text/plain": [
              "       count  ...                                              tweet\n",
              "0          3  ...   As a woman you shouldnt complain about cleani...\n",
              "1          3  ...   boy dats coldtyga dwn bad for cuffin dat hoe ...\n",
              "2          3  ...   Dawg RT You ever fuck a bitch and she start t...\n",
              "3          3  ...                             she look like a tranny\n",
              "4          6  ...   The shit you hear about me might be true or i...\n",
              "...      ...  ...                                                ...\n",
              "24778      3  ...  yous a muthafin lie right His TL is trash Now ...\n",
              "24779      3  ...  youve gone and broke the wrong heart baby and ...\n",
              "24780      3  ...  young buck wanna eat dat nigguh like I aint fu...\n",
              "24781      6  ...              youu got wild bitches tellin you lies\n",
              "24782      3  ...  Ruffled Ntac Eileen Dahlia Beautiful color com...\n",
              "\n",
              "[24783 rows x 6 columns]"
            ]
          },
          "metadata": {},
          "execution_count": 180
        }
      ]
    },
    {
      "cell_type": "code",
      "metadata": {
        "id": "IUGbHl4lPCzl"
      },
      "source": [
        "df_davidson.to_csv('df_davs.csv', index=False, sep=' ')"
      ],
      "execution_count": 181,
      "outputs": []
    },
    {
      "cell_type": "code",
      "metadata": {
        "id": "xaK3LZEiiThb"
      },
      "source": [
        "df_davidson = tokenize_method1(df_davidson, \"tweet\")"
      ],
      "execution_count": 160,
      "outputs": []
    },
    {
      "cell_type": "code",
      "metadata": {
        "colab": {
          "base_uri": "https://localhost:8080/",
          "height": 1000
        },
        "id": "DX6VeacfO22y",
        "outputId": "1bba6eca-a64c-427d-bb4a-304c81670ce7"
      },
      "source": [
        "add_bad_words(df_davidson, \"tweet\")\n",
        "df_davidson"
      ],
      "execution_count": 161,
      "outputs": [
        {
          "output_type": "execute_result",
          "data": {
            "text/html": [
              "<div>\n",
              "<style scoped>\n",
              "    .dataframe tbody tr th:only-of-type {\n",
              "        vertical-align: middle;\n",
              "    }\n",
              "\n",
              "    .dataframe tbody tr th {\n",
              "        vertical-align: top;\n",
              "    }\n",
              "\n",
              "    .dataframe thead th {\n",
              "        text-align: right;\n",
              "    }\n",
              "</style>\n",
              "<table border=\"1\" class=\"dataframe\">\n",
              "  <thead>\n",
              "    <tr style=\"text-align: right;\">\n",
              "      <th></th>\n",
              "      <th>count</th>\n",
              "      <th>hate_speech</th>\n",
              "      <th>offensive_language</th>\n",
              "      <th>neither</th>\n",
              "      <th>class</th>\n",
              "      <th>tweet</th>\n",
              "      <th>allah akbar</th>\n",
              "      <th>blacks</th>\n",
              "      <th>chink</th>\n",
              "      <th>chinks</th>\n",
              "      <th>dykes</th>\n",
              "      <th>faggot</th>\n",
              "      <th>faggots</th>\n",
              "      <th>fags</th>\n",
              "      <th>homo</th>\n",
              "      <th>inbred</th>\n",
              "      <th>nigger</th>\n",
              "      <th>niggers</th>\n",
              "      <th>queers</th>\n",
              "      <th>raped</th>\n",
              "      <th>savages</th>\n",
              "      <th>slave</th>\n",
              "      <th>spic</th>\n",
              "      <th>wetback</th>\n",
              "      <th>wetbacks</th>\n",
              "      <th>whites</th>\n",
              "      <th>a dirty</th>\n",
              "      <th>a nigger</th>\n",
              "      <th>all niggers</th>\n",
              "      <th>all white</th>\n",
              "      <th>always fuck</th>\n",
              "      <th>ass white</th>\n",
              "      <th>be killed</th>\n",
              "      <th>beat him</th>\n",
              "      <th>biggest faggot</th>\n",
              "      <th>blame the</th>\n",
              "      <th>butt ugly</th>\n",
              "      <th>chink eyed</th>\n",
              "      <th>chinks in</th>\n",
              "      <th>coon shit</th>\n",
              "      <th>...</th>\n",
              "      <th>is a faggot</th>\n",
              "      <th>is a fuckin</th>\n",
              "      <th>is a fucking</th>\n",
              "      <th>is a nigger</th>\n",
              "      <th>like a faggot</th>\n",
              "      <th>like da colored</th>\n",
              "      <th>many niggers are</th>\n",
              "      <th>nigga and his</th>\n",
              "      <th>niggers are in</th>\n",
              "      <th>of white trash</th>\n",
              "      <th>shut up nigger</th>\n",
              "      <th>still a faggot</th>\n",
              "      <th>the biggest faggot</th>\n",
              "      <th>the faggots who</th>\n",
              "      <th>the fuck do</th>\n",
              "      <th>they all look</th>\n",
              "      <th>what a fag</th>\n",
              "      <th>white bitch in</th>\n",
              "      <th>white trash and</th>\n",
              "      <th>you a fag</th>\n",
              "      <th>you a lame</th>\n",
              "      <th>you a nigger</th>\n",
              "      <th>you fuck wit</th>\n",
              "      <th>you fucking faggot</th>\n",
              "      <th>your a cunt</th>\n",
              "      <th>your a dirty</th>\n",
              "      <th>your bitch in</th>\n",
              "      <th>a bitch made nigga</th>\n",
              "      <th>a lame nigga you</th>\n",
              "      <th>faggot if you ever</th>\n",
              "      <th>full of white trash</th>\n",
              "      <th>how many niggers are</th>\n",
              "      <th>is full of white</th>\n",
              "      <th>lame nigga you a</th>\n",
              "      <th>many niggers are in</th>\n",
              "      <th>nigga you a lame</th>\n",
              "      <th>niggers are in my</th>\n",
              "      <th>wit a lame nigga</th>\n",
              "      <th>you a lame bitch</th>\n",
              "      <th>you fuck wit a</th>\n",
              "    </tr>\n",
              "  </thead>\n",
              "  <tbody>\n",
              "    <tr>\n",
              "      <th>0</th>\n",
              "      <td>3</td>\n",
              "      <td>0</td>\n",
              "      <td>0</td>\n",
              "      <td>3</td>\n",
              "      <td>2</td>\n",
              "      <td>[As, a, woman, you, shouldnt, complain, about,...</td>\n",
              "      <td>0</td>\n",
              "      <td>0</td>\n",
              "      <td>0</td>\n",
              "      <td>0</td>\n",
              "      <td>0</td>\n",
              "      <td>0</td>\n",
              "      <td>0</td>\n",
              "      <td>0</td>\n",
              "      <td>0</td>\n",
              "      <td>0</td>\n",
              "      <td>0</td>\n",
              "      <td>0</td>\n",
              "      <td>0</td>\n",
              "      <td>0</td>\n",
              "      <td>0</td>\n",
              "      <td>0</td>\n",
              "      <td>0</td>\n",
              "      <td>0</td>\n",
              "      <td>0</td>\n",
              "      <td>0</td>\n",
              "      <td>0</td>\n",
              "      <td>0</td>\n",
              "      <td>0</td>\n",
              "      <td>0</td>\n",
              "      <td>0</td>\n",
              "      <td>0</td>\n",
              "      <td>0</td>\n",
              "      <td>0</td>\n",
              "      <td>0</td>\n",
              "      <td>0</td>\n",
              "      <td>0</td>\n",
              "      <td>0</td>\n",
              "      <td>0</td>\n",
              "      <td>0</td>\n",
              "      <td>...</td>\n",
              "      <td>0</td>\n",
              "      <td>0</td>\n",
              "      <td>0</td>\n",
              "      <td>0</td>\n",
              "      <td>0</td>\n",
              "      <td>0</td>\n",
              "      <td>0</td>\n",
              "      <td>0</td>\n",
              "      <td>0</td>\n",
              "      <td>0</td>\n",
              "      <td>0</td>\n",
              "      <td>0</td>\n",
              "      <td>0</td>\n",
              "      <td>0</td>\n",
              "      <td>0</td>\n",
              "      <td>0</td>\n",
              "      <td>0</td>\n",
              "      <td>0</td>\n",
              "      <td>0</td>\n",
              "      <td>0</td>\n",
              "      <td>0</td>\n",
              "      <td>0</td>\n",
              "      <td>0</td>\n",
              "      <td>0</td>\n",
              "      <td>0</td>\n",
              "      <td>0</td>\n",
              "      <td>0</td>\n",
              "      <td>0</td>\n",
              "      <td>0</td>\n",
              "      <td>0</td>\n",
              "      <td>0</td>\n",
              "      <td>0</td>\n",
              "      <td>0</td>\n",
              "      <td>0</td>\n",
              "      <td>0</td>\n",
              "      <td>0</td>\n",
              "      <td>0</td>\n",
              "      <td>0</td>\n",
              "      <td>0</td>\n",
              "      <td>0</td>\n",
              "    </tr>\n",
              "    <tr>\n",
              "      <th>1</th>\n",
              "      <td>3</td>\n",
              "      <td>0</td>\n",
              "      <td>3</td>\n",
              "      <td>0</td>\n",
              "      <td>1</td>\n",
              "      <td>[boy, dats, coldtyga, dwn, bad, for, cuffin, d...</td>\n",
              "      <td>0</td>\n",
              "      <td>0</td>\n",
              "      <td>0</td>\n",
              "      <td>0</td>\n",
              "      <td>0</td>\n",
              "      <td>0</td>\n",
              "      <td>0</td>\n",
              "      <td>0</td>\n",
              "      <td>0</td>\n",
              "      <td>0</td>\n",
              "      <td>0</td>\n",
              "      <td>0</td>\n",
              "      <td>0</td>\n",
              "      <td>0</td>\n",
              "      <td>0</td>\n",
              "      <td>0</td>\n",
              "      <td>0</td>\n",
              "      <td>0</td>\n",
              "      <td>0</td>\n",
              "      <td>0</td>\n",
              "      <td>0</td>\n",
              "      <td>0</td>\n",
              "      <td>0</td>\n",
              "      <td>0</td>\n",
              "      <td>0</td>\n",
              "      <td>0</td>\n",
              "      <td>0</td>\n",
              "      <td>0</td>\n",
              "      <td>0</td>\n",
              "      <td>0</td>\n",
              "      <td>0</td>\n",
              "      <td>0</td>\n",
              "      <td>0</td>\n",
              "      <td>0</td>\n",
              "      <td>...</td>\n",
              "      <td>0</td>\n",
              "      <td>0</td>\n",
              "      <td>0</td>\n",
              "      <td>0</td>\n",
              "      <td>0</td>\n",
              "      <td>0</td>\n",
              "      <td>0</td>\n",
              "      <td>0</td>\n",
              "      <td>0</td>\n",
              "      <td>0</td>\n",
              "      <td>0</td>\n",
              "      <td>0</td>\n",
              "      <td>0</td>\n",
              "      <td>0</td>\n",
              "      <td>0</td>\n",
              "      <td>0</td>\n",
              "      <td>0</td>\n",
              "      <td>0</td>\n",
              "      <td>0</td>\n",
              "      <td>0</td>\n",
              "      <td>0</td>\n",
              "      <td>0</td>\n",
              "      <td>0</td>\n",
              "      <td>0</td>\n",
              "      <td>0</td>\n",
              "      <td>0</td>\n",
              "      <td>0</td>\n",
              "      <td>0</td>\n",
              "      <td>0</td>\n",
              "      <td>0</td>\n",
              "      <td>0</td>\n",
              "      <td>0</td>\n",
              "      <td>0</td>\n",
              "      <td>0</td>\n",
              "      <td>0</td>\n",
              "      <td>0</td>\n",
              "      <td>0</td>\n",
              "      <td>0</td>\n",
              "      <td>0</td>\n",
              "      <td>0</td>\n",
              "    </tr>\n",
              "    <tr>\n",
              "      <th>2</th>\n",
              "      <td>3</td>\n",
              "      <td>0</td>\n",
              "      <td>3</td>\n",
              "      <td>0</td>\n",
              "      <td>1</td>\n",
              "      <td>[Dawg, RT, You, ever, fuck, a, bitch, and, she...</td>\n",
              "      <td>0</td>\n",
              "      <td>0</td>\n",
              "      <td>0</td>\n",
              "      <td>0</td>\n",
              "      <td>0</td>\n",
              "      <td>0</td>\n",
              "      <td>0</td>\n",
              "      <td>0</td>\n",
              "      <td>0</td>\n",
              "      <td>0</td>\n",
              "      <td>0</td>\n",
              "      <td>0</td>\n",
              "      <td>0</td>\n",
              "      <td>0</td>\n",
              "      <td>0</td>\n",
              "      <td>0</td>\n",
              "      <td>0</td>\n",
              "      <td>0</td>\n",
              "      <td>0</td>\n",
              "      <td>0</td>\n",
              "      <td>0</td>\n",
              "      <td>0</td>\n",
              "      <td>0</td>\n",
              "      <td>0</td>\n",
              "      <td>0</td>\n",
              "      <td>0</td>\n",
              "      <td>0</td>\n",
              "      <td>0</td>\n",
              "      <td>0</td>\n",
              "      <td>0</td>\n",
              "      <td>0</td>\n",
              "      <td>0</td>\n",
              "      <td>0</td>\n",
              "      <td>0</td>\n",
              "      <td>...</td>\n",
              "      <td>0</td>\n",
              "      <td>0</td>\n",
              "      <td>0</td>\n",
              "      <td>0</td>\n",
              "      <td>0</td>\n",
              "      <td>0</td>\n",
              "      <td>0</td>\n",
              "      <td>0</td>\n",
              "      <td>0</td>\n",
              "      <td>0</td>\n",
              "      <td>0</td>\n",
              "      <td>0</td>\n",
              "      <td>0</td>\n",
              "      <td>0</td>\n",
              "      <td>0</td>\n",
              "      <td>0</td>\n",
              "      <td>0</td>\n",
              "      <td>0</td>\n",
              "      <td>0</td>\n",
              "      <td>0</td>\n",
              "      <td>0</td>\n",
              "      <td>0</td>\n",
              "      <td>0</td>\n",
              "      <td>0</td>\n",
              "      <td>0</td>\n",
              "      <td>0</td>\n",
              "      <td>0</td>\n",
              "      <td>0</td>\n",
              "      <td>0</td>\n",
              "      <td>0</td>\n",
              "      <td>0</td>\n",
              "      <td>0</td>\n",
              "      <td>0</td>\n",
              "      <td>0</td>\n",
              "      <td>0</td>\n",
              "      <td>0</td>\n",
              "      <td>0</td>\n",
              "      <td>0</td>\n",
              "      <td>0</td>\n",
              "      <td>0</td>\n",
              "    </tr>\n",
              "    <tr>\n",
              "      <th>3</th>\n",
              "      <td>3</td>\n",
              "      <td>0</td>\n",
              "      <td>2</td>\n",
              "      <td>1</td>\n",
              "      <td>1</td>\n",
              "      <td>[she, look, like, a, tranny]</td>\n",
              "      <td>0</td>\n",
              "      <td>0</td>\n",
              "      <td>0</td>\n",
              "      <td>0</td>\n",
              "      <td>0</td>\n",
              "      <td>0</td>\n",
              "      <td>0</td>\n",
              "      <td>0</td>\n",
              "      <td>0</td>\n",
              "      <td>0</td>\n",
              "      <td>0</td>\n",
              "      <td>0</td>\n",
              "      <td>0</td>\n",
              "      <td>0</td>\n",
              "      <td>0</td>\n",
              "      <td>0</td>\n",
              "      <td>0</td>\n",
              "      <td>0</td>\n",
              "      <td>0</td>\n",
              "      <td>0</td>\n",
              "      <td>0</td>\n",
              "      <td>0</td>\n",
              "      <td>0</td>\n",
              "      <td>0</td>\n",
              "      <td>0</td>\n",
              "      <td>0</td>\n",
              "      <td>0</td>\n",
              "      <td>0</td>\n",
              "      <td>0</td>\n",
              "      <td>0</td>\n",
              "      <td>0</td>\n",
              "      <td>0</td>\n",
              "      <td>0</td>\n",
              "      <td>0</td>\n",
              "      <td>...</td>\n",
              "      <td>0</td>\n",
              "      <td>0</td>\n",
              "      <td>0</td>\n",
              "      <td>0</td>\n",
              "      <td>0</td>\n",
              "      <td>0</td>\n",
              "      <td>0</td>\n",
              "      <td>0</td>\n",
              "      <td>0</td>\n",
              "      <td>0</td>\n",
              "      <td>0</td>\n",
              "      <td>0</td>\n",
              "      <td>0</td>\n",
              "      <td>0</td>\n",
              "      <td>0</td>\n",
              "      <td>0</td>\n",
              "      <td>0</td>\n",
              "      <td>0</td>\n",
              "      <td>0</td>\n",
              "      <td>0</td>\n",
              "      <td>0</td>\n",
              "      <td>0</td>\n",
              "      <td>0</td>\n",
              "      <td>0</td>\n",
              "      <td>0</td>\n",
              "      <td>0</td>\n",
              "      <td>0</td>\n",
              "      <td>0</td>\n",
              "      <td>0</td>\n",
              "      <td>0</td>\n",
              "      <td>0</td>\n",
              "      <td>0</td>\n",
              "      <td>0</td>\n",
              "      <td>0</td>\n",
              "      <td>0</td>\n",
              "      <td>0</td>\n",
              "      <td>0</td>\n",
              "      <td>0</td>\n",
              "      <td>0</td>\n",
              "      <td>0</td>\n",
              "    </tr>\n",
              "    <tr>\n",
              "      <th>4</th>\n",
              "      <td>6</td>\n",
              "      <td>0</td>\n",
              "      <td>6</td>\n",
              "      <td>0</td>\n",
              "      <td>1</td>\n",
              "      <td>[The, shit, you, hear, about, me, might, be, t...</td>\n",
              "      <td>0</td>\n",
              "      <td>0</td>\n",
              "      <td>0</td>\n",
              "      <td>0</td>\n",
              "      <td>0</td>\n",
              "      <td>0</td>\n",
              "      <td>0</td>\n",
              "      <td>0</td>\n",
              "      <td>0</td>\n",
              "      <td>0</td>\n",
              "      <td>0</td>\n",
              "      <td>0</td>\n",
              "      <td>0</td>\n",
              "      <td>0</td>\n",
              "      <td>0</td>\n",
              "      <td>0</td>\n",
              "      <td>0</td>\n",
              "      <td>0</td>\n",
              "      <td>0</td>\n",
              "      <td>0</td>\n",
              "      <td>0</td>\n",
              "      <td>0</td>\n",
              "      <td>0</td>\n",
              "      <td>0</td>\n",
              "      <td>0</td>\n",
              "      <td>0</td>\n",
              "      <td>0</td>\n",
              "      <td>0</td>\n",
              "      <td>0</td>\n",
              "      <td>0</td>\n",
              "      <td>0</td>\n",
              "      <td>0</td>\n",
              "      <td>0</td>\n",
              "      <td>0</td>\n",
              "      <td>...</td>\n",
              "      <td>0</td>\n",
              "      <td>0</td>\n",
              "      <td>0</td>\n",
              "      <td>0</td>\n",
              "      <td>0</td>\n",
              "      <td>0</td>\n",
              "      <td>0</td>\n",
              "      <td>0</td>\n",
              "      <td>0</td>\n",
              "      <td>0</td>\n",
              "      <td>0</td>\n",
              "      <td>0</td>\n",
              "      <td>0</td>\n",
              "      <td>0</td>\n",
              "      <td>0</td>\n",
              "      <td>0</td>\n",
              "      <td>0</td>\n",
              "      <td>0</td>\n",
              "      <td>0</td>\n",
              "      <td>0</td>\n",
              "      <td>0</td>\n",
              "      <td>0</td>\n",
              "      <td>0</td>\n",
              "      <td>0</td>\n",
              "      <td>0</td>\n",
              "      <td>0</td>\n",
              "      <td>0</td>\n",
              "      <td>0</td>\n",
              "      <td>0</td>\n",
              "      <td>0</td>\n",
              "      <td>0</td>\n",
              "      <td>0</td>\n",
              "      <td>0</td>\n",
              "      <td>0</td>\n",
              "      <td>0</td>\n",
              "      <td>0</td>\n",
              "      <td>0</td>\n",
              "      <td>0</td>\n",
              "      <td>0</td>\n",
              "      <td>0</td>\n",
              "    </tr>\n",
              "    <tr>\n",
              "      <th>...</th>\n",
              "      <td>...</td>\n",
              "      <td>...</td>\n",
              "      <td>...</td>\n",
              "      <td>...</td>\n",
              "      <td>...</td>\n",
              "      <td>...</td>\n",
              "      <td>...</td>\n",
              "      <td>...</td>\n",
              "      <td>...</td>\n",
              "      <td>...</td>\n",
              "      <td>...</td>\n",
              "      <td>...</td>\n",
              "      <td>...</td>\n",
              "      <td>...</td>\n",
              "      <td>...</td>\n",
              "      <td>...</td>\n",
              "      <td>...</td>\n",
              "      <td>...</td>\n",
              "      <td>...</td>\n",
              "      <td>...</td>\n",
              "      <td>...</td>\n",
              "      <td>...</td>\n",
              "      <td>...</td>\n",
              "      <td>...</td>\n",
              "      <td>...</td>\n",
              "      <td>...</td>\n",
              "      <td>...</td>\n",
              "      <td>...</td>\n",
              "      <td>...</td>\n",
              "      <td>...</td>\n",
              "      <td>...</td>\n",
              "      <td>...</td>\n",
              "      <td>...</td>\n",
              "      <td>...</td>\n",
              "      <td>...</td>\n",
              "      <td>...</td>\n",
              "      <td>...</td>\n",
              "      <td>...</td>\n",
              "      <td>...</td>\n",
              "      <td>...</td>\n",
              "      <td>...</td>\n",
              "      <td>...</td>\n",
              "      <td>...</td>\n",
              "      <td>...</td>\n",
              "      <td>...</td>\n",
              "      <td>...</td>\n",
              "      <td>...</td>\n",
              "      <td>...</td>\n",
              "      <td>...</td>\n",
              "      <td>...</td>\n",
              "      <td>...</td>\n",
              "      <td>...</td>\n",
              "      <td>...</td>\n",
              "      <td>...</td>\n",
              "      <td>...</td>\n",
              "      <td>...</td>\n",
              "      <td>...</td>\n",
              "      <td>...</td>\n",
              "      <td>...</td>\n",
              "      <td>...</td>\n",
              "      <td>...</td>\n",
              "      <td>...</td>\n",
              "      <td>...</td>\n",
              "      <td>...</td>\n",
              "      <td>...</td>\n",
              "      <td>...</td>\n",
              "      <td>...</td>\n",
              "      <td>...</td>\n",
              "      <td>...</td>\n",
              "      <td>...</td>\n",
              "      <td>...</td>\n",
              "      <td>...</td>\n",
              "      <td>...</td>\n",
              "      <td>...</td>\n",
              "      <td>...</td>\n",
              "      <td>...</td>\n",
              "      <td>...</td>\n",
              "      <td>...</td>\n",
              "      <td>...</td>\n",
              "      <td>...</td>\n",
              "      <td>...</td>\n",
              "    </tr>\n",
              "    <tr>\n",
              "      <th>24778</th>\n",
              "      <td>3</td>\n",
              "      <td>0</td>\n",
              "      <td>2</td>\n",
              "      <td>1</td>\n",
              "      <td>1</td>\n",
              "      <td>[yous, a, muthafin, lie, right, His, TL, is, t...</td>\n",
              "      <td>0</td>\n",
              "      <td>0</td>\n",
              "      <td>0</td>\n",
              "      <td>0</td>\n",
              "      <td>0</td>\n",
              "      <td>0</td>\n",
              "      <td>0</td>\n",
              "      <td>0</td>\n",
              "      <td>0</td>\n",
              "      <td>0</td>\n",
              "      <td>0</td>\n",
              "      <td>0</td>\n",
              "      <td>0</td>\n",
              "      <td>0</td>\n",
              "      <td>0</td>\n",
              "      <td>0</td>\n",
              "      <td>0</td>\n",
              "      <td>0</td>\n",
              "      <td>0</td>\n",
              "      <td>0</td>\n",
              "      <td>0</td>\n",
              "      <td>0</td>\n",
              "      <td>0</td>\n",
              "      <td>0</td>\n",
              "      <td>0</td>\n",
              "      <td>0</td>\n",
              "      <td>0</td>\n",
              "      <td>0</td>\n",
              "      <td>0</td>\n",
              "      <td>0</td>\n",
              "      <td>0</td>\n",
              "      <td>0</td>\n",
              "      <td>0</td>\n",
              "      <td>0</td>\n",
              "      <td>...</td>\n",
              "      <td>0</td>\n",
              "      <td>0</td>\n",
              "      <td>0</td>\n",
              "      <td>0</td>\n",
              "      <td>0</td>\n",
              "      <td>0</td>\n",
              "      <td>0</td>\n",
              "      <td>0</td>\n",
              "      <td>0</td>\n",
              "      <td>0</td>\n",
              "      <td>0</td>\n",
              "      <td>0</td>\n",
              "      <td>0</td>\n",
              "      <td>0</td>\n",
              "      <td>0</td>\n",
              "      <td>0</td>\n",
              "      <td>0</td>\n",
              "      <td>0</td>\n",
              "      <td>0</td>\n",
              "      <td>0</td>\n",
              "      <td>0</td>\n",
              "      <td>0</td>\n",
              "      <td>0</td>\n",
              "      <td>0</td>\n",
              "      <td>0</td>\n",
              "      <td>0</td>\n",
              "      <td>0</td>\n",
              "      <td>0</td>\n",
              "      <td>0</td>\n",
              "      <td>0</td>\n",
              "      <td>0</td>\n",
              "      <td>0</td>\n",
              "      <td>0</td>\n",
              "      <td>0</td>\n",
              "      <td>0</td>\n",
              "      <td>0</td>\n",
              "      <td>0</td>\n",
              "      <td>0</td>\n",
              "      <td>0</td>\n",
              "      <td>0</td>\n",
              "    </tr>\n",
              "    <tr>\n",
              "      <th>24779</th>\n",
              "      <td>3</td>\n",
              "      <td>0</td>\n",
              "      <td>1</td>\n",
              "      <td>2</td>\n",
              "      <td>2</td>\n",
              "      <td>[youve, gone, and, broke, the, wrong, heart, b...</td>\n",
              "      <td>0</td>\n",
              "      <td>0</td>\n",
              "      <td>0</td>\n",
              "      <td>0</td>\n",
              "      <td>0</td>\n",
              "      <td>0</td>\n",
              "      <td>0</td>\n",
              "      <td>0</td>\n",
              "      <td>0</td>\n",
              "      <td>0</td>\n",
              "      <td>0</td>\n",
              "      <td>0</td>\n",
              "      <td>0</td>\n",
              "      <td>0</td>\n",
              "      <td>0</td>\n",
              "      <td>0</td>\n",
              "      <td>0</td>\n",
              "      <td>0</td>\n",
              "      <td>0</td>\n",
              "      <td>0</td>\n",
              "      <td>0</td>\n",
              "      <td>0</td>\n",
              "      <td>0</td>\n",
              "      <td>0</td>\n",
              "      <td>0</td>\n",
              "      <td>0</td>\n",
              "      <td>0</td>\n",
              "      <td>0</td>\n",
              "      <td>0</td>\n",
              "      <td>0</td>\n",
              "      <td>0</td>\n",
              "      <td>0</td>\n",
              "      <td>0</td>\n",
              "      <td>0</td>\n",
              "      <td>...</td>\n",
              "      <td>0</td>\n",
              "      <td>0</td>\n",
              "      <td>0</td>\n",
              "      <td>0</td>\n",
              "      <td>0</td>\n",
              "      <td>0</td>\n",
              "      <td>0</td>\n",
              "      <td>0</td>\n",
              "      <td>0</td>\n",
              "      <td>0</td>\n",
              "      <td>0</td>\n",
              "      <td>0</td>\n",
              "      <td>0</td>\n",
              "      <td>0</td>\n",
              "      <td>0</td>\n",
              "      <td>0</td>\n",
              "      <td>0</td>\n",
              "      <td>0</td>\n",
              "      <td>0</td>\n",
              "      <td>0</td>\n",
              "      <td>0</td>\n",
              "      <td>0</td>\n",
              "      <td>0</td>\n",
              "      <td>0</td>\n",
              "      <td>0</td>\n",
              "      <td>0</td>\n",
              "      <td>0</td>\n",
              "      <td>0</td>\n",
              "      <td>0</td>\n",
              "      <td>0</td>\n",
              "      <td>0</td>\n",
              "      <td>0</td>\n",
              "      <td>0</td>\n",
              "      <td>0</td>\n",
              "      <td>0</td>\n",
              "      <td>0</td>\n",
              "      <td>0</td>\n",
              "      <td>0</td>\n",
              "      <td>0</td>\n",
              "      <td>0</td>\n",
              "    </tr>\n",
              "    <tr>\n",
              "      <th>24780</th>\n",
              "      <td>3</td>\n",
              "      <td>0</td>\n",
              "      <td>3</td>\n",
              "      <td>0</td>\n",
              "      <td>1</td>\n",
              "      <td>[young, buck, wanna, eat, dat, nigguh, like, I...</td>\n",
              "      <td>0</td>\n",
              "      <td>0</td>\n",
              "      <td>0</td>\n",
              "      <td>0</td>\n",
              "      <td>0</td>\n",
              "      <td>0</td>\n",
              "      <td>0</td>\n",
              "      <td>0</td>\n",
              "      <td>0</td>\n",
              "      <td>0</td>\n",
              "      <td>0</td>\n",
              "      <td>0</td>\n",
              "      <td>0</td>\n",
              "      <td>0</td>\n",
              "      <td>0</td>\n",
              "      <td>0</td>\n",
              "      <td>0</td>\n",
              "      <td>0</td>\n",
              "      <td>0</td>\n",
              "      <td>0</td>\n",
              "      <td>0</td>\n",
              "      <td>0</td>\n",
              "      <td>0</td>\n",
              "      <td>0</td>\n",
              "      <td>0</td>\n",
              "      <td>0</td>\n",
              "      <td>0</td>\n",
              "      <td>0</td>\n",
              "      <td>0</td>\n",
              "      <td>0</td>\n",
              "      <td>0</td>\n",
              "      <td>0</td>\n",
              "      <td>0</td>\n",
              "      <td>0</td>\n",
              "      <td>...</td>\n",
              "      <td>0</td>\n",
              "      <td>0</td>\n",
              "      <td>0</td>\n",
              "      <td>0</td>\n",
              "      <td>0</td>\n",
              "      <td>0</td>\n",
              "      <td>0</td>\n",
              "      <td>0</td>\n",
              "      <td>0</td>\n",
              "      <td>0</td>\n",
              "      <td>0</td>\n",
              "      <td>0</td>\n",
              "      <td>0</td>\n",
              "      <td>0</td>\n",
              "      <td>0</td>\n",
              "      <td>0</td>\n",
              "      <td>0</td>\n",
              "      <td>0</td>\n",
              "      <td>0</td>\n",
              "      <td>0</td>\n",
              "      <td>0</td>\n",
              "      <td>0</td>\n",
              "      <td>0</td>\n",
              "      <td>0</td>\n",
              "      <td>0</td>\n",
              "      <td>0</td>\n",
              "      <td>0</td>\n",
              "      <td>0</td>\n",
              "      <td>0</td>\n",
              "      <td>0</td>\n",
              "      <td>0</td>\n",
              "      <td>0</td>\n",
              "      <td>0</td>\n",
              "      <td>0</td>\n",
              "      <td>0</td>\n",
              "      <td>0</td>\n",
              "      <td>0</td>\n",
              "      <td>0</td>\n",
              "      <td>0</td>\n",
              "      <td>0</td>\n",
              "    </tr>\n",
              "    <tr>\n",
              "      <th>24781</th>\n",
              "      <td>6</td>\n",
              "      <td>0</td>\n",
              "      <td>6</td>\n",
              "      <td>0</td>\n",
              "      <td>1</td>\n",
              "      <td>[youu, got, wild, bitches, tellin, you, lies]</td>\n",
              "      <td>0</td>\n",
              "      <td>0</td>\n",
              "      <td>0</td>\n",
              "      <td>0</td>\n",
              "      <td>0</td>\n",
              "      <td>0</td>\n",
              "      <td>0</td>\n",
              "      <td>0</td>\n",
              "      <td>0</td>\n",
              "      <td>0</td>\n",
              "      <td>0</td>\n",
              "      <td>0</td>\n",
              "      <td>0</td>\n",
              "      <td>0</td>\n",
              "      <td>0</td>\n",
              "      <td>0</td>\n",
              "      <td>0</td>\n",
              "      <td>0</td>\n",
              "      <td>0</td>\n",
              "      <td>0</td>\n",
              "      <td>0</td>\n",
              "      <td>0</td>\n",
              "      <td>0</td>\n",
              "      <td>0</td>\n",
              "      <td>0</td>\n",
              "      <td>0</td>\n",
              "      <td>0</td>\n",
              "      <td>0</td>\n",
              "      <td>0</td>\n",
              "      <td>0</td>\n",
              "      <td>0</td>\n",
              "      <td>0</td>\n",
              "      <td>0</td>\n",
              "      <td>0</td>\n",
              "      <td>...</td>\n",
              "      <td>0</td>\n",
              "      <td>0</td>\n",
              "      <td>0</td>\n",
              "      <td>0</td>\n",
              "      <td>0</td>\n",
              "      <td>0</td>\n",
              "      <td>0</td>\n",
              "      <td>0</td>\n",
              "      <td>0</td>\n",
              "      <td>0</td>\n",
              "      <td>0</td>\n",
              "      <td>0</td>\n",
              "      <td>0</td>\n",
              "      <td>0</td>\n",
              "      <td>0</td>\n",
              "      <td>0</td>\n",
              "      <td>0</td>\n",
              "      <td>0</td>\n",
              "      <td>0</td>\n",
              "      <td>0</td>\n",
              "      <td>0</td>\n",
              "      <td>0</td>\n",
              "      <td>0</td>\n",
              "      <td>0</td>\n",
              "      <td>0</td>\n",
              "      <td>0</td>\n",
              "      <td>0</td>\n",
              "      <td>0</td>\n",
              "      <td>0</td>\n",
              "      <td>0</td>\n",
              "      <td>0</td>\n",
              "      <td>0</td>\n",
              "      <td>0</td>\n",
              "      <td>0</td>\n",
              "      <td>0</td>\n",
              "      <td>0</td>\n",
              "      <td>0</td>\n",
              "      <td>0</td>\n",
              "      <td>0</td>\n",
              "      <td>0</td>\n",
              "    </tr>\n",
              "    <tr>\n",
              "      <th>24782</th>\n",
              "      <td>3</td>\n",
              "      <td>0</td>\n",
              "      <td>0</td>\n",
              "      <td>3</td>\n",
              "      <td>2</td>\n",
              "      <td>[Ruffled, Ntac, Eileen, Dahlia, Beautiful, col...</td>\n",
              "      <td>0</td>\n",
              "      <td>0</td>\n",
              "      <td>0</td>\n",
              "      <td>0</td>\n",
              "      <td>0</td>\n",
              "      <td>0</td>\n",
              "      <td>0</td>\n",
              "      <td>0</td>\n",
              "      <td>0</td>\n",
              "      <td>0</td>\n",
              "      <td>0</td>\n",
              "      <td>0</td>\n",
              "      <td>0</td>\n",
              "      <td>0</td>\n",
              "      <td>0</td>\n",
              "      <td>0</td>\n",
              "      <td>0</td>\n",
              "      <td>0</td>\n",
              "      <td>0</td>\n",
              "      <td>0</td>\n",
              "      <td>0</td>\n",
              "      <td>0</td>\n",
              "      <td>0</td>\n",
              "      <td>0</td>\n",
              "      <td>0</td>\n",
              "      <td>0</td>\n",
              "      <td>0</td>\n",
              "      <td>0</td>\n",
              "      <td>0</td>\n",
              "      <td>0</td>\n",
              "      <td>0</td>\n",
              "      <td>0</td>\n",
              "      <td>0</td>\n",
              "      <td>0</td>\n",
              "      <td>...</td>\n",
              "      <td>0</td>\n",
              "      <td>0</td>\n",
              "      <td>0</td>\n",
              "      <td>0</td>\n",
              "      <td>0</td>\n",
              "      <td>0</td>\n",
              "      <td>0</td>\n",
              "      <td>0</td>\n",
              "      <td>0</td>\n",
              "      <td>0</td>\n",
              "      <td>0</td>\n",
              "      <td>0</td>\n",
              "      <td>0</td>\n",
              "      <td>0</td>\n",
              "      <td>0</td>\n",
              "      <td>0</td>\n",
              "      <td>0</td>\n",
              "      <td>0</td>\n",
              "      <td>0</td>\n",
              "      <td>0</td>\n",
              "      <td>0</td>\n",
              "      <td>0</td>\n",
              "      <td>0</td>\n",
              "      <td>0</td>\n",
              "      <td>0</td>\n",
              "      <td>0</td>\n",
              "      <td>0</td>\n",
              "      <td>0</td>\n",
              "      <td>0</td>\n",
              "      <td>0</td>\n",
              "      <td>0</td>\n",
              "      <td>0</td>\n",
              "      <td>0</td>\n",
              "      <td>0</td>\n",
              "      <td>0</td>\n",
              "      <td>0</td>\n",
              "      <td>0</td>\n",
              "      <td>0</td>\n",
              "      <td>0</td>\n",
              "      <td>0</td>\n",
              "    </tr>\n",
              "  </tbody>\n",
              "</table>\n",
              "<p>24783 rows × 184 columns</p>\n",
              "</div>"
            ],
            "text/plain": [
              "       count  hate_speech  ...  you a lame bitch  you fuck wit a\n",
              "0          3            0  ...                 0               0\n",
              "1          3            0  ...                 0               0\n",
              "2          3            0  ...                 0               0\n",
              "3          3            0  ...                 0               0\n",
              "4          6            0  ...                 0               0\n",
              "...      ...          ...  ...               ...             ...\n",
              "24778      3            0  ...                 0               0\n",
              "24779      3            0  ...                 0               0\n",
              "24780      3            0  ...                 0               0\n",
              "24781      6            0  ...                 0               0\n",
              "24782      3            0  ...                 0               0\n",
              "\n",
              "[24783 rows x 184 columns]"
            ]
          },
          "metadata": {},
          "execution_count": 161
        }
      ]
    },
    {
      "cell_type": "code",
      "metadata": {
        "id": "AkYZ_SR4cq3P"
      },
      "source": [
        "# Defining which classes we will be dropping when testing\n",
        "labels_davidson = [\"count\", \"hate_speech\", \"offensive_language\", \"neither\", \"class\", \"tweet\"]\n",
        "label_davidson = \"class\""
      ],
      "execution_count": 20,
      "outputs": []
    },
    {
      "cell_type": "markdown",
      "metadata": {
        "id": "7q3EK5NieYOA"
      },
      "source": [
        "Let's do some word frequency distribution analysis to see the relation between our Davidson dataset and bag of words that we just used. "
      ]
    },
    {
      "cell_type": "code",
      "metadata": {
        "id": "fRqeJAOeekxb"
      },
      "source": [
        "# Get bad words from the tweets to see their frequency distribution \n",
        "def get_bad_words(df, l):\n",
        "  count_of_words = df[l].sum()\n",
        "  count_of_words = [x for x in count_of_words if x in words]\n",
        "  return count_of_words"
      ],
      "execution_count": 21,
      "outputs": []
    },
    {
      "cell_type": "code",
      "metadata": {
        "id": "azxvie_SfaAE"
      },
      "source": [
        "from collections import Counter\n",
        "import numpy as np\n",
        "import matplotlib.pyplot as plt\n",
        "# plot histogram of bad words in the specified dataset\n",
        "def plot_bad_words_histogram(count_of_words):\n",
        "  counts = Counter(count_of_words)\n",
        "  labels, values = zip(*counts.items())\n",
        "  indices = np.arange(len(labels))\n",
        "  bar_width = 0.2\n",
        "  plt.bar(indices, values)\n",
        "  plt.xticks(indices + bar_width, labels, rotation=\"vertical\")\n",
        "  plt.title(\"Bad words frequency in Davidson dataset tweets overall\")\n",
        "  plt.show()"
      ],
      "execution_count": 22,
      "outputs": []
    },
    {
      "cell_type": "code",
      "metadata": {
        "colab": {
          "base_uri": "https://localhost:8080/"
        },
        "id": "b2Lk_5Q0evc8",
        "outputId": "e365f747-95f7-47a1-d5e3-bf01f46d2cbb"
      },
      "source": [
        "davidson_count_of_words = get_bad_words(df_davidson, \"tweet\")\n",
        "print(davidson_count_of_words[:30])"
      ],
      "execution_count": 23,
      "outputs": [
        {
          "output_type": "stream",
          "name": "stdout",
          "text": [
            "['faggots', 'faggot', 'faggot', 'faggot', 'niggers', 'nigger', 'niggers', 'faggot', 'fags', 'faggot', 'faggot', 'nigger', 'faggot', 'niggers', 'faggot', 'nigger', 'faggot', 'dykes', 'nigger', 'faggot', 'niggers', 'faggots', 'fags', 'faggot', 'faggot', 'faggots', 'faggot', 'niggers', 'spic', 'spic']\n"
          ]
        }
      ]
    },
    {
      "cell_type": "code",
      "metadata": {
        "colab": {
          "base_uri": "https://localhost:8080/",
          "height": 318
        },
        "id": "6YWA8iHcfsl5",
        "outputId": "a3f4f954-d3ce-43f7-bae1-fb1db99fecc6"
      },
      "source": [
        "plot_bad_words_histogram(davidson_count_of_words)"
      ],
      "execution_count": 24,
      "outputs": [
        {
          "output_type": "display_data",
          "data": {
            "image/png": "[encoded data removed]",
            "text/plain": [
              "<Figure size 432x288 with 1 Axes>"
            ]
          },
          "metadata": {
            "needs_background": "light"
          }
        }
      ]
    },
    {
      "cell_type": "markdown",
      "metadata": {
        "id": "OIhu07h6gTzc"
      },
      "source": [
        "We will also use WordCloud to get a better sense of the preprocessed dataset's mostly frequently used words."
      ]
    },
    {
      "cell_type": "code",
      "metadata": {
        "id": "Iht5wCutg9Ss"
      },
      "source": [
        "from wordcloud import WordCloud\n",
        "def generate_word_cloud(count_of_words):\n",
        "  wordcloud = WordCloud(max_font_size=50, background_color=\"white\", collocations=False).generate(' '.join(count_of_words))\n",
        "  plt.imshow(wordcloud)\n",
        "  plt.axis(\"off\")\n",
        "  plt.show()"
      ],
      "execution_count": 25,
      "outputs": []
    },
    {
      "cell_type": "code",
      "metadata": {
        "colab": {
          "base_uri": "https://localhost:8080/",
          "height": 198
        },
        "id": "tG3gaQ0yhvai",
        "outputId": "9548a751-805a-4c5b-93f0-61eb7b3e3e4c"
      },
      "source": [
        "generate_word_cloud(davidson_count_of_words)"
      ],
      "execution_count": 26,
      "outputs": [
        {
          "output_type": "display_data",
          "data": {
            "image/png": "[encoded data removed]",
            "text/plain": [
              "<Figure size 432x288 with 1 Axes>"
            ]
          },
          "metadata": {
            "needs_background": "light"
          }
        }
      ]
    },
    {
      "cell_type": "markdown",
      "metadata": {
        "id": "joBgtZiEPOE2"
      },
      "source": [
        "Now, we will get Waseem dataset ready to go. Some additional preprocessing as opposed to Davidson is needed because it is possible to have some NaNs still that we want to fill with \"none\"."
      ]
    },
    {
      "cell_type": "code",
      "metadata": {
        "colab": {
          "base_uri": "https://localhost:8080/",
          "height": 419
        },
        "id": "dymXjb5KNLIE",
        "outputId": "9c840799-a2d6-4c79-a4fa-f4bb21c27d53"
      },
      "source": [
        "df_waseem = preprocessing_method1(df_waseem, \"text\")\n",
        "df_waseem[\"text\"].dropna(inplace=True)\n",
        "df_waseem[\"text\"] = df_waseem[\"text\"].map(lambda x: custom_tokenize(x)) # needed custom tokenizing due some strange errors with colab\n",
        "df_waseem[\"class_label\"] = df_waseem['class_label'].fillna(\"none\")\n",
        "\n",
        "# Defining which classes we will be dropping when testing\n",
        "labels_waseem = [\"class_label\", \"text\"] # crucial to include text here\n",
        "label_waseem = \"class_label\"\n",
        "df_waseem"
      ],
      "execution_count": 27,
      "outputs": [
        {
          "output_type": "execute_result",
          "data": {
            "text/html": [
              "<div>\n",
              "<style scoped>\n",
              "    .dataframe tbody tr th:only-of-type {\n",
              "        vertical-align: middle;\n",
              "    }\n",
              "\n",
              "    .dataframe tbody tr th {\n",
              "        vertical-align: top;\n",
              "    }\n",
              "\n",
              "    .dataframe thead th {\n",
              "        text-align: right;\n",
              "    }\n",
              "</style>\n",
              "<table border=\"1\" class=\"dataframe\">\n",
              "  <thead>\n",
              "    <tr style=\"text-align: right;\">\n",
              "      <th></th>\n",
              "      <th>text</th>\n",
              "      <th>class_label</th>\n",
              "    </tr>\n",
              "  </thead>\n",
              "  <tbody>\n",
              "    <tr>\n",
              "      <th>0</th>\n",
              "      <td>[Drasko, they, didnt, cook, half, a, bird, you...</td>\n",
              "      <td>racism</td>\n",
              "    </tr>\n",
              "    <tr>\n",
              "      <th>1</th>\n",
              "      <td>[Hopefully, someone, cooks, Drasko, in, the, n...</td>\n",
              "      <td>racism</td>\n",
              "    </tr>\n",
              "    <tr>\n",
              "      <th>2</th>\n",
              "      <td>[of, course, you, were, born, in, serbiayoure,...</td>\n",
              "      <td>racism</td>\n",
              "    </tr>\n",
              "    <tr>\n",
              "      <th>3</th>\n",
              "      <td>[These, girls, are, the, equivalent, of, the, ...</td>\n",
              "      <td>racism</td>\n",
              "    </tr>\n",
              "    <tr>\n",
              "      <th>4</th>\n",
              "      <td>[At, least, youre, only, a, tiny, bit, racist,...</td>\n",
              "      <td>racism</td>\n",
              "    </tr>\n",
              "    <tr>\n",
              "      <th>...</th>\n",
              "      <td>...</td>\n",
              "      <td>...</td>\n",
              "    </tr>\n",
              "    <tr>\n",
              "      <th>2738</th>\n",
              "      <td>[is, above, the, national, average, wage, PLUS...</td>\n",
              "      <td>sexism</td>\n",
              "    </tr>\n",
              "    <tr>\n",
              "      <th>2739</th>\n",
              "      <td>[its, a, great, website, use, it, omg, you, ar...</td>\n",
              "      <td>sexism</td>\n",
              "    </tr>\n",
              "    <tr>\n",
              "      <th>2740</th>\n",
              "      <td>[this, person, thinks, there, is, no, wage, ga...</td>\n",
              "      <td>sexism</td>\n",
              "    </tr>\n",
              "    <tr>\n",
              "      <th>2741</th>\n",
              "      <td>[Patriarchy, will, expel, me, if, I, divulge, ...</td>\n",
              "      <td>sexism</td>\n",
              "    </tr>\n",
              "    <tr>\n",
              "      <th>2742</th>\n",
              "      <td>[Womens, Studies, Learn, how, to, tell, other,...</td>\n",
              "      <td>sexism</td>\n",
              "    </tr>\n",
              "  </tbody>\n",
              "</table>\n",
              "<p>2743 rows × 2 columns</p>\n",
              "</div>"
            ],
            "text/plain": [
              "                                                   text class_label\n",
              "0     [Drasko, they, didnt, cook, half, a, bird, you...      racism\n",
              "1     [Hopefully, someone, cooks, Drasko, in, the, n...      racism\n",
              "2     [of, course, you, were, born, in, serbiayoure,...      racism\n",
              "3     [These, girls, are, the, equivalent, of, the, ...      racism\n",
              "4     [At, least, youre, only, a, tiny, bit, racist,...      racism\n",
              "...                                                 ...         ...\n",
              "2738  [is, above, the, national, average, wage, PLUS...      sexism\n",
              "2739  [its, a, great, website, use, it, omg, you, ar...      sexism\n",
              "2740  [this, person, thinks, there, is, no, wage, ga...      sexism\n",
              "2741  [Patriarchy, will, expel, me, if, I, divulge, ...      sexism\n",
              "2742  [Womens, Studies, Learn, how, to, tell, other,...      sexism\n",
              "\n",
              "[2743 rows x 2 columns]"
            ]
          },
          "metadata": {},
          "execution_count": 27
        }
      ]
    },
    {
      "cell_type": "markdown",
      "metadata": {
        "id": "FgqlqeNJFQrA"
      },
      "source": [
        "Changing the class name column to numbers, 0 - racism, 1 - sexism, 2 - none"
      ]
    },
    {
      "cell_type": "code",
      "metadata": {
        "colab": {
          "base_uri": "https://localhost:8080/",
          "height": 419
        },
        "id": "X-RRvAecFQBh",
        "outputId": "a644bef9-1605-4354-f438-9198c107add9"
      },
      "source": [
        "df_waseem['class_label'].loc[(df_waseem['class_label'] == \"racism\")] = 0\n",
        "df_waseem['class_label'].loc[(df_waseem['class_label'] == \"sexism\")] = 1\n",
        "df_waseem['class_label'].loc[(df_waseem['class_label'] == \"none\")] = 2\n",
        "df_waseem"
      ],
      "execution_count": 28,
      "outputs": [
        {
          "output_type": "execute_result",
          "data": {
            "text/html": [
              "<div>\n",
              "<style scoped>\n",
              "    .dataframe tbody tr th:only-of-type {\n",
              "        vertical-align: middle;\n",
              "    }\n",
              "\n",
              "    .dataframe tbody tr th {\n",
              "        vertical-align: top;\n",
              "    }\n",
              "\n",
              "    .dataframe thead th {\n",
              "        text-align: right;\n",
              "    }\n",
              "</style>\n",
              "<table border=\"1\" class=\"dataframe\">\n",
              "  <thead>\n",
              "    <tr style=\"text-align: right;\">\n",
              "      <th></th>\n",
              "      <th>text</th>\n",
              "      <th>class_label</th>\n",
              "    </tr>\n",
              "  </thead>\n",
              "  <tbody>\n",
              "    <tr>\n",
              "      <th>0</th>\n",
              "      <td>[Drasko, they, didnt, cook, half, a, bird, you...</td>\n",
              "      <td>0</td>\n",
              "    </tr>\n",
              "    <tr>\n",
              "      <th>1</th>\n",
              "      <td>[Hopefully, someone, cooks, Drasko, in, the, n...</td>\n",
              "      <td>0</td>\n",
              "    </tr>\n",
              "    <tr>\n",
              "      <th>2</th>\n",
              "      <td>[of, course, you, were, born, in, serbiayoure,...</td>\n",
              "      <td>0</td>\n",
              "    </tr>\n",
              "    <tr>\n",
              "      <th>3</th>\n",
              "      <td>[These, girls, are, the, equivalent, of, the, ...</td>\n",
              "      <td>0</td>\n",
              "    </tr>\n",
              "    <tr>\n",
              "      <th>4</th>\n",
              "      <td>[At, least, youre, only, a, tiny, bit, racist,...</td>\n",
              "      <td>0</td>\n",
              "    </tr>\n",
              "    <tr>\n",
              "      <th>...</th>\n",
              "      <td>...</td>\n",
              "      <td>...</td>\n",
              "    </tr>\n",
              "    <tr>\n",
              "      <th>2738</th>\n",
              "      <td>[is, above, the, national, average, wage, PLUS...</td>\n",
              "      <td>1</td>\n",
              "    </tr>\n",
              "    <tr>\n",
              "      <th>2739</th>\n",
              "      <td>[its, a, great, website, use, it, omg, you, ar...</td>\n",
              "      <td>1</td>\n",
              "    </tr>\n",
              "    <tr>\n",
              "      <th>2740</th>\n",
              "      <td>[this, person, thinks, there, is, no, wage, ga...</td>\n",
              "      <td>1</td>\n",
              "    </tr>\n",
              "    <tr>\n",
              "      <th>2741</th>\n",
              "      <td>[Patriarchy, will, expel, me, if, I, divulge, ...</td>\n",
              "      <td>1</td>\n",
              "    </tr>\n",
              "    <tr>\n",
              "      <th>2742</th>\n",
              "      <td>[Womens, Studies, Learn, how, to, tell, other,...</td>\n",
              "      <td>1</td>\n",
              "    </tr>\n",
              "  </tbody>\n",
              "</table>\n",
              "<p>2743 rows × 2 columns</p>\n",
              "</div>"
            ],
            "text/plain": [
              "                                                   text class_label\n",
              "0     [Drasko, they, didnt, cook, half, a, bird, you...           0\n",
              "1     [Hopefully, someone, cooks, Drasko, in, the, n...           0\n",
              "2     [of, course, you, were, born, in, serbiayoure,...           0\n",
              "3     [These, girls, are, the, equivalent, of, the, ...           0\n",
              "4     [At, least, youre, only, a, tiny, bit, racist,...           0\n",
              "...                                                 ...         ...\n",
              "2738  [is, above, the, national, average, wage, PLUS...           1\n",
              "2739  [its, a, great, website, use, it, omg, you, ar...           1\n",
              "2740  [this, person, thinks, there, is, no, wage, ga...           1\n",
              "2741  [Patriarchy, will, expel, me, if, I, divulge, ...           1\n",
              "2742  [Womens, Studies, Learn, how, to, tell, other,...           1\n",
              "\n",
              "[2743 rows x 2 columns]"
            ]
          },
          "metadata": {},
          "execution_count": 28
        }
      ]
    },
    {
      "cell_type": "markdown",
      "metadata": {
        "id": "yu2YSqpqHYFt"
      },
      "source": [
        "Shuffle the dataset so that all 0s and 1s are not next to each other (crucial for training)."
      ]
    },
    {
      "cell_type": "code",
      "metadata": {
        "colab": {
          "base_uri": "https://localhost:8080/",
          "height": 419
        },
        "id": "tAuSrzQYHdX4",
        "outputId": "d1a0678c-efd9-4b92-bf09-0552a3fdc2e6"
      },
      "source": [
        "df_waseem = df_waseem.sample(frac = 1)\n",
        "df_waseem"
      ],
      "execution_count": 29,
      "outputs": [
        {
          "output_type": "execute_result",
          "data": {
            "text/html": [
              "<div>\n",
              "<style scoped>\n",
              "    .dataframe tbody tr th:only-of-type {\n",
              "        vertical-align: middle;\n",
              "    }\n",
              "\n",
              "    .dataframe tbody tr th {\n",
              "        vertical-align: top;\n",
              "    }\n",
              "\n",
              "    .dataframe thead th {\n",
              "        text-align: right;\n",
              "    }\n",
              "</style>\n",
              "<table border=\"1\" class=\"dataframe\">\n",
              "  <thead>\n",
              "    <tr style=\"text-align: right;\">\n",
              "      <th></th>\n",
              "      <th>text</th>\n",
              "      <th>class_label</th>\n",
              "    </tr>\n",
              "  </thead>\n",
              "  <tbody>\n",
              "    <tr>\n",
              "      <th>311</th>\n",
              "      <td>[Annie, is, really, excited, about, eating, th...</td>\n",
              "      <td>1</td>\n",
              "    </tr>\n",
              "    <tr>\n",
              "      <th>1668</th>\n",
              "      <td>[Wow, not, funny, AND, makes, no, sense, This,...</td>\n",
              "      <td>1</td>\n",
              "    </tr>\n",
              "    <tr>\n",
              "      <th>418</th>\n",
              "      <td>[With, Kats, attitude, I, think, its, time, to...</td>\n",
              "      <td>1</td>\n",
              "    </tr>\n",
              "    <tr>\n",
              "      <th>1774</th>\n",
              "      <td>[Im, not, sexist, but, holy, shit, women, driv...</td>\n",
              "      <td>1</td>\n",
              "    </tr>\n",
              "    <tr>\n",
              "      <th>1504</th>\n",
              "      <td>[Call, me, sexist, but, female, sports, anchor...</td>\n",
              "      <td>2</td>\n",
              "    </tr>\n",
              "    <tr>\n",
              "      <th>...</th>\n",
              "      <td>...</td>\n",
              "      <td>...</td>\n",
              "    </tr>\n",
              "    <tr>\n",
              "      <th>1151</th>\n",
              "      <td>[If, being, produe, process, makes, you, prora...</td>\n",
              "      <td>1</td>\n",
              "    </tr>\n",
              "    <tr>\n",
              "      <th>1496</th>\n",
              "      <td>[Im, not, sexist, But, I, usually, walk, away,...</td>\n",
              "      <td>2</td>\n",
              "    </tr>\n",
              "    <tr>\n",
              "      <th>1202</th>\n",
              "      <td>[The, Democratic, Peoples, Republic, of, Korea...</td>\n",
              "      <td>1</td>\n",
              "    </tr>\n",
              "    <tr>\n",
              "      <th>191</th>\n",
              "      <td>[I, didnt, know, they, were, models, MKR]</td>\n",
              "      <td>2</td>\n",
              "    </tr>\n",
              "    <tr>\n",
              "      <th>801</th>\n",
              "      <td>[Not, when, it, just, ends, in, rape, charges]</td>\n",
              "      <td>1</td>\n",
              "    </tr>\n",
              "  </tbody>\n",
              "</table>\n",
              "<p>2743 rows × 2 columns</p>\n",
              "</div>"
            ],
            "text/plain": [
              "                                                   text class_label\n",
              "311   [Annie, is, really, excited, about, eating, th...           1\n",
              "1668  [Wow, not, funny, AND, makes, no, sense, This,...           1\n",
              "418   [With, Kats, attitude, I, think, its, time, to...           1\n",
              "1774  [Im, not, sexist, but, holy, shit, women, driv...           1\n",
              "1504  [Call, me, sexist, but, female, sports, anchor...           2\n",
              "...                                                 ...         ...\n",
              "1151  [If, being, produe, process, makes, you, prora...           1\n",
              "1496  [Im, not, sexist, But, I, usually, walk, away,...           2\n",
              "1202  [The, Democratic, Peoples, Republic, of, Korea...           1\n",
              "191           [I, didnt, know, they, were, models, MKR]           2\n",
              "801      [Not, when, it, just, ends, in, rape, charges]           1\n",
              "\n",
              "[2743 rows x 2 columns]"
            ]
          },
          "metadata": {},
          "execution_count": 29
        }
      ]
    },
    {
      "cell_type": "code",
      "metadata": {
        "id": "CM1Su-5lRu3p",
        "colab": {
          "base_uri": "https://localhost:8080/",
          "height": 1000
        },
        "outputId": "14f4d0d0-8b6c-4f9d-c14b-b16e4bf869a6"
      },
      "source": [
        "add_bad_words(df_waseem, \"text\")\n",
        "df_waseem"
      ],
      "execution_count": 30,
      "outputs": [
        {
          "output_type": "execute_result",
          "data": {
            "text/html": [
              "<div>\n",
              "<style scoped>\n",
              "    .dataframe tbody tr th:only-of-type {\n",
              "        vertical-align: middle;\n",
              "    }\n",
              "\n",
              "    .dataframe tbody tr th {\n",
              "        vertical-align: top;\n",
              "    }\n",
              "\n",
              "    .dataframe thead th {\n",
              "        text-align: right;\n",
              "    }\n",
              "</style>\n",
              "<table border=\"1\" class=\"dataframe\">\n",
              "  <thead>\n",
              "    <tr style=\"text-align: right;\">\n",
              "      <th></th>\n",
              "      <th>text</th>\n",
              "      <th>class_label</th>\n",
              "      <th>allah akbar</th>\n",
              "      <th>blacks</th>\n",
              "      <th>chink</th>\n",
              "      <th>chinks</th>\n",
              "      <th>dykes</th>\n",
              "      <th>faggot</th>\n",
              "      <th>faggots</th>\n",
              "      <th>fags</th>\n",
              "      <th>homo</th>\n",
              "      <th>inbred</th>\n",
              "      <th>nigger</th>\n",
              "      <th>niggers</th>\n",
              "      <th>queers</th>\n",
              "      <th>raped</th>\n",
              "      <th>savages</th>\n",
              "      <th>slave</th>\n",
              "      <th>spic</th>\n",
              "      <th>wetback</th>\n",
              "      <th>wetbacks</th>\n",
              "      <th>whites</th>\n",
              "      <th>a dirty</th>\n",
              "      <th>a nigger</th>\n",
              "      <th>all niggers</th>\n",
              "      <th>all white</th>\n",
              "      <th>always fuck</th>\n",
              "      <th>ass white</th>\n",
              "      <th>be killed</th>\n",
              "      <th>beat him</th>\n",
              "      <th>biggest faggot</th>\n",
              "      <th>blame the</th>\n",
              "      <th>butt ugly</th>\n",
              "      <th>chink eyed</th>\n",
              "      <th>chinks in</th>\n",
              "      <th>coon shit</th>\n",
              "      <th>dumb monkey</th>\n",
              "      <th>dumb nigger</th>\n",
              "      <th>fag and</th>\n",
              "      <th>fag but</th>\n",
              "      <th>...</th>\n",
              "      <th>is a faggot</th>\n",
              "      <th>is a fuckin</th>\n",
              "      <th>is a fucking</th>\n",
              "      <th>is a nigger</th>\n",
              "      <th>like a faggot</th>\n",
              "      <th>like da colored</th>\n",
              "      <th>many niggers are</th>\n",
              "      <th>nigga and his</th>\n",
              "      <th>niggers are in</th>\n",
              "      <th>of white trash</th>\n",
              "      <th>shut up nigger</th>\n",
              "      <th>still a faggot</th>\n",
              "      <th>the biggest faggot</th>\n",
              "      <th>the faggots who</th>\n",
              "      <th>the fuck do</th>\n",
              "      <th>they all look</th>\n",
              "      <th>what a fag</th>\n",
              "      <th>white bitch in</th>\n",
              "      <th>white trash and</th>\n",
              "      <th>you a fag</th>\n",
              "      <th>you a lame</th>\n",
              "      <th>you a nigger</th>\n",
              "      <th>you fuck wit</th>\n",
              "      <th>you fucking faggot</th>\n",
              "      <th>your a cunt</th>\n",
              "      <th>your a dirty</th>\n",
              "      <th>your bitch in</th>\n",
              "      <th>a bitch made nigga</th>\n",
              "      <th>a lame nigga you</th>\n",
              "      <th>faggot if you ever</th>\n",
              "      <th>full of white trash</th>\n",
              "      <th>how many niggers are</th>\n",
              "      <th>is full of white</th>\n",
              "      <th>lame nigga you a</th>\n",
              "      <th>many niggers are in</th>\n",
              "      <th>nigga you a lame</th>\n",
              "      <th>niggers are in my</th>\n",
              "      <th>wit a lame nigga</th>\n",
              "      <th>you a lame bitch</th>\n",
              "      <th>you fuck wit a</th>\n",
              "    </tr>\n",
              "  </thead>\n",
              "  <tbody>\n",
              "    <tr>\n",
              "      <th>311</th>\n",
              "      <td>[Annie, is, really, excited, about, eating, th...</td>\n",
              "      <td>1</td>\n",
              "      <td>0</td>\n",
              "      <td>0</td>\n",
              "      <td>0</td>\n",
              "      <td>0</td>\n",
              "      <td>0</td>\n",
              "      <td>0</td>\n",
              "      <td>0</td>\n",
              "      <td>0</td>\n",
              "      <td>0</td>\n",
              "      <td>0</td>\n",
              "      <td>0</td>\n",
              "      <td>0</td>\n",
              "      <td>0</td>\n",
              "      <td>0</td>\n",
              "      <td>0</td>\n",
              "      <td>0</td>\n",
              "      <td>0</td>\n",
              "      <td>0</td>\n",
              "      <td>0</td>\n",
              "      <td>0</td>\n",
              "      <td>0</td>\n",
              "      <td>0</td>\n",
              "      <td>0</td>\n",
              "      <td>0</td>\n",
              "      <td>0</td>\n",
              "      <td>0</td>\n",
              "      <td>0</td>\n",
              "      <td>0</td>\n",
              "      <td>0</td>\n",
              "      <td>0</td>\n",
              "      <td>0</td>\n",
              "      <td>0</td>\n",
              "      <td>0</td>\n",
              "      <td>0</td>\n",
              "      <td>0</td>\n",
              "      <td>0</td>\n",
              "      <td>0</td>\n",
              "      <td>0</td>\n",
              "      <td>...</td>\n",
              "      <td>0</td>\n",
              "      <td>0</td>\n",
              "      <td>0</td>\n",
              "      <td>0</td>\n",
              "      <td>0</td>\n",
              "      <td>0</td>\n",
              "      <td>0</td>\n",
              "      <td>0</td>\n",
              "      <td>0</td>\n",
              "      <td>0</td>\n",
              "      <td>0</td>\n",
              "      <td>0</td>\n",
              "      <td>0</td>\n",
              "      <td>0</td>\n",
              "      <td>0</td>\n",
              "      <td>0</td>\n",
              "      <td>0</td>\n",
              "      <td>0</td>\n",
              "      <td>0</td>\n",
              "      <td>0</td>\n",
              "      <td>0</td>\n",
              "      <td>0</td>\n",
              "      <td>0</td>\n",
              "      <td>0</td>\n",
              "      <td>0</td>\n",
              "      <td>0</td>\n",
              "      <td>0</td>\n",
              "      <td>0</td>\n",
              "      <td>0</td>\n",
              "      <td>0</td>\n",
              "      <td>0</td>\n",
              "      <td>0</td>\n",
              "      <td>0</td>\n",
              "      <td>0</td>\n",
              "      <td>0</td>\n",
              "      <td>0</td>\n",
              "      <td>0</td>\n",
              "      <td>0</td>\n",
              "      <td>0</td>\n",
              "      <td>0</td>\n",
              "    </tr>\n",
              "    <tr>\n",
              "      <th>1668</th>\n",
              "      <td>[Wow, not, funny, AND, makes, no, sense, This,...</td>\n",
              "      <td>1</td>\n",
              "      <td>0</td>\n",
              "      <td>0</td>\n",
              "      <td>0</td>\n",
              "      <td>0</td>\n",
              "      <td>0</td>\n",
              "      <td>0</td>\n",
              "      <td>0</td>\n",
              "      <td>0</td>\n",
              "      <td>0</td>\n",
              "      <td>0</td>\n",
              "      <td>0</td>\n",
              "      <td>0</td>\n",
              "      <td>0</td>\n",
              "      <td>0</td>\n",
              "      <td>0</td>\n",
              "      <td>0</td>\n",
              "      <td>0</td>\n",
              "      <td>0</td>\n",
              "      <td>0</td>\n",
              "      <td>0</td>\n",
              "      <td>0</td>\n",
              "      <td>0</td>\n",
              "      <td>0</td>\n",
              "      <td>0</td>\n",
              "      <td>0</td>\n",
              "      <td>0</td>\n",
              "      <td>0</td>\n",
              "      <td>0</td>\n",
              "      <td>0</td>\n",
              "      <td>0</td>\n",
              "      <td>0</td>\n",
              "      <td>0</td>\n",
              "      <td>0</td>\n",
              "      <td>0</td>\n",
              "      <td>0</td>\n",
              "      <td>0</td>\n",
              "      <td>0</td>\n",
              "      <td>0</td>\n",
              "      <td>...</td>\n",
              "      <td>0</td>\n",
              "      <td>0</td>\n",
              "      <td>0</td>\n",
              "      <td>0</td>\n",
              "      <td>0</td>\n",
              "      <td>0</td>\n",
              "      <td>0</td>\n",
              "      <td>0</td>\n",
              "      <td>0</td>\n",
              "      <td>0</td>\n",
              "      <td>0</td>\n",
              "      <td>0</td>\n",
              "      <td>0</td>\n",
              "      <td>0</td>\n",
              "      <td>0</td>\n",
              "      <td>0</td>\n",
              "      <td>0</td>\n",
              "      <td>0</td>\n",
              "      <td>0</td>\n",
              "      <td>0</td>\n",
              "      <td>0</td>\n",
              "      <td>0</td>\n",
              "      <td>0</td>\n",
              "      <td>0</td>\n",
              "      <td>0</td>\n",
              "      <td>0</td>\n",
              "      <td>0</td>\n",
              "      <td>0</td>\n",
              "      <td>0</td>\n",
              "      <td>0</td>\n",
              "      <td>0</td>\n",
              "      <td>0</td>\n",
              "      <td>0</td>\n",
              "      <td>0</td>\n",
              "      <td>0</td>\n",
              "      <td>0</td>\n",
              "      <td>0</td>\n",
              "      <td>0</td>\n",
              "      <td>0</td>\n",
              "      <td>0</td>\n",
              "    </tr>\n",
              "    <tr>\n",
              "      <th>418</th>\n",
              "      <td>[With, Kats, attitude, I, think, its, time, to...</td>\n",
              "      <td>1</td>\n",
              "      <td>0</td>\n",
              "      <td>0</td>\n",
              "      <td>0</td>\n",
              "      <td>0</td>\n",
              "      <td>0</td>\n",
              "      <td>0</td>\n",
              "      <td>0</td>\n",
              "      <td>0</td>\n",
              "      <td>0</td>\n",
              "      <td>0</td>\n",
              "      <td>0</td>\n",
              "      <td>0</td>\n",
              "      <td>0</td>\n",
              "      <td>0</td>\n",
              "      <td>0</td>\n",
              "      <td>0</td>\n",
              "      <td>0</td>\n",
              "      <td>0</td>\n",
              "      <td>0</td>\n",
              "      <td>0</td>\n",
              "      <td>0</td>\n",
              "      <td>0</td>\n",
              "      <td>0</td>\n",
              "      <td>0</td>\n",
              "      <td>0</td>\n",
              "      <td>0</td>\n",
              "      <td>0</td>\n",
              "      <td>0</td>\n",
              "      <td>0</td>\n",
              "      <td>0</td>\n",
              "      <td>0</td>\n",
              "      <td>0</td>\n",
              "      <td>0</td>\n",
              "      <td>0</td>\n",
              "      <td>0</td>\n",
              "      <td>0</td>\n",
              "      <td>0</td>\n",
              "      <td>0</td>\n",
              "      <td>...</td>\n",
              "      <td>0</td>\n",
              "      <td>0</td>\n",
              "      <td>0</td>\n",
              "      <td>0</td>\n",
              "      <td>0</td>\n",
              "      <td>0</td>\n",
              "      <td>0</td>\n",
              "      <td>0</td>\n",
              "      <td>0</td>\n",
              "      <td>0</td>\n",
              "      <td>0</td>\n",
              "      <td>0</td>\n",
              "      <td>0</td>\n",
              "      <td>0</td>\n",
              "      <td>0</td>\n",
              "      <td>0</td>\n",
              "      <td>0</td>\n",
              "      <td>0</td>\n",
              "      <td>0</td>\n",
              "      <td>0</td>\n",
              "      <td>0</td>\n",
              "      <td>0</td>\n",
              "      <td>0</td>\n",
              "      <td>0</td>\n",
              "      <td>0</td>\n",
              "      <td>0</td>\n",
              "      <td>0</td>\n",
              "      <td>0</td>\n",
              "      <td>0</td>\n",
              "      <td>0</td>\n",
              "      <td>0</td>\n",
              "      <td>0</td>\n",
              "      <td>0</td>\n",
              "      <td>0</td>\n",
              "      <td>0</td>\n",
              "      <td>0</td>\n",
              "      <td>0</td>\n",
              "      <td>0</td>\n",
              "      <td>0</td>\n",
              "      <td>0</td>\n",
              "    </tr>\n",
              "    <tr>\n",
              "      <th>1774</th>\n",
              "      <td>[Im, not, sexist, but, holy, shit, women, driv...</td>\n",
              "      <td>1</td>\n",
              "      <td>0</td>\n",
              "      <td>0</td>\n",
              "      <td>0</td>\n",
              "      <td>0</td>\n",
              "      <td>0</td>\n",
              "      <td>0</td>\n",
              "      <td>0</td>\n",
              "      <td>0</td>\n",
              "      <td>0</td>\n",
              "      <td>0</td>\n",
              "      <td>0</td>\n",
              "      <td>0</td>\n",
              "      <td>0</td>\n",
              "      <td>0</td>\n",
              "      <td>0</td>\n",
              "      <td>0</td>\n",
              "      <td>0</td>\n",
              "      <td>0</td>\n",
              "      <td>0</td>\n",
              "      <td>0</td>\n",
              "      <td>0</td>\n",
              "      <td>0</td>\n",
              "      <td>0</td>\n",
              "      <td>0</td>\n",
              "      <td>0</td>\n",
              "      <td>0</td>\n",
              "      <td>0</td>\n",
              "      <td>0</td>\n",
              "      <td>0</td>\n",
              "      <td>0</td>\n",
              "      <td>0</td>\n",
              "      <td>0</td>\n",
              "      <td>0</td>\n",
              "      <td>0</td>\n",
              "      <td>0</td>\n",
              "      <td>0</td>\n",
              "      <td>0</td>\n",
              "      <td>0</td>\n",
              "      <td>...</td>\n",
              "      <td>0</td>\n",
              "      <td>0</td>\n",
              "      <td>0</td>\n",
              "      <td>0</td>\n",
              "      <td>0</td>\n",
              "      <td>0</td>\n",
              "      <td>0</td>\n",
              "      <td>0</td>\n",
              "      <td>0</td>\n",
              "      <td>0</td>\n",
              "      <td>0</td>\n",
              "      <td>0</td>\n",
              "      <td>0</td>\n",
              "      <td>0</td>\n",
              "      <td>0</td>\n",
              "      <td>0</td>\n",
              "      <td>0</td>\n",
              "      <td>0</td>\n",
              "      <td>0</td>\n",
              "      <td>0</td>\n",
              "      <td>0</td>\n",
              "      <td>0</td>\n",
              "      <td>0</td>\n",
              "      <td>0</td>\n",
              "      <td>0</td>\n",
              "      <td>0</td>\n",
              "      <td>0</td>\n",
              "      <td>0</td>\n",
              "      <td>0</td>\n",
              "      <td>0</td>\n",
              "      <td>0</td>\n",
              "      <td>0</td>\n",
              "      <td>0</td>\n",
              "      <td>0</td>\n",
              "      <td>0</td>\n",
              "      <td>0</td>\n",
              "      <td>0</td>\n",
              "      <td>0</td>\n",
              "      <td>0</td>\n",
              "      <td>0</td>\n",
              "    </tr>\n",
              "    <tr>\n",
              "      <th>1504</th>\n",
              "      <td>[Call, me, sexist, but, female, sports, anchor...</td>\n",
              "      <td>2</td>\n",
              "      <td>0</td>\n",
              "      <td>0</td>\n",
              "      <td>0</td>\n",
              "      <td>0</td>\n",
              "      <td>0</td>\n",
              "      <td>0</td>\n",
              "      <td>0</td>\n",
              "      <td>0</td>\n",
              "      <td>0</td>\n",
              "      <td>0</td>\n",
              "      <td>0</td>\n",
              "      <td>0</td>\n",
              "      <td>0</td>\n",
              "      <td>0</td>\n",
              "      <td>0</td>\n",
              "      <td>0</td>\n",
              "      <td>0</td>\n",
              "      <td>0</td>\n",
              "      <td>0</td>\n",
              "      <td>0</td>\n",
              "      <td>0</td>\n",
              "      <td>0</td>\n",
              "      <td>0</td>\n",
              "      <td>0</td>\n",
              "      <td>0</td>\n",
              "      <td>0</td>\n",
              "      <td>0</td>\n",
              "      <td>0</td>\n",
              "      <td>0</td>\n",
              "      <td>0</td>\n",
              "      <td>0</td>\n",
              "      <td>0</td>\n",
              "      <td>0</td>\n",
              "      <td>0</td>\n",
              "      <td>0</td>\n",
              "      <td>0</td>\n",
              "      <td>0</td>\n",
              "      <td>0</td>\n",
              "      <td>...</td>\n",
              "      <td>0</td>\n",
              "      <td>0</td>\n",
              "      <td>0</td>\n",
              "      <td>0</td>\n",
              "      <td>0</td>\n",
              "      <td>0</td>\n",
              "      <td>0</td>\n",
              "      <td>0</td>\n",
              "      <td>0</td>\n",
              "      <td>0</td>\n",
              "      <td>0</td>\n",
              "      <td>0</td>\n",
              "      <td>0</td>\n",
              "      <td>0</td>\n",
              "      <td>0</td>\n",
              "      <td>0</td>\n",
              "      <td>0</td>\n",
              "      <td>0</td>\n",
              "      <td>0</td>\n",
              "      <td>0</td>\n",
              "      <td>0</td>\n",
              "      <td>0</td>\n",
              "      <td>0</td>\n",
              "      <td>0</td>\n",
              "      <td>0</td>\n",
              "      <td>0</td>\n",
              "      <td>0</td>\n",
              "      <td>0</td>\n",
              "      <td>0</td>\n",
              "      <td>0</td>\n",
              "      <td>0</td>\n",
              "      <td>0</td>\n",
              "      <td>0</td>\n",
              "      <td>0</td>\n",
              "      <td>0</td>\n",
              "      <td>0</td>\n",
              "      <td>0</td>\n",
              "      <td>0</td>\n",
              "      <td>0</td>\n",
              "      <td>0</td>\n",
              "    </tr>\n",
              "    <tr>\n",
              "      <th>...</th>\n",
              "      <td>...</td>\n",
              "      <td>...</td>\n",
              "      <td>...</td>\n",
              "      <td>...</td>\n",
              "      <td>...</td>\n",
              "      <td>...</td>\n",
              "      <td>...</td>\n",
              "      <td>...</td>\n",
              "      <td>...</td>\n",
              "      <td>...</td>\n",
              "      <td>...</td>\n",
              "      <td>...</td>\n",
              "      <td>...</td>\n",
              "      <td>...</td>\n",
              "      <td>...</td>\n",
              "      <td>...</td>\n",
              "      <td>...</td>\n",
              "      <td>...</td>\n",
              "      <td>...</td>\n",
              "      <td>...</td>\n",
              "      <td>...</td>\n",
              "      <td>...</td>\n",
              "      <td>...</td>\n",
              "      <td>...</td>\n",
              "      <td>...</td>\n",
              "      <td>...</td>\n",
              "      <td>...</td>\n",
              "      <td>...</td>\n",
              "      <td>...</td>\n",
              "      <td>...</td>\n",
              "      <td>...</td>\n",
              "      <td>...</td>\n",
              "      <td>...</td>\n",
              "      <td>...</td>\n",
              "      <td>...</td>\n",
              "      <td>...</td>\n",
              "      <td>...</td>\n",
              "      <td>...</td>\n",
              "      <td>...</td>\n",
              "      <td>...</td>\n",
              "      <td>...</td>\n",
              "      <td>...</td>\n",
              "      <td>...</td>\n",
              "      <td>...</td>\n",
              "      <td>...</td>\n",
              "      <td>...</td>\n",
              "      <td>...</td>\n",
              "      <td>...</td>\n",
              "      <td>...</td>\n",
              "      <td>...</td>\n",
              "      <td>...</td>\n",
              "      <td>...</td>\n",
              "      <td>...</td>\n",
              "      <td>...</td>\n",
              "      <td>...</td>\n",
              "      <td>...</td>\n",
              "      <td>...</td>\n",
              "      <td>...</td>\n",
              "      <td>...</td>\n",
              "      <td>...</td>\n",
              "      <td>...</td>\n",
              "      <td>...</td>\n",
              "      <td>...</td>\n",
              "      <td>...</td>\n",
              "      <td>...</td>\n",
              "      <td>...</td>\n",
              "      <td>...</td>\n",
              "      <td>...</td>\n",
              "      <td>...</td>\n",
              "      <td>...</td>\n",
              "      <td>...</td>\n",
              "      <td>...</td>\n",
              "      <td>...</td>\n",
              "      <td>...</td>\n",
              "      <td>...</td>\n",
              "      <td>...</td>\n",
              "      <td>...</td>\n",
              "      <td>...</td>\n",
              "      <td>...</td>\n",
              "      <td>...</td>\n",
              "      <td>...</td>\n",
              "    </tr>\n",
              "    <tr>\n",
              "      <th>1151</th>\n",
              "      <td>[If, being, produe, process, makes, you, prora...</td>\n",
              "      <td>1</td>\n",
              "      <td>0</td>\n",
              "      <td>0</td>\n",
              "      <td>0</td>\n",
              "      <td>0</td>\n",
              "      <td>0</td>\n",
              "      <td>0</td>\n",
              "      <td>0</td>\n",
              "      <td>0</td>\n",
              "      <td>0</td>\n",
              "      <td>0</td>\n",
              "      <td>0</td>\n",
              "      <td>0</td>\n",
              "      <td>0</td>\n",
              "      <td>0</td>\n",
              "      <td>0</td>\n",
              "      <td>0</td>\n",
              "      <td>0</td>\n",
              "      <td>0</td>\n",
              "      <td>0</td>\n",
              "      <td>0</td>\n",
              "      <td>0</td>\n",
              "      <td>0</td>\n",
              "      <td>0</td>\n",
              "      <td>0</td>\n",
              "      <td>0</td>\n",
              "      <td>0</td>\n",
              "      <td>0</td>\n",
              "      <td>0</td>\n",
              "      <td>0</td>\n",
              "      <td>0</td>\n",
              "      <td>0</td>\n",
              "      <td>0</td>\n",
              "      <td>0</td>\n",
              "      <td>0</td>\n",
              "      <td>0</td>\n",
              "      <td>0</td>\n",
              "      <td>0</td>\n",
              "      <td>0</td>\n",
              "      <td>...</td>\n",
              "      <td>0</td>\n",
              "      <td>0</td>\n",
              "      <td>0</td>\n",
              "      <td>0</td>\n",
              "      <td>0</td>\n",
              "      <td>0</td>\n",
              "      <td>0</td>\n",
              "      <td>0</td>\n",
              "      <td>0</td>\n",
              "      <td>0</td>\n",
              "      <td>0</td>\n",
              "      <td>0</td>\n",
              "      <td>0</td>\n",
              "      <td>0</td>\n",
              "      <td>0</td>\n",
              "      <td>0</td>\n",
              "      <td>0</td>\n",
              "      <td>0</td>\n",
              "      <td>0</td>\n",
              "      <td>0</td>\n",
              "      <td>0</td>\n",
              "      <td>0</td>\n",
              "      <td>0</td>\n",
              "      <td>0</td>\n",
              "      <td>0</td>\n",
              "      <td>0</td>\n",
              "      <td>0</td>\n",
              "      <td>0</td>\n",
              "      <td>0</td>\n",
              "      <td>0</td>\n",
              "      <td>0</td>\n",
              "      <td>0</td>\n",
              "      <td>0</td>\n",
              "      <td>0</td>\n",
              "      <td>0</td>\n",
              "      <td>0</td>\n",
              "      <td>0</td>\n",
              "      <td>0</td>\n",
              "      <td>0</td>\n",
              "      <td>0</td>\n",
              "    </tr>\n",
              "    <tr>\n",
              "      <th>1496</th>\n",
              "      <td>[Im, not, sexist, But, I, usually, walk, away,...</td>\n",
              "      <td>2</td>\n",
              "      <td>0</td>\n",
              "      <td>0</td>\n",
              "      <td>0</td>\n",
              "      <td>0</td>\n",
              "      <td>0</td>\n",
              "      <td>0</td>\n",
              "      <td>0</td>\n",
              "      <td>0</td>\n",
              "      <td>0</td>\n",
              "      <td>0</td>\n",
              "      <td>0</td>\n",
              "      <td>0</td>\n",
              "      <td>0</td>\n",
              "      <td>0</td>\n",
              "      <td>0</td>\n",
              "      <td>0</td>\n",
              "      <td>0</td>\n",
              "      <td>0</td>\n",
              "      <td>0</td>\n",
              "      <td>0</td>\n",
              "      <td>0</td>\n",
              "      <td>0</td>\n",
              "      <td>0</td>\n",
              "      <td>0</td>\n",
              "      <td>0</td>\n",
              "      <td>0</td>\n",
              "      <td>0</td>\n",
              "      <td>0</td>\n",
              "      <td>0</td>\n",
              "      <td>0</td>\n",
              "      <td>0</td>\n",
              "      <td>0</td>\n",
              "      <td>0</td>\n",
              "      <td>0</td>\n",
              "      <td>0</td>\n",
              "      <td>0</td>\n",
              "      <td>0</td>\n",
              "      <td>0</td>\n",
              "      <td>...</td>\n",
              "      <td>0</td>\n",
              "      <td>0</td>\n",
              "      <td>0</td>\n",
              "      <td>0</td>\n",
              "      <td>0</td>\n",
              "      <td>0</td>\n",
              "      <td>0</td>\n",
              "      <td>0</td>\n",
              "      <td>0</td>\n",
              "      <td>0</td>\n",
              "      <td>0</td>\n",
              "      <td>0</td>\n",
              "      <td>0</td>\n",
              "      <td>0</td>\n",
              "      <td>0</td>\n",
              "      <td>0</td>\n",
              "      <td>0</td>\n",
              "      <td>0</td>\n",
              "      <td>0</td>\n",
              "      <td>0</td>\n",
              "      <td>0</td>\n",
              "      <td>0</td>\n",
              "      <td>0</td>\n",
              "      <td>0</td>\n",
              "      <td>0</td>\n",
              "      <td>0</td>\n",
              "      <td>0</td>\n",
              "      <td>0</td>\n",
              "      <td>0</td>\n",
              "      <td>0</td>\n",
              "      <td>0</td>\n",
              "      <td>0</td>\n",
              "      <td>0</td>\n",
              "      <td>0</td>\n",
              "      <td>0</td>\n",
              "      <td>0</td>\n",
              "      <td>0</td>\n",
              "      <td>0</td>\n",
              "      <td>0</td>\n",
              "      <td>0</td>\n",
              "    </tr>\n",
              "    <tr>\n",
              "      <th>1202</th>\n",
              "      <td>[The, Democratic, Peoples, Republic, of, Korea...</td>\n",
              "      <td>1</td>\n",
              "      <td>0</td>\n",
              "      <td>0</td>\n",
              "      <td>0</td>\n",
              "      <td>0</td>\n",
              "      <td>0</td>\n",
              "      <td>0</td>\n",
              "      <td>0</td>\n",
              "      <td>0</td>\n",
              "      <td>0</td>\n",
              "      <td>0</td>\n",
              "      <td>0</td>\n",
              "      <td>0</td>\n",
              "      <td>0</td>\n",
              "      <td>0</td>\n",
              "      <td>0</td>\n",
              "      <td>0</td>\n",
              "      <td>0</td>\n",
              "      <td>0</td>\n",
              "      <td>0</td>\n",
              "      <td>0</td>\n",
              "      <td>0</td>\n",
              "      <td>0</td>\n",
              "      <td>0</td>\n",
              "      <td>0</td>\n",
              "      <td>0</td>\n",
              "      <td>0</td>\n",
              "      <td>0</td>\n",
              "      <td>0</td>\n",
              "      <td>0</td>\n",
              "      <td>0</td>\n",
              "      <td>0</td>\n",
              "      <td>0</td>\n",
              "      <td>0</td>\n",
              "      <td>0</td>\n",
              "      <td>0</td>\n",
              "      <td>0</td>\n",
              "      <td>0</td>\n",
              "      <td>0</td>\n",
              "      <td>...</td>\n",
              "      <td>0</td>\n",
              "      <td>0</td>\n",
              "      <td>0</td>\n",
              "      <td>0</td>\n",
              "      <td>0</td>\n",
              "      <td>0</td>\n",
              "      <td>0</td>\n",
              "      <td>0</td>\n",
              "      <td>0</td>\n",
              "      <td>0</td>\n",
              "      <td>0</td>\n",
              "      <td>0</td>\n",
              "      <td>0</td>\n",
              "      <td>0</td>\n",
              "      <td>0</td>\n",
              "      <td>0</td>\n",
              "      <td>0</td>\n",
              "      <td>0</td>\n",
              "      <td>0</td>\n",
              "      <td>0</td>\n",
              "      <td>0</td>\n",
              "      <td>0</td>\n",
              "      <td>0</td>\n",
              "      <td>0</td>\n",
              "      <td>0</td>\n",
              "      <td>0</td>\n",
              "      <td>0</td>\n",
              "      <td>0</td>\n",
              "      <td>0</td>\n",
              "      <td>0</td>\n",
              "      <td>0</td>\n",
              "      <td>0</td>\n",
              "      <td>0</td>\n",
              "      <td>0</td>\n",
              "      <td>0</td>\n",
              "      <td>0</td>\n",
              "      <td>0</td>\n",
              "      <td>0</td>\n",
              "      <td>0</td>\n",
              "      <td>0</td>\n",
              "    </tr>\n",
              "    <tr>\n",
              "      <th>191</th>\n",
              "      <td>[I, didnt, know, they, were, models, MKR]</td>\n",
              "      <td>2</td>\n",
              "      <td>0</td>\n",
              "      <td>0</td>\n",
              "      <td>0</td>\n",
              "      <td>0</td>\n",
              "      <td>0</td>\n",
              "      <td>0</td>\n",
              "      <td>0</td>\n",
              "      <td>0</td>\n",
              "      <td>0</td>\n",
              "      <td>0</td>\n",
              "      <td>0</td>\n",
              "      <td>0</td>\n",
              "      <td>0</td>\n",
              "      <td>0</td>\n",
              "      <td>0</td>\n",
              "      <td>0</td>\n",
              "      <td>0</td>\n",
              "      <td>0</td>\n",
              "      <td>0</td>\n",
              "      <td>0</td>\n",
              "      <td>0</td>\n",
              "      <td>0</td>\n",
              "      <td>0</td>\n",
              "      <td>0</td>\n",
              "      <td>0</td>\n",
              "      <td>0</td>\n",
              "      <td>0</td>\n",
              "      <td>0</td>\n",
              "      <td>0</td>\n",
              "      <td>0</td>\n",
              "      <td>0</td>\n",
              "      <td>0</td>\n",
              "      <td>0</td>\n",
              "      <td>0</td>\n",
              "      <td>0</td>\n",
              "      <td>0</td>\n",
              "      <td>0</td>\n",
              "      <td>0</td>\n",
              "      <td>...</td>\n",
              "      <td>0</td>\n",
              "      <td>0</td>\n",
              "      <td>0</td>\n",
              "      <td>0</td>\n",
              "      <td>0</td>\n",
              "      <td>0</td>\n",
              "      <td>0</td>\n",
              "      <td>0</td>\n",
              "      <td>0</td>\n",
              "      <td>0</td>\n",
              "      <td>0</td>\n",
              "      <td>0</td>\n",
              "      <td>0</td>\n",
              "      <td>0</td>\n",
              "      <td>0</td>\n",
              "      <td>0</td>\n",
              "      <td>0</td>\n",
              "      <td>0</td>\n",
              "      <td>0</td>\n",
              "      <td>0</td>\n",
              "      <td>0</td>\n",
              "      <td>0</td>\n",
              "      <td>0</td>\n",
              "      <td>0</td>\n",
              "      <td>0</td>\n",
              "      <td>0</td>\n",
              "      <td>0</td>\n",
              "      <td>0</td>\n",
              "      <td>0</td>\n",
              "      <td>0</td>\n",
              "      <td>0</td>\n",
              "      <td>0</td>\n",
              "      <td>0</td>\n",
              "      <td>0</td>\n",
              "      <td>0</td>\n",
              "      <td>0</td>\n",
              "      <td>0</td>\n",
              "      <td>0</td>\n",
              "      <td>0</td>\n",
              "      <td>0</td>\n",
              "    </tr>\n",
              "    <tr>\n",
              "      <th>801</th>\n",
              "      <td>[Not, when, it, just, ends, in, rape, charges]</td>\n",
              "      <td>1</td>\n",
              "      <td>0</td>\n",
              "      <td>0</td>\n",
              "      <td>0</td>\n",
              "      <td>0</td>\n",
              "      <td>0</td>\n",
              "      <td>0</td>\n",
              "      <td>0</td>\n",
              "      <td>0</td>\n",
              "      <td>0</td>\n",
              "      <td>0</td>\n",
              "      <td>0</td>\n",
              "      <td>0</td>\n",
              "      <td>0</td>\n",
              "      <td>0</td>\n",
              "      <td>0</td>\n",
              "      <td>0</td>\n",
              "      <td>0</td>\n",
              "      <td>0</td>\n",
              "      <td>0</td>\n",
              "      <td>0</td>\n",
              "      <td>0</td>\n",
              "      <td>0</td>\n",
              "      <td>0</td>\n",
              "      <td>0</td>\n",
              "      <td>0</td>\n",
              "      <td>0</td>\n",
              "      <td>0</td>\n",
              "      <td>0</td>\n",
              "      <td>0</td>\n",
              "      <td>0</td>\n",
              "      <td>0</td>\n",
              "      <td>0</td>\n",
              "      <td>0</td>\n",
              "      <td>0</td>\n",
              "      <td>0</td>\n",
              "      <td>0</td>\n",
              "      <td>0</td>\n",
              "      <td>0</td>\n",
              "      <td>...</td>\n",
              "      <td>0</td>\n",
              "      <td>0</td>\n",
              "      <td>0</td>\n",
              "      <td>0</td>\n",
              "      <td>0</td>\n",
              "      <td>0</td>\n",
              "      <td>0</td>\n",
              "      <td>0</td>\n",
              "      <td>0</td>\n",
              "      <td>0</td>\n",
              "      <td>0</td>\n",
              "      <td>0</td>\n",
              "      <td>0</td>\n",
              "      <td>0</td>\n",
              "      <td>0</td>\n",
              "      <td>0</td>\n",
              "      <td>0</td>\n",
              "      <td>0</td>\n",
              "      <td>0</td>\n",
              "      <td>0</td>\n",
              "      <td>0</td>\n",
              "      <td>0</td>\n",
              "      <td>0</td>\n",
              "      <td>0</td>\n",
              "      <td>0</td>\n",
              "      <td>0</td>\n",
              "      <td>0</td>\n",
              "      <td>0</td>\n",
              "      <td>0</td>\n",
              "      <td>0</td>\n",
              "      <td>0</td>\n",
              "      <td>0</td>\n",
              "      <td>0</td>\n",
              "      <td>0</td>\n",
              "      <td>0</td>\n",
              "      <td>0</td>\n",
              "      <td>0</td>\n",
              "      <td>0</td>\n",
              "      <td>0</td>\n",
              "      <td>0</td>\n",
              "    </tr>\n",
              "  </tbody>\n",
              "</table>\n",
              "<p>2743 rows × 180 columns</p>\n",
              "</div>"
            ],
            "text/plain": [
              "                                                   text  ... you fuck wit a\n",
              "311   [Annie, is, really, excited, about, eating, th...  ...              0\n",
              "1668  [Wow, not, funny, AND, makes, no, sense, This,...  ...              0\n",
              "418   [With, Kats, attitude, I, think, its, time, to...  ...              0\n",
              "1774  [Im, not, sexist, but, holy, shit, women, driv...  ...              0\n",
              "1504  [Call, me, sexist, but, female, sports, anchor...  ...              0\n",
              "...                                                 ...  ...            ...\n",
              "1151  [If, being, produe, process, makes, you, prora...  ...              0\n",
              "1496  [Im, not, sexist, But, I, usually, walk, away,...  ...              0\n",
              "1202  [The, Democratic, Peoples, Republic, of, Korea...  ...              0\n",
              "191           [I, didnt, know, they, were, models, MKR]  ...              0\n",
              "801      [Not, when, it, just, ends, in, rape, charges]  ...              0\n",
              "\n",
              "[2743 rows x 180 columns]"
            ]
          },
          "metadata": {},
          "execution_count": 30
        }
      ]
    },
    {
      "cell_type": "markdown",
      "metadata": {
        "id": "7dR3rtE0iaVE"
      },
      "source": [
        "Let's try to better understand the relationship between the dataset and the bag of words."
      ]
    },
    {
      "cell_type": "code",
      "metadata": {
        "colab": {
          "base_uri": "https://localhost:8080/"
        },
        "id": "HEaMu3laifI0",
        "outputId": "77986be1-beb2-4e67-a0dd-9be5dbf75ab6"
      },
      "source": [
        "waseem_count_of_words = get_bad_words(df_waseem, \"text\")\n",
        "print(waseem_count_of_words[:30])"
      ],
      "execution_count": 31,
      "outputs": [
        {
          "output_type": "stream",
          "name": "stdout",
          "text": [
            "['raped', 'raped', 'raped', 'raped', 'raped', 'raped', 'raped', 'faggot', 'raped', 'faggots']\n"
          ]
        }
      ]
    },
    {
      "cell_type": "code",
      "metadata": {
        "colab": {
          "base_uri": "https://localhost:8080/",
          "height": 309
        },
        "id": "nZmOC0pojHk0",
        "outputId": "0b366ecf-3e5b-4d49-a516-f980d039a39e"
      },
      "source": [
        "plot_bad_words_histogram(waseem_count_of_words)"
      ],
      "execution_count": 32,
      "outputs": [
        {
          "output_type": "display_data",
          "data": {
            "image/png": "[encoded data removed]",
            "text/plain": [
              "<Figure size 432x288 with 1 Axes>"
            ]
          },
          "metadata": {
            "needs_background": "light"
          }
        }
      ]
    },
    {
      "cell_type": "code",
      "metadata": {
        "colab": {
          "base_uri": "https://localhost:8080/",
          "height": 198
        },
        "id": "hVtqm0AmjOT9",
        "outputId": "1d203fcb-9ce3-4dac-e733-414c911ef375"
      },
      "source": [
        "generate_word_cloud(waseem_count_of_words)"
      ],
      "execution_count": 33,
      "outputs": [
        {
          "output_type": "display_data",
          "data": {
            "image/png": "[encoded data removed]",
            "text/plain": [
              "<Figure size 432x288 with 1 Axes>"
            ]
          },
          "metadata": {
            "needs_background": "light"
          }
        }
      ]
    },
    {
      "cell_type": "code",
      "metadata": {
        "id": "09Hcavi0Qpa5"
      },
      "source": [
        "# TODO (Amy): preprocess data in other ways + preproces Founta data \n",
        "# when adding new methods of preprocessing remember to run it on all datasets that we have "
      ],
      "execution_count": 34,
      "outputs": []
    },
    {
      "cell_type": "code",
      "metadata": {
        "id": "FuhAzFoCnpN1"
      },
      "source": [
        "# TODO (Zach): after adding Hate base as bag of words, preprocess the data and also run the models on it later "
      ],
      "execution_count": 35,
      "outputs": []
    },
    {
      "cell_type": "markdown",
      "metadata": {
        "id": "zCnNlZwFQ0nH"
      },
      "source": [
        "#Models\n",
        "In this section, we will initialize model functions that we will later use to see which Machine Learning Model performs best for the task of hate speech detection. "
      ]
    },
    {
      "cell_type": "code",
      "metadata": {
        "id": "aFIAs4-TlbX2"
      },
      "source": [
        "# TODO (all): right now all the models are running for all labels simultaneously\n",
        "# for example it is assigning sexism, racism, none at the same time\n",
        "# in the paper, they do it separetly. Hence we should keep what we have but\n",
        "# we should also have the separation \n",
        "# Bottom line: DO NOT DELETE THE CODE FOR THEM at once but rather also\n",
        "# add the code for all 2 separately for each dataset\n",
        "# TODO(Zuzanna): Waseem & Davidson\n",
        "# TODO(Amy): Founta\n",
        "# Remember, this step will include also adding the code to the later section, make\n",
        "# sure it is also added there."
      ],
      "execution_count": 36,
      "outputs": []
    },
    {
      "cell_type": "markdown",
      "metadata": {
        "id": "nIKSd7lvQQEv"
      },
      "source": [
        "## Decision Tree Classifier"
      ]
    },
    {
      "cell_type": "markdown",
      "metadata": {
        "id": "xsmF2s66SXo8"
      },
      "source": [
        "#### In this section we define Decision Tree Classifier. We used max_depth to be 10 and min_samples_leaf to be 5. "
      ]
    },
    {
      "cell_type": "code",
      "metadata": {
        "id": "WdhNWV7NQKzE"
      },
      "source": [
        "from sklearn.tree import DecisionTreeClassifier\n",
        "\n",
        "def decision_tree_classifier(dataset, labels, label):\n",
        "  X_train, X_test, y_train, y_test = train_test_split(dataset.drop(labels, axis = 1), dataset[label].astype(int), test_size = 0.3)\n",
        "  clf = DecisionTreeClassifier(random_state = 100, max_depth = 10, min_samples_leaf = 5)\n",
        "  clf.fit(X_train, y_train)\n",
        "  decision_tree_preds = clf.predict(X_test)\n",
        "  y_test_decision = y_test\n",
        "  return precision_recall_fscore_support(y_test, decision_tree_preds)"
      ],
      "execution_count": 37,
      "outputs": []
    },
    {
      "cell_type": "markdown",
      "metadata": {
        "id": "EUi984Z_P9iy"
      },
      "source": [
        "## Adabooost Classifier"
      ]
    },
    {
      "cell_type": "markdown",
      "metadata": {
        "id": "Z72nPnqwSpZ5"
      },
      "source": [
        "#### Here, we trained yet another classifier– Adaboost. "
      ]
    },
    {
      "cell_type": "code",
      "metadata": {
        "id": "5Mk_MWP0F7fW"
      },
      "source": [
        "from sklearn.ensemble import AdaBoostClassifier\n",
        "def adaboost_classifier(df, labels, label):\n",
        "  X_train, X_test, y_train, y_test = train_test_split(df.drop(labels, axis = 1), df[label].astype(int), test_size = 0.3)\n",
        "  clf = AdaBoostClassifier()\n",
        "  clf.fit(X_train, y_train)\n",
        "  adaboost_preds = clf.predict(X_test)\n",
        "  y_test_adaboost = y_test\n",
        "  return precision_recall_fscore_support(y_test, adaboost_preds)"
      ],
      "execution_count": 38,
      "outputs": []
    },
    {
      "cell_type": "markdown",
      "metadata": {
        "id": "ITaP7VnHQB57"
      },
      "source": [
        "## Logistic Regression"
      ]
    },
    {
      "cell_type": "markdown",
      "metadata": {
        "id": "S7aT4c_nTLll"
      },
      "source": [
        "#### Third model we used is the same model as they used in the study— logisitic regression. "
      ]
    },
    {
      "cell_type": "code",
      "metadata": {
        "id": "Q0bP0ECdHFhJ"
      },
      "source": [
        "from sklearn.linear_model import LogisticRegression\n",
        "\n",
        "def logisitic_regression_classifier(df, labels, label):\n",
        "  X_train, X_test, y_train, y_test = train_test_split(df.drop(labels, axis = 1), df[label].astype(int), test_size = 0.3)\n",
        "\n",
        "  clf = LogisticRegression()\n",
        "  clf.fit(X_train, y_train)\n",
        "\n",
        "  logistic_preds = clf.predict(X_test)\n",
        "  y_test_logisitic = y_test\n",
        "  return precision_recall_fscore_support(y_test, logistic_preds)"
      ],
      "execution_count": 39,
      "outputs": []
    },
    {
      "cell_type": "markdown",
      "metadata": {
        "id": "ItHhU_KCJE1T"
      },
      "source": [
        "## Linear Regression\n",
        "Here we will explore linear regression. We will use MSE, R2 score, and RMSE to assess our results because we cannot use precision, accuracy, and recall for Linear Regression."
      ]
    },
    {
      "cell_type": "code",
      "metadata": {
        "id": "dc-Q1oPfkYJW"
      },
      "source": [
        "from sklearn.linear_model import LinearRegression\n",
        "\n",
        "def linear_regression_classifier(df, labels, label):\n",
        "  X_train, X_test, y_train, y_test = train_test_split(df.drop(labels, axis = 1), df[label].astype(int), test_size = 0.3)\n",
        "\n",
        "  clf = LinearRegression()\n",
        "  clf.fit(X_train, y_train)\n",
        "\n",
        "  lin_preds = clf.predict(X_test)\n",
        "  y_test_lin = y_test\n",
        "  return [mean_squared_error(y_test_lin, lin_preds), r2_score(y_test_lin, lin_preds), \n",
        "          mean_squared_error(y_test_lin, lin_preds, squared=False)] # in order MSE, R2, RMSE"
      ],
      "execution_count": 40,
      "outputs": []
    },
    {
      "cell_type": "markdown",
      "metadata": {
        "id": "Jpb_5N2pGKAw"
      },
      "source": [
        "## Random Forest\n",
        "In this part we will create **Random Forest** Classifier with usage of **gini** index. "
      ]
    },
    {
      "cell_type": "code",
      "metadata": {
        "id": "mDbvY9cLkdEX"
      },
      "source": [
        "from sklearn.ensemble import RandomForestClassifier\n",
        "def random_forest_classifier_gini(df, labels, label):\n",
        "  X_train, X_test, y_train, y_test = train_test_split(df.drop(labels, axis = 1), df[label].astype(int), test_size = 0.3)\n",
        "\n",
        "  clf = RandomForestClassifier()\n",
        "  clf.fit(X_train, y_train)\n",
        "\n",
        "  random_forest_preds = clf.predict(X_test)\n",
        "  y_test_rf = y_test\n",
        "  return precision_recall_fscore_support(y_test, random_forest_preds)"
      ],
      "execution_count": 41,
      "outputs": []
    },
    {
      "cell_type": "markdown",
      "metadata": {
        "id": "3RRiVw5lJQVt"
      },
      "source": [
        "And now with usage of **entropy**. "
      ]
    },
    {
      "cell_type": "code",
      "metadata": {
        "id": "FL-tzj-dJise"
      },
      "source": [
        "def random_forest_classifier_entropy(df, labels, label):\n",
        "  X_train, X_test, y_train, y_test = train_test_split(df.drop(labels, axis = 1), df[label].astype(int), test_size = 0.3)\n",
        "\n",
        "  clf = RandomForestClassifier(criterion=\"entropy\")\n",
        "  clf.fit(X_train, y_train)\n",
        "\n",
        "  random_forest_preds = clf.predict(X_test)\n",
        "  y_test_rf = y_test\n",
        "  return precision_recall_fscore_support(y_test, random_forest_preds)"
      ],
      "execution_count": 42,
      "outputs": []
    },
    {
      "cell_type": "markdown",
      "metadata": {
        "id": "PL7Slj60nbl5"
      },
      "source": [
        "# K-means"
      ]
    },
    {
      "cell_type": "markdown",
      "metadata": {
        "id": "SYO1z4Gvnk5K"
      },
      "source": [
        "Now we will use k-means for this problem. "
      ]
    },
    {
      "cell_type": "code",
      "metadata": {
        "id": "r1OV9S7Vn0Lp"
      },
      "source": [
        "from sklearn.cluster import KMeans\n",
        "def k_means_cluster(df, labels, label, k):\n",
        "  X_train, X_test, y_train, y_test = train_test_split(df.drop(labels, axis = 1), df[label].astype(int), test_size = 0.3)\n",
        "  clf = KMeans(n_clusters = k)\n",
        "  clf.fit(X_train, y_train)\n",
        "  k_means_preds = clf.predict(X_test)\n",
        "  y_test_k_means = y_test\n",
        "  return precision_recall_fscore_support(y_test, k_means_preds)"
      ],
      "execution_count": 66,
      "outputs": []
    },
    {
      "cell_type": "code",
      "metadata": {
        "id": "H7WTnP2Ikf6i"
      },
      "source": [
        "# TODO (Zuzanna): add CNNs (different variations and combinations)"
      ],
      "execution_count": 43,
      "outputs": []
    },
    {
      "cell_type": "code",
      "metadata": {
        "id": "V3uk7o8DkrGV"
      },
      "source": [
        "# TODO (Zuzanna): look at possible parameter tweaks"
      ],
      "execution_count": 44,
      "outputs": []
    },
    {
      "cell_type": "code",
      "metadata": {
        "id": "36Jz4dmbk43V"
      },
      "source": [
        "# TODO (Amy): add k nearest neighbors (for at least 2 different values of k)"
      ],
      "execution_count": 45,
      "outputs": []
    },
    {
      "cell_type": "markdown",
      "metadata": {
        "id": "nSgHGsGvRdfZ"
      },
      "source": [
        "# Running the models on the data\n",
        "In this section, we will use functions defined above to run them on the preprocessed data. "
      ]
    },
    {
      "cell_type": "markdown",
      "metadata": {
        "id": "RhyX5KC1Rq0r"
      },
      "source": [
        "First, we will run our data on the **Decision Tree Classifier**. We start with **Davidson data**. "
      ]
    },
    {
      "cell_type": "code",
      "metadata": {
        "colab": {
          "base_uri": "https://localhost:8080/"
        },
        "id": "DrnJV0jpRwhz",
        "outputId": "db7b1b20-08e8-4056-bafa-c12e7100eef9"
      },
      "source": [
        "decision_tree_metrics_davidson = decision_tree_classifier(df_davidson, labels_davidson, label_davidson)\n",
        "decision_tree_metrics_davidson"
      ],
      "execution_count": 46,
      "outputs": [
        {
          "output_type": "stream",
          "name": "stderr",
          "text": [
            "/usr/local/lib/python3.7/dist-packages/sklearn/metrics/_classification.py:1308: UndefinedMetricWarning: Precision and F-score are ill-defined and being set to 0.0 in labels with no predicted samples. Use `zero_division` parameter to control this behavior.\n",
            "  _warn_prf(average, modifier, msg_start, len(result))\n"
          ]
        },
        {
          "output_type": "execute_result",
          "data": {
            "text/plain": [
              "(array([0.58888889, 0.77726344, 0.        ]),\n",
              " array([0.12771084, 0.99373368, 0.        ]),\n",
              " array([0.20990099, 0.87226891, 0.        ]),\n",
              " array([ 415, 5745, 1275]))"
            ]
          },
          "metadata": {},
          "execution_count": 46
        }
      ]
    },
    {
      "cell_type": "markdown",
      "metadata": {
        "id": "V-HyoCJSR_-G"
      },
      "source": [
        "Then we run it on the **Waseem data.** "
      ]
    },
    {
      "cell_type": "code",
      "metadata": {
        "colab": {
          "base_uri": "https://localhost:8080/"
        },
        "id": "3huKo_1iSKe9",
        "outputId": "9bf8e856-a06f-468e-ea4c-ae699dbaa926"
      },
      "source": [
        "decision_tree_metrics_waseem = decision_tree_classifier(df_waseem, labels_waseem, label_waseem)\n",
        "decision_tree_metrics_waseem"
      ],
      "execution_count": 47,
      "outputs": [
        {
          "output_type": "stream",
          "name": "stderr",
          "text": [
            "/usr/local/lib/python3.7/dist-packages/sklearn/metrics/_classification.py:1308: UndefinedMetricWarning: Precision and F-score are ill-defined and being set to 0.0 in labels with no predicted samples. Use `zero_division` parameter to control this behavior.\n",
            "  _warn_prf(average, modifier, msg_start, len(result))\n"
          ]
        },
        {
          "output_type": "execute_result",
          "data": {
            "text/plain": [
              "(array([0.        , 0.70595383, 0.        ]),\n",
              " array([0., 1., 0.]),\n",
              " array([0.        , 0.82763533, 0.        ]),\n",
              " array([  3, 581, 239]))"
            ]
          },
          "metadata": {},
          "execution_count": 47
        }
      ]
    },
    {
      "cell_type": "markdown",
      "metadata": {
        "id": "BcS0hFPLbpSA"
      },
      "source": [
        "Next, we will use **Adaboost**. We will yet again start with Davidson dataset. "
      ]
    },
    {
      "cell_type": "code",
      "metadata": {
        "colab": {
          "base_uri": "https://localhost:8080/"
        },
        "id": "ss1DMbStbxJS",
        "outputId": "a80d1e03-cede-4f6f-c06c-67c05cdf6b96"
      },
      "source": [
        "adaboost_metrics_davidson = adaboost_classifier(df_davidson, labels_davidson, label_davidson)\n",
        "adaboost_metrics_davidson"
      ],
      "execution_count": 48,
      "outputs": [
        {
          "output_type": "execute_result",
          "data": {
            "text/plain": [
              "(array([0.56363636, 0.78590934, 0.        ]),\n",
              " array([0.15656566, 0.99172984, 0.        ]),\n",
              " array([0.24505929, 0.87690433, 0.        ]),\n",
              " array([ 396, 5804, 1235]))"
            ]
          },
          "metadata": {},
          "execution_count": 48
        }
      ]
    },
    {
      "cell_type": "markdown",
      "metadata": {
        "id": "H4p7ZAmbb9kF"
      },
      "source": [
        "Next, **Waseem**."
      ]
    },
    {
      "cell_type": "code",
      "metadata": {
        "colab": {
          "base_uri": "https://localhost:8080/"
        },
        "id": "p69rydYWb_5a",
        "outputId": "77eefc67-ef74-4822-b446-6efc7c5b04b3"
      },
      "source": [
        "adaboost_metrics_waseem = adaboost_classifier(df_waseem, labels_waseem, label_waseem)\n",
        "adaboost_metrics_waseem"
      ],
      "execution_count": 49,
      "outputs": [
        {
          "output_type": "stream",
          "name": "stderr",
          "text": [
            "/usr/local/lib/python3.7/dist-packages/sklearn/metrics/_classification.py:1308: UndefinedMetricWarning: Precision and F-score are ill-defined and being set to 0.0 in labels with no predicted samples. Use `zero_division` parameter to control this behavior.\n",
            "  _warn_prf(average, modifier, msg_start, len(result))\n"
          ]
        },
        {
          "output_type": "execute_result",
          "data": {
            "text/plain": [
              "(array([0.        , 0.68651276, 0.        ]),\n",
              " array([0., 1., 0.]),\n",
              " array([0.        , 0.81412104, 0.        ]),\n",
              " array([  4, 565, 254]))"
            ]
          },
          "metadata": {},
          "execution_count": 49
        }
      ]
    },
    {
      "cell_type": "markdown",
      "metadata": {
        "id": "QI-PGGCfcO6O"
      },
      "source": [
        "Next, we will use **Logistic Regression** similarly to to what they did in the paper. We will start with **Davidson** data. "
      ]
    },
    {
      "cell_type": "code",
      "metadata": {
        "colab": {
          "base_uri": "https://localhost:8080/"
        },
        "id": "nqv-n-C0ca-Y",
        "outputId": "40bf6659-8a95-4260-9d80-92f920607cb9"
      },
      "source": [
        "log_reg_metrics_davidson = logisitic_regression_classifier(df_davidson, labels_davidson, label_davidson)\n",
        "log_reg_metrics_davidson"
      ],
      "execution_count": 50,
      "outputs": [
        {
          "output_type": "stream",
          "name": "stderr",
          "text": [
            "/usr/local/lib/python3.7/dist-packages/sklearn/linear_model/_logistic.py:818: ConvergenceWarning: lbfgs failed to converge (status=1):\n",
            "STOP: TOTAL NO. of ITERATIONS REACHED LIMIT.\n",
            "\n",
            "Increase the number of iterations (max_iter) or scale the data as shown in:\n",
            "    https://scikit-learn.org/stable/modules/preprocessing.html\n",
            "Please also refer to the documentation for alternative solver options:\n",
            "    https://scikit-learn.org/stable/modules/linear_model.html#logistic-regression\n",
            "  extra_warning_msg=_LOGISTIC_SOLVER_CONVERGENCE_MSG,\n",
            "/usr/local/lib/python3.7/dist-packages/sklearn/metrics/_classification.py:1308: UndefinedMetricWarning: Precision and F-score are ill-defined and being set to 0.0 in labels with no predicted samples. Use `zero_division` parameter to control this behavior.\n",
            "  _warn_prf(average, modifier, msg_start, len(result))\n"
          ]
        },
        {
          "output_type": "execute_result",
          "data": {
            "text/plain": [
              "(array([0.52857143, 0.77528853, 0.        ]),\n",
              " array([0.08624709, 0.99425387, 0.        ]),\n",
              " array([0.14829659, 0.87122368, 0.        ]),\n",
              " array([ 429, 5743, 1263]))"
            ]
          },
          "metadata": {},
          "execution_count": 50
        }
      ]
    },
    {
      "cell_type": "markdown",
      "metadata": {
        "id": "dujr5BrRcls-"
      },
      "source": [
        "And **Waseem**:"
      ]
    },
    {
      "cell_type": "code",
      "metadata": {
        "colab": {
          "base_uri": "https://localhost:8080/"
        },
        "id": "uqc9Hfj3cp5W",
        "outputId": "9711ed83-b00a-497f-ee4b-0b6b74e77e98"
      },
      "source": [
        "log_reg_metrics_waseem = logisitic_regression_classifier(df_waseem, labels_waseem, label_waseem)\n",
        "log_reg_metrics_waseem"
      ],
      "execution_count": 51,
      "outputs": [
        {
          "output_type": "stream",
          "name": "stderr",
          "text": [
            "/usr/local/lib/python3.7/dist-packages/sklearn/metrics/_classification.py:1308: UndefinedMetricWarning: Precision and F-score are ill-defined and being set to 0.0 in labels with no predicted samples. Use `zero_division` parameter to control this behavior.\n",
            "  _warn_prf(average, modifier, msg_start, len(result))\n"
          ]
        },
        {
          "output_type": "execute_result",
          "data": {
            "text/plain": [
              "(array([0.        , 0.70473876, 0.        ]),\n",
              " array([0., 1., 0.]),\n",
              " array([0.        , 0.82679971, 0.        ]),\n",
              " array([  5, 580, 238]))"
            ]
          },
          "metadata": {},
          "execution_count": 51
        }
      ]
    },
    {
      "cell_type": "markdown",
      "metadata": {
        "id": "TtxWK_h3HdSE"
      },
      "source": [
        "Now we will train the models using **Linear Regression**. We will start with the **Davidson** dataset. Remember that metrics for Logistic Regression that we used are MSE, R2 score and RMSE."
      ]
    },
    {
      "cell_type": "code",
      "metadata": {
        "colab": {
          "base_uri": "https://localhost:8080/"
        },
        "id": "aI6j0mMrHnlt",
        "outputId": "ce87a03b-fe07-4ffb-e33a-0a3f0cd7949a"
      },
      "source": [
        "lin_reg_metrics_davidson = linear_regression_classifier(df_davidson, labels_davidson, label_davidson)\n",
        "lin_reg_metrics_davidson"
      ],
      "execution_count": 52,
      "outputs": [
        {
          "output_type": "execute_result",
          "data": {
            "text/plain": [
              "[0.20001240172145027, 0.05716703224558828, 0.4472274608311192]"
            ]
          },
          "metadata": {},
          "execution_count": 52
        }
      ]
    },
    {
      "cell_type": "markdown",
      "metadata": {
        "id": "e4nAalMpK26n"
      },
      "source": [
        "And now on **Waseem** dataset. "
      ]
    },
    {
      "cell_type": "code",
      "metadata": {
        "colab": {
          "base_uri": "https://localhost:8080/"
        },
        "id": "TSA8YogtLCuC",
        "outputId": "6d146647-b60b-405b-a820-af5cc775b6a9"
      },
      "source": [
        "lin_reg_metrics_waseem = linear_regression_classifier(df_waseem, labels_waseem, label_waseem)\n",
        "lin_reg_metrics_waseem"
      ],
      "execution_count": 53,
      "outputs": [
        {
          "output_type": "execute_result",
          "data": {
            "text/plain": [
              "[0.22000248923408885, -0.0010618720806427895, 0.46904422950729163]"
            ]
          },
          "metadata": {},
          "execution_count": 53
        }
      ]
    },
    {
      "cell_type": "markdown",
      "metadata": {
        "id": "rnM6XIGrIrWa"
      },
      "source": [
        "Next we will explore usage of **Random Forests** using **gini** index starting with **Davidson** dataset. "
      ]
    },
    {
      "cell_type": "code",
      "metadata": {
        "colab": {
          "base_uri": "https://localhost:8080/"
        },
        "id": "LDfDnNU8Iycw",
        "outputId": "7fb4069a-9a4d-4fd0-e551-c485f23379d5"
      },
      "source": [
        "rf_gini_metrics_davidson = random_forest_classifier_gini(df_davidson, labels_davidson, label_davidson)\n",
        "rf_gini_metrics_davidson"
      ],
      "execution_count": 54,
      "outputs": [
        {
          "output_type": "stream",
          "name": "stderr",
          "text": [
            "/usr/local/lib/python3.7/dist-packages/sklearn/metrics/_classification.py:1308: UndefinedMetricWarning: Precision and F-score are ill-defined and being set to 0.0 in labels with no predicted samples. Use `zero_division` parameter to control this behavior.\n",
            "  _warn_prf(average, modifier, msg_start, len(result))\n"
          ]
        },
        {
          "output_type": "execute_result",
          "data": {
            "text/plain": [
              "(array([0.54545455, 0.78027331, 0.        ]),\n",
              " array([0.05825243, 0.99654398, 0.        ]),\n",
              " array([0.10526316, 0.87524662, 0.        ]),\n",
              " array([ 412, 5787, 1236]))"
            ]
          },
          "metadata": {},
          "execution_count": 54
        }
      ]
    },
    {
      "cell_type": "markdown",
      "metadata": {
        "id": "6MbpJyKHJ6c6"
      },
      "source": [
        "... and now using **entropy**. "
      ]
    },
    {
      "cell_type": "code",
      "metadata": {
        "colab": {
          "base_uri": "https://localhost:8080/"
        },
        "id": "UC0DlNHgJ_RJ",
        "outputId": "40b772cf-0c0f-4bb0-9f9f-b644700bdb84"
      },
      "source": [
        "rf_entropy_metrics_davidson = random_forest_classifier_entropy(df_davidson, labels_davidson, label_davidson)\n",
        "rf_entropy_metrics_davidson"
      ],
      "execution_count": 55,
      "outputs": [
        {
          "output_type": "stream",
          "name": "stderr",
          "text": [
            "/usr/local/lib/python3.7/dist-packages/sklearn/metrics/_classification.py:1308: UndefinedMetricWarning: Precision and F-score are ill-defined and being set to 0.0 in labels with no predicted samples. Use `zero_division` parameter to control this behavior.\n",
            "  _warn_prf(average, modifier, msg_start, len(result))\n"
          ]
        },
        {
          "output_type": "execute_result",
          "data": {
            "text/plain": [
              "(array([0.56122449, 0.78001908, 0.        ]),\n",
              " array([0.1241535 , 0.99271466, 0.        ]),\n",
              " array([0.20332717, 0.87360708, 0.        ]),\n",
              " array([ 443, 5765, 1227]))"
            ]
          },
          "metadata": {},
          "execution_count": 55
        }
      ]
    },
    {
      "cell_type": "markdown",
      "metadata": {
        "id": "VyadR7aAKOh1"
      },
      "source": [
        "We will proceed to do the same on the **Waseem** dataset now starting out with using **Random Forest**, **gini** index criterion method. "
      ]
    },
    {
      "cell_type": "code",
      "metadata": {
        "colab": {
          "base_uri": "https://localhost:8080/"
        },
        "id": "DdFEZq3nKZ00",
        "outputId": "8bb359de-eedb-41e2-ad9a-3823fd07e287"
      },
      "source": [
        "rf_gini_metrics_waseem = random_forest_classifier_gini(df_waseem, labels_waseem, label_waseem)\n",
        "rf_gini_metrics_waseem"
      ],
      "execution_count": 56,
      "outputs": [
        {
          "output_type": "stream",
          "name": "stderr",
          "text": [
            "/usr/local/lib/python3.7/dist-packages/sklearn/metrics/_classification.py:1308: UndefinedMetricWarning: Precision and F-score are ill-defined and being set to 0.0 in labels with no predicted samples. Use `zero_division` parameter to control this behavior.\n",
            "  _warn_prf(average, modifier, msg_start, len(result))\n"
          ]
        },
        {
          "output_type": "execute_result",
          "data": {
            "text/plain": [
              "(array([0.        , 0.72506083, 0.        ]),\n",
              " array([0.        , 0.99832496, 0.        ]),\n",
              " array([0.        , 0.84002819, 0.        ]),\n",
              " array([  4, 597, 222]))"
            ]
          },
          "metadata": {},
          "execution_count": 56
        }
      ]
    },
    {
      "cell_type": "markdown",
      "metadata": {
        "id": "KSI2asmNKi1V"
      },
      "source": [
        "... and now **entropy**."
      ]
    },
    {
      "cell_type": "code",
      "metadata": {
        "colab": {
          "base_uri": "https://localhost:8080/"
        },
        "id": "parTmBCUKniu",
        "outputId": "7e623340-88e1-491d-d754-95fdceeb37ff"
      },
      "source": [
        "rf_entropy_metrics_waseem = random_forest_classifier_entropy(df_waseem, labels_waseem, label_waseem)\n",
        "rf_entropy_metrics_waseem"
      ],
      "execution_count": 57,
      "outputs": [
        {
          "output_type": "stream",
          "name": "stderr",
          "text": [
            "/usr/local/lib/python3.7/dist-packages/sklearn/metrics/_classification.py:1308: UndefinedMetricWarning: Precision and F-score are ill-defined and being set to 0.0 in labels with no predicted samples. Use `zero_division` parameter to control this behavior.\n",
            "  _warn_prf(average, modifier, msg_start, len(result))\n"
          ]
        },
        {
          "output_type": "execute_result",
          "data": {
            "text/plain": [
              "(array([0.73147023, 0.        ]),\n",
              " array([1., 0.]),\n",
              " array([0.84491228, 0.        ]),\n",
              " array([602, 221]))"
            ]
          },
          "metadata": {},
          "execution_count": 57
        }
      ]
    },
    {
      "cell_type": "markdown",
      "metadata": {
        "id": "utxXluTuomYY"
      },
      "source": [
        "Now, let's look at **K Means** with **Davidson** dataset with k = 3. "
      ]
    },
    {
      "cell_type": "code",
      "metadata": {
        "colab": {
          "base_uri": "https://localhost:8080/"
        },
        "id": "TU43_NFkotAb",
        "outputId": "eec1e152-1884-4037-cadb-19497c6c5877"
      },
      "source": [
        "kmeans_metrics_davidson_k_3 = k_means_cluster(df_davidson, labels_davidson, label_davidson, 3)\n",
        "kmeans_metrics_davidson_k_3"
      ],
      "execution_count": 68,
      "outputs": [
        {
          "output_type": "execute_result",
          "data": {
            "text/plain": [
              "(array([0.04349027, 0.49295775, 0.        ]),\n",
              " array([0.77777778, 0.00603969, 0.        ]),\n",
              " array([0.08237448, 0.01193317, 0.        ]),\n",
              " array([ 405, 5795, 1235]))"
            ]
          },
          "metadata": {},
          "execution_count": 68
        }
      ]
    },
    {
      "cell_type": "markdown",
      "metadata": {
        "id": "aN1YSmK1qjyk"
      },
      "source": [
        "Let's try k = 5 now."
      ]
    },
    {
      "cell_type": "code",
      "metadata": {
        "colab": {
          "base_uri": "https://localhost:8080/"
        },
        "id": "L2-vcJnUqocW",
        "outputId": "e91061e7-c617-4897-bf44-5445a53a30ac"
      },
      "source": [
        "kmeans_metrics_davidson_k_5 = k_means_cluster(df_davidson, labels_davidson, label_davidson, 5)\n",
        "kmeans_metrics_davidson_k_5"
      ],
      "execution_count": 69,
      "outputs": [
        {
          "output_type": "stream",
          "name": "stderr",
          "text": [
            "/usr/local/lib/python3.7/dist-packages/sklearn/metrics/_classification.py:1308: UndefinedMetricWarning: Recall and F-score are ill-defined and being set to 0.0 in labels with no true samples. Use `zero_division` parameter to control this behavior.\n",
            "  _warn_prf(average, modifier, msg_start, len(result))\n"
          ]
        },
        {
          "output_type": "execute_result",
          "data": {
            "text/plain": [
              "(array([0.65625   , 0.78886569, 0.        , 0.        , 0.        ]),\n",
              " array([0.04941176, 0.97707292, 0.        , 0.        , 0.        ]),\n",
              " array([0.09190372, 0.87294009, 0.        , 0.        , 0.        ]),\n",
              " array([ 425, 5801, 1209,    0,    0]))"
            ]
          },
          "metadata": {},
          "execution_count": 69
        }
      ]
    },
    {
      "cell_type": "markdown",
      "metadata": {
        "id": "rBVEygm8qyuI"
      },
      "source": [
        "We will try **K Means** with **Waseem** now with k = 3. "
      ]
    },
    {
      "cell_type": "code",
      "metadata": {
        "colab": {
          "base_uri": "https://localhost:8080/"
        },
        "id": "bllzbCOeq868",
        "outputId": "23fa5f34-f3f9-41f7-e446-55d003f6e940"
      },
      "source": [
        "kmeans_metrics_waseem_k_3 = k_means_cluster(df_waseem, labels_waseem, label_waseem, 3)\n",
        "kmeans_metrics_waseem_k_3"
      ],
      "execution_count": 70,
      "outputs": [
        {
          "output_type": "stream",
          "name": "stderr",
          "text": [
            "/usr/local/lib/python3.7/dist-packages/sklearn/metrics/_classification.py:1308: UndefinedMetricWarning: Precision and F-score are ill-defined and being set to 0.0 in labels with no predicted samples. Use `zero_division` parameter to control this behavior.\n",
            "  _warn_prf(average, modifier, msg_start, len(result))\n"
          ]
        },
        {
          "output_type": "execute_result",
          "data": {
            "text/plain": [
              "(array([0.00609756, 0.66666667, 0.        ]),\n",
              " array([1.       , 0.0035524, 0.       ]),\n",
              " array([0.01212121, 0.00706714, 0.        ]),\n",
              " array([  5, 563, 255]))"
            ]
          },
          "metadata": {},
          "execution_count": 70
        }
      ]
    },
    {
      "cell_type": "markdown",
      "metadata": {
        "id": "D9diBICUrKDM"
      },
      "source": [
        "... and now with k = 2. Could not do 5 as we did for Davidson because number of distinct clusters is smaller than 5."
      ]
    },
    {
      "cell_type": "code",
      "metadata": {
        "colab": {
          "base_uri": "https://localhost:8080/"
        },
        "id": "ghv3iG1MrMv8",
        "outputId": "96e78dc4-80f5-43f3-d7f3-dde7ba9ed673"
      },
      "source": [
        "kmeans_metrics_waseem_k_2 = k_means_cluster(df_waseem, labels_waseem, label_waseem, 2)\n",
        "kmeans_metrics_waseem_k_2"
      ],
      "execution_count": 74,
      "outputs": [
        {
          "output_type": "stream",
          "name": "stderr",
          "text": [
            "/usr/local/lib/python3.7/dist-packages/sklearn/metrics/_classification.py:1308: UndefinedMetricWarning: Precision and F-score are ill-defined and being set to 0.0 in labels with no predicted samples. Use `zero_division` parameter to control this behavior.\n",
            "  _warn_prf(average, modifier, msg_start, len(result))\n"
          ]
        },
        {
          "output_type": "execute_result",
          "data": {
            "text/plain": [
              "(array([0.00731707, 0.33333333, 0.        ]),\n",
              " array([1.        , 0.00170068, 0.        ]),\n",
              " array([0.01452785, 0.00338409, 0.        ]),\n",
              " array([  6, 588, 229]))"
            ]
          },
          "metadata": {},
          "execution_count": 74
        }
      ]
    },
    {
      "cell_type": "code",
      "metadata": {
        "id": "66DIIcPHyS7P"
      },
      "source": [
        "device_name = 'cpu'\n",
        "basic_cnn_accuracy = get_model_accuracy(\"BasicCNNClassifier\", device_name=device_name)\n",
        "basic_cnn_accuracy"
      ],
      "execution_count": null,
      "outputs": []
    },
    {
      "cell_type": "code",
      "metadata": {
        "id": "QWl7wnOXjhI_"
      },
      "source": [
        "# TODO (all): talk on why it has no chance to work well on Waseem because of the bag of words vs dataset relationship here."
      ],
      "execution_count": 58,
      "outputs": []
    },
    {
      "cell_type": "code",
      "metadata": {
        "id": "PHDkwqVtlHsf"
      },
      "source": [
        "# TODO (all): remember to update this section after you add new models above / preprocess data differently "
      ],
      "execution_count": 59,
      "outputs": []
    },
    {
      "cell_type": "markdown",
      "metadata": {
        "id": "VBvjkKJYQTAb"
      },
      "source": [
        "# Confusion Matrices & Heatmaps"
      ]
    },
    {
      "cell_type": "markdown",
      "metadata": {
        "id": "02G3codNTa9Y"
      },
      "source": [
        "#### confusion_matrix_func takes in y_true, y_predicted, label names and model name and displays confusion matrix for given predictions. We ran that function on all of the predictions made in order to visualize how our predictions are doing for different models in comparison to each other. "
      ]
    },
    {
      "cell_type": "code",
      "metadata": {
        "id": "EM7_NjjpxAS1"
      },
      "source": [
        "import seaborn as sns\n",
        "from sklearn.metrics import confusion_matrix\n",
        "import matplotlib.pyplot as plt\n",
        "def confusion_matrix_func(y_true, y_predicted, labels, model_name_title, figsize = (10,10)):\n",
        "    cm = confusion_matrix(y_true, y_predicted)\n",
        "    cm = pd.DataFrame(cm, index=labels, columns=labels)\n",
        "    cm.index.name = 'Actual'\n",
        "    cm.columns.name = 'Predicted'\n",
        "    plt.figure(figsize=figsize)\n",
        "    sns.heatmap(cm, annot = cm)\n",
        "    plt.title(model_name_title)\n",
        "    plt.show()"
      ],
      "execution_count": 60,
      "outputs": []
    },
    {
      "cell_type": "code",
      "metadata": {
        "colab": {
          "base_uri": "https://localhost:8080/",
          "height": 198
        },
        "id": "2ip0aONU19m2",
        "outputId": "127fd7d2-1936-4f42-950f-65295d11fbd0"
      },
      "source": [
        "# TODO (Zuzanna): fix this\n",
        "labels_for_cm = [\"hate_speech\", \"offensive_language\", \"neither\"]\n",
        "confusion_matrix_func(y_test_decision, decision_tree_preds, labels_for_cm, \"Confusion matrix for decision tree:\")"
      ],
      "execution_count": 61,
      "outputs": [
        {
          "output_type": "error",
          "ename": "NameError",
          "evalue": "ignored",
          "traceback": [
            "\u001b[0;31m---------------------------------------------------------------------------\u001b[0m",
            "\u001b[0;31mNameError\u001b[0m                                 Traceback (most recent call last)",
            "\u001b[0;32m<ipython-input-61-3ef9bd732336>\u001b[0m in \u001b[0;36m<module>\u001b[0;34m()\u001b[0m\n\u001b[1;32m      1\u001b[0m \u001b[0;31m# TODO (Zuzanna): fix this\u001b[0m\u001b[0;34m\u001b[0m\u001b[0;34m\u001b[0m\u001b[0;34m\u001b[0m\u001b[0m\n\u001b[1;32m      2\u001b[0m \u001b[0mlabels_for_cm\u001b[0m \u001b[0;34m=\u001b[0m \u001b[0;34m[\u001b[0m\u001b[0;34m\"hate_speech\"\u001b[0m\u001b[0;34m,\u001b[0m \u001b[0;34m\"offensive_language\"\u001b[0m\u001b[0;34m,\u001b[0m \u001b[0;34m\"neither\"\u001b[0m\u001b[0;34m]\u001b[0m\u001b[0;34m\u001b[0m\u001b[0;34m\u001b[0m\u001b[0m\n\u001b[0;32m----> 3\u001b[0;31m \u001b[0mconfusion_matrix_func\u001b[0m\u001b[0;34m(\u001b[0m\u001b[0my_test_decision\u001b[0m\u001b[0;34m,\u001b[0m \u001b[0mdecision_tree_preds\u001b[0m\u001b[0;34m,\u001b[0m \u001b[0mlabels_for_cm\u001b[0m\u001b[0;34m,\u001b[0m \u001b[0;34m\"Confusion matrix for decision tree:\"\u001b[0m\u001b[0;34m)\u001b[0m\u001b[0;34m\u001b[0m\u001b[0;34m\u001b[0m\u001b[0m\n\u001b[0m",
            "\u001b[0;31mNameError\u001b[0m: name 'y_test_decision' is not defined"
          ]
        }
      ]
    },
    {
      "cell_type": "code",
      "metadata": {
        "id": "rrvG-tmn2Bis"
      },
      "source": [
        "confusion_matrix_func(y_test_adaboost, adaboost_preds, labels_for_cm, \"Confusion matrix for adaboost:\")"
      ],
      "execution_count": null,
      "outputs": []
    },
    {
      "cell_type": "code",
      "metadata": {
        "id": "YsJ-VpXX4JCy"
      },
      "source": [
        "confusion_matrix_func(y_test_logisitic, logistic_preds, labels_for_cm, \"Confusion matrix for logisitic regression:\")"
      ],
      "execution_count": null,
      "outputs": []
    },
    {
      "cell_type": "markdown",
      "metadata": {
        "id": "ifh3UPZ4mNJo"
      },
      "source": [
        "# Data Analysis of the Results "
      ]
    },
    {
      "cell_type": "code",
      "metadata": {
        "id": "pPJT4L3dmQZc"
      },
      "source": [
        "# TODO (Zach): data analysis of the results"
      ],
      "execution_count": null,
      "outputs": []
    },
    {
      "cell_type": "code",
      "metadata": {
        "id": "hX3FatZvmUoy"
      },
      "source": [
        "# TODO (Zach): BERT in AWS (probably not in this notebook, add it separately on github but\n",
        "# include results in data analysis section on github)"
      ],
      "execution_count": null,
      "outputs": []
    },
    {
      "cell_type": "code",
      "metadata": {
        "id": "zc_xBlk2mgk3"
      },
      "source": [
        "# TODO (Zuzanna): Twitter AAE "
      ],
      "execution_count": null,
      "outputs": []
    }
  ]
}